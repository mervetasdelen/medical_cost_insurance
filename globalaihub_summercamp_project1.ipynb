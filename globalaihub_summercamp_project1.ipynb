{
  "nbformat": 4,
  "nbformat_minor": 0,
  "metadata": {
    "colab": {
      "name": "globalaihub_summercamp_project1",
      "provenance": [],
      "collapsed_sections": [],
      "authorship_tag": "ABX9TyNC0PjVcyemGKmYiqxCEmLr",
      "include_colab_link": true
    },
    "kernelspec": {
      "name": "python3",
      "display_name": "Python 3"
    },
    "language_info": {
      "name": "python"
    }
  },
  "cells": [
    {
      "cell_type": "markdown",
      "metadata": {
        "id": "view-in-github",
        "colab_type": "text"
      },
      "source": [
        "<a href=\"https://colab.research.google.com/github/mervetasdelen/medical_cost_insurance/blob/main/globalaihub_summercamp_project1.ipynb\" target=\"_parent\"><img src=\"https://colab.research.google.com/assets/colab-badge.svg\" alt=\"Open In Colab\"/></a>"
      ]
    },
    {
      "cell_type": "markdown",
      "source": [
        "# **Medikal Maliyet Analizi**\n",
        "\n",
        "Bu projede, yukarıda verilen veri setini kullanarak uçtan uca bir veri bilimi uygulaması\n",
        "geliştirmeye çalışılacaktır. Projenin amacı, verilen değişkenlere göre bir kişinin sağlık\n",
        "sigortasının yaklaşık ne kadar masraflı olacagını tahmin etmektir."
      ],
      "metadata": {
        "id": "URJu-pRk9zJj"
      }
    },
    {
      "cell_type": "markdown",
      "source": [
        "**2.Gerekli Kütüphanelerin Eklenmesi**"
      ],
      "metadata": {
        "id": "flAXfKS1977c"
      }
    },
    {
      "cell_type": "code",
      "execution_count": null,
      "metadata": {
        "id": "6-nttJgwJlgh"
      },
      "outputs": [],
      "source": [
        "import pandas as pd\n",
        "import seaborn as sns\n",
        "import numpy as np\n",
        "import matplotlib.pyplot as plt\n",
        "from sklearn.linear_model import LinearRegression\n",
        "from sklearn.metrics import mean_squared_error\n",
        "from sklearn.model_selection import train_test_split\n",
        "from sklearn.linear_model import Ridge\n",
        "from sklearn.metrics import r2_score\n",
        "from sklearn import model_selection\n",
        "from sklearn.linear_model import RidgeCV\n",
        "from sklearn.linear_model import LassoCV\n",
        "from sklearn.linear_model import Lasso\n",
        "from sklearn.linear_model import ElasticNet\n",
        "from sklearn.model_selection import GridSearchCV\n",
        "from sklearn.preprocessing import scale\n",
        "from sklearn.preprocessing import StandardScaler\n",
        "from sklearn.tree import DecisionTreeRegressor\n",
        "from sklearn.neighbors import KNeighborsRegressor\n",
        "from sklearn.neural_network import MLPRegressor\n",
        "from sklearn.ensemble import RandomForestRegressor\n",
        "from sklearn.ensemble import GradientBoostingRegressor\n",
        "from lightgbm import LGBMRegressor\n",
        "from sklearn import neighbors\n",
        "from sklearn.svm import SVR\n",
        "from sklearn.preprocessing import LabelEncoder\n",
        "from sklearn import preprocessing\n",
        "from sklearn.model_selection import cross_val_score\n",
        "import random\n",
        "import warnings\n",
        "warnings.filterwarnings('ignore')\n",
        "warnings.simplefilter(action='ignore', category=FutureWarning)"
      ]
    },
    {
      "cell_type": "code",
      "source": [
        "#dataseti yükledik\n",
        "data = pd.read_csv('/content/insurance.csv')"
      ],
      "metadata": {
        "id": "y85Xl1aOLdB-"
      },
      "execution_count": null,
      "outputs": []
    },
    {
      "cell_type": "code",
      "source": [
        "#değişkenlere bakıyoruz, datayı öncesinde kopyaladık\n",
        "df = data.copy()\n",
        "df.head(10)"
      ],
      "metadata": {
        "colab": {
          "base_uri": "https://localhost:8080/",
          "height": 363
        },
        "id": "P1P0j1FBLc62",
        "outputId": "0bcdda43-fe34-4bae-9694-f82a786257f0"
      },
      "execution_count": null,
      "outputs": [
        {
          "output_type": "execute_result",
          "data": {
            "text/plain": [
              "   age     sex     bmi  children smoker     region      charges\n",
              "0   19  female  27.900         0    yes  southwest  16884.92400\n",
              "1   18    male  33.770         1     no  southeast   1725.55230\n",
              "2   28    male  33.000         3     no  southeast   4449.46200\n",
              "3   33    male  22.705         0     no  northwest  21984.47061\n",
              "4   32    male  28.880         0     no  northwest   3866.85520\n",
              "5   31  female  25.740         0     no  southeast   3756.62160\n",
              "6   46  female  33.440         1     no  southeast   8240.58960\n",
              "7   37  female  27.740         3     no  northwest   7281.50560\n",
              "8   37    male  29.830         2     no  northeast   6406.41070\n",
              "9   60  female  25.840         0     no  northwest  28923.13692"
            ],
            "text/html": [
              "\n",
              "  <div id=\"df-290b1d35-cd05-4d6b-9be0-b1178ac74513\">\n",
              "    <div class=\"colab-df-container\">\n",
              "      <div>\n",
              "<style scoped>\n",
              "    .dataframe tbody tr th:only-of-type {\n",
              "        vertical-align: middle;\n",
              "    }\n",
              "\n",
              "    .dataframe tbody tr th {\n",
              "        vertical-align: top;\n",
              "    }\n",
              "\n",
              "    .dataframe thead th {\n",
              "        text-align: right;\n",
              "    }\n",
              "</style>\n",
              "<table border=\"1\" class=\"dataframe\">\n",
              "  <thead>\n",
              "    <tr style=\"text-align: right;\">\n",
              "      <th></th>\n",
              "      <th>age</th>\n",
              "      <th>sex</th>\n",
              "      <th>bmi</th>\n",
              "      <th>children</th>\n",
              "      <th>smoker</th>\n",
              "      <th>region</th>\n",
              "      <th>charges</th>\n",
              "    </tr>\n",
              "  </thead>\n",
              "  <tbody>\n",
              "    <tr>\n",
              "      <th>0</th>\n",
              "      <td>19</td>\n",
              "      <td>female</td>\n",
              "      <td>27.900</td>\n",
              "      <td>0</td>\n",
              "      <td>yes</td>\n",
              "      <td>southwest</td>\n",
              "      <td>16884.92400</td>\n",
              "    </tr>\n",
              "    <tr>\n",
              "      <th>1</th>\n",
              "      <td>18</td>\n",
              "      <td>male</td>\n",
              "      <td>33.770</td>\n",
              "      <td>1</td>\n",
              "      <td>no</td>\n",
              "      <td>southeast</td>\n",
              "      <td>1725.55230</td>\n",
              "    </tr>\n",
              "    <tr>\n",
              "      <th>2</th>\n",
              "      <td>28</td>\n",
              "      <td>male</td>\n",
              "      <td>33.000</td>\n",
              "      <td>3</td>\n",
              "      <td>no</td>\n",
              "      <td>southeast</td>\n",
              "      <td>4449.46200</td>\n",
              "    </tr>\n",
              "    <tr>\n",
              "      <th>3</th>\n",
              "      <td>33</td>\n",
              "      <td>male</td>\n",
              "      <td>22.705</td>\n",
              "      <td>0</td>\n",
              "      <td>no</td>\n",
              "      <td>northwest</td>\n",
              "      <td>21984.47061</td>\n",
              "    </tr>\n",
              "    <tr>\n",
              "      <th>4</th>\n",
              "      <td>32</td>\n",
              "      <td>male</td>\n",
              "      <td>28.880</td>\n",
              "      <td>0</td>\n",
              "      <td>no</td>\n",
              "      <td>northwest</td>\n",
              "      <td>3866.85520</td>\n",
              "    </tr>\n",
              "    <tr>\n",
              "      <th>5</th>\n",
              "      <td>31</td>\n",
              "      <td>female</td>\n",
              "      <td>25.740</td>\n",
              "      <td>0</td>\n",
              "      <td>no</td>\n",
              "      <td>southeast</td>\n",
              "      <td>3756.62160</td>\n",
              "    </tr>\n",
              "    <tr>\n",
              "      <th>6</th>\n",
              "      <td>46</td>\n",
              "      <td>female</td>\n",
              "      <td>33.440</td>\n",
              "      <td>1</td>\n",
              "      <td>no</td>\n",
              "      <td>southeast</td>\n",
              "      <td>8240.58960</td>\n",
              "    </tr>\n",
              "    <tr>\n",
              "      <th>7</th>\n",
              "      <td>37</td>\n",
              "      <td>female</td>\n",
              "      <td>27.740</td>\n",
              "      <td>3</td>\n",
              "      <td>no</td>\n",
              "      <td>northwest</td>\n",
              "      <td>7281.50560</td>\n",
              "    </tr>\n",
              "    <tr>\n",
              "      <th>8</th>\n",
              "      <td>37</td>\n",
              "      <td>male</td>\n",
              "      <td>29.830</td>\n",
              "      <td>2</td>\n",
              "      <td>no</td>\n",
              "      <td>northeast</td>\n",
              "      <td>6406.41070</td>\n",
              "    </tr>\n",
              "    <tr>\n",
              "      <th>9</th>\n",
              "      <td>60</td>\n",
              "      <td>female</td>\n",
              "      <td>25.840</td>\n",
              "      <td>0</td>\n",
              "      <td>no</td>\n",
              "      <td>northwest</td>\n",
              "      <td>28923.13692</td>\n",
              "    </tr>\n",
              "  </tbody>\n",
              "</table>\n",
              "</div>\n",
              "      <button class=\"colab-df-convert\" onclick=\"convertToInteractive('df-290b1d35-cd05-4d6b-9be0-b1178ac74513')\"\n",
              "              title=\"Convert this dataframe to an interactive table.\"\n",
              "              style=\"display:none;\">\n",
              "        \n",
              "  <svg xmlns=\"http://www.w3.org/2000/svg\" height=\"24px\"viewBox=\"0 0 24 24\"\n",
              "       width=\"24px\">\n",
              "    <path d=\"M0 0h24v24H0V0z\" fill=\"none\"/>\n",
              "    <path d=\"M18.56 5.44l.94 2.06.94-2.06 2.06-.94-2.06-.94-.94-2.06-.94 2.06-2.06.94zm-11 1L8.5 8.5l.94-2.06 2.06-.94-2.06-.94L8.5 2.5l-.94 2.06-2.06.94zm10 10l.94 2.06.94-2.06 2.06-.94-2.06-.94-.94-2.06-.94 2.06-2.06.94z\"/><path d=\"M17.41 7.96l-1.37-1.37c-.4-.4-.92-.59-1.43-.59-.52 0-1.04.2-1.43.59L10.3 9.45l-7.72 7.72c-.78.78-.78 2.05 0 2.83L4 21.41c.39.39.9.59 1.41.59.51 0 1.02-.2 1.41-.59l7.78-7.78 2.81-2.81c.8-.78.8-2.07 0-2.86zM5.41 20L4 18.59l7.72-7.72 1.47 1.35L5.41 20z\"/>\n",
              "  </svg>\n",
              "      </button>\n",
              "      \n",
              "  <style>\n",
              "    .colab-df-container {\n",
              "      display:flex;\n",
              "      flex-wrap:wrap;\n",
              "      gap: 12px;\n",
              "    }\n",
              "\n",
              "    .colab-df-convert {\n",
              "      background-color: #E8F0FE;\n",
              "      border: none;\n",
              "      border-radius: 50%;\n",
              "      cursor: pointer;\n",
              "      display: none;\n",
              "      fill: #1967D2;\n",
              "      height: 32px;\n",
              "      padding: 0 0 0 0;\n",
              "      width: 32px;\n",
              "    }\n",
              "\n",
              "    .colab-df-convert:hover {\n",
              "      background-color: #E2EBFA;\n",
              "      box-shadow: 0px 1px 2px rgba(60, 64, 67, 0.3), 0px 1px 3px 1px rgba(60, 64, 67, 0.15);\n",
              "      fill: #174EA6;\n",
              "    }\n",
              "\n",
              "    [theme=dark] .colab-df-convert {\n",
              "      background-color: #3B4455;\n",
              "      fill: #D2E3FC;\n",
              "    }\n",
              "\n",
              "    [theme=dark] .colab-df-convert:hover {\n",
              "      background-color: #434B5C;\n",
              "      box-shadow: 0px 1px 3px 1px rgba(0, 0, 0, 0.15);\n",
              "      filter: drop-shadow(0px 1px 2px rgba(0, 0, 0, 0.3));\n",
              "      fill: #FFFFFF;\n",
              "    }\n",
              "  </style>\n",
              "\n",
              "      <script>\n",
              "        const buttonEl =\n",
              "          document.querySelector('#df-290b1d35-cd05-4d6b-9be0-b1178ac74513 button.colab-df-convert');\n",
              "        buttonEl.style.display =\n",
              "          google.colab.kernel.accessAllowed ? 'block' : 'none';\n",
              "\n",
              "        async function convertToInteractive(key) {\n",
              "          const element = document.querySelector('#df-290b1d35-cd05-4d6b-9be0-b1178ac74513');\n",
              "          const dataTable =\n",
              "            await google.colab.kernel.invokeFunction('convertToInteractive',\n",
              "                                                     [key], {});\n",
              "          if (!dataTable) return;\n",
              "\n",
              "          const docLinkHtml = 'Like what you see? Visit the ' +\n",
              "            '<a target=\"_blank\" href=https://colab.research.google.com/notebooks/data_table.ipynb>data table notebook</a>'\n",
              "            + ' to learn more about interactive tables.';\n",
              "          element.innerHTML = '';\n",
              "          dataTable['output_type'] = 'display_data';\n",
              "          await google.colab.output.renderOutput(dataTable, element);\n",
              "          const docLink = document.createElement('div');\n",
              "          docLink.innerHTML = docLinkHtml;\n",
              "          element.appendChild(docLink);\n",
              "        }\n",
              "      </script>\n",
              "    </div>\n",
              "  </div>\n",
              "  "
            ]
          },
          "metadata": {},
          "execution_count": 148
        }
      ]
    },
    {
      "cell_type": "code",
      "source": [
        "print(f\"Rows: {df.shape[0]}\\nColumns: {df.shape[1]}\")"
      ],
      "metadata": {
        "colab": {
          "base_uri": "https://localhost:8080/"
        },
        "id": "bLsabJL8jLv-",
        "outputId": "1a1e887b-d40d-43e1-bcfc-46adaad89e74"
      },
      "execution_count": null,
      "outputs": [
        {
          "output_type": "stream",
          "name": "stdout",
          "text": [
            "Rows: 1338\n",
            "Columns: 7\n"
          ]
        }
      ]
    },
    {
      "cell_type": "code",
      "source": [
        "#düzenlememiz gereken data var mı diye kontrol ettik..? \n",
        "#soru 1: burada object bulunması problem mi?\n",
        "df.info()"
      ],
      "metadata": {
        "colab": {
          "base_uri": "https://localhost:8080/"
        },
        "id": "yTbJteqRMTp_",
        "outputId": "da3b0315-47d3-413a-a6a6-d54090600c0a"
      },
      "execution_count": null,
      "outputs": [
        {
          "output_type": "stream",
          "name": "stdout",
          "text": [
            "<class 'pandas.core.frame.DataFrame'>\n",
            "RangeIndex: 1338 entries, 0 to 1337\n",
            "Data columns (total 7 columns):\n",
            " #   Column    Non-Null Count  Dtype  \n",
            "---  ------    --------------  -----  \n",
            " 0   age       1338 non-null   int64  \n",
            " 1   sex       1338 non-null   object \n",
            " 2   bmi       1338 non-null   float64\n",
            " 3   children  1338 non-null   int64  \n",
            " 4   smoker    1338 non-null   object \n",
            " 5   region    1338 non-null   object \n",
            " 6   charges   1338 non-null   float64\n",
            "dtypes: float64(2), int64(2), object(3)\n",
            "memory usage: 73.3+ KB\n"
          ]
        }
      ]
    },
    {
      "cell_type": "code",
      "source": [
        "df.describe().T"
      ],
      "metadata": {
        "colab": {
          "base_uri": "https://localhost:8080/",
          "height": 175
        },
        "id": "4d6WEdBrMpgd",
        "outputId": "3bfa178e-d99a-4234-87fa-96504ba51583"
      },
      "execution_count": null,
      "outputs": [
        {
          "output_type": "execute_result",
          "data": {
            "text/plain": [
              "           count          mean           std        min         25%       50%  \\\n",
              "age       1338.0     39.207025     14.049960    18.0000    27.00000    39.000   \n",
              "bmi       1338.0     30.663397      6.098187    15.9600    26.29625    30.400   \n",
              "children  1338.0      1.094918      1.205493     0.0000     0.00000     1.000   \n",
              "charges   1338.0  13270.422265  12110.011237  1121.8739  4740.28715  9382.033   \n",
              "\n",
              "                   75%          max  \n",
              "age          51.000000     64.00000  \n",
              "bmi          34.693750     53.13000  \n",
              "children      2.000000      5.00000  \n",
              "charges   16639.912515  63770.42801  "
            ],
            "text/html": [
              "\n",
              "  <div id=\"df-9591471f-c4d0-4017-9c7a-5b1cb515a02a\">\n",
              "    <div class=\"colab-df-container\">\n",
              "      <div>\n",
              "<style scoped>\n",
              "    .dataframe tbody tr th:only-of-type {\n",
              "        vertical-align: middle;\n",
              "    }\n",
              "\n",
              "    .dataframe tbody tr th {\n",
              "        vertical-align: top;\n",
              "    }\n",
              "\n",
              "    .dataframe thead th {\n",
              "        text-align: right;\n",
              "    }\n",
              "</style>\n",
              "<table border=\"1\" class=\"dataframe\">\n",
              "  <thead>\n",
              "    <tr style=\"text-align: right;\">\n",
              "      <th></th>\n",
              "      <th>count</th>\n",
              "      <th>mean</th>\n",
              "      <th>std</th>\n",
              "      <th>min</th>\n",
              "      <th>25%</th>\n",
              "      <th>50%</th>\n",
              "      <th>75%</th>\n",
              "      <th>max</th>\n",
              "    </tr>\n",
              "  </thead>\n",
              "  <tbody>\n",
              "    <tr>\n",
              "      <th>age</th>\n",
              "      <td>1338.0</td>\n",
              "      <td>39.207025</td>\n",
              "      <td>14.049960</td>\n",
              "      <td>18.0000</td>\n",
              "      <td>27.00000</td>\n",
              "      <td>39.000</td>\n",
              "      <td>51.000000</td>\n",
              "      <td>64.00000</td>\n",
              "    </tr>\n",
              "    <tr>\n",
              "      <th>bmi</th>\n",
              "      <td>1338.0</td>\n",
              "      <td>30.663397</td>\n",
              "      <td>6.098187</td>\n",
              "      <td>15.9600</td>\n",
              "      <td>26.29625</td>\n",
              "      <td>30.400</td>\n",
              "      <td>34.693750</td>\n",
              "      <td>53.13000</td>\n",
              "    </tr>\n",
              "    <tr>\n",
              "      <th>children</th>\n",
              "      <td>1338.0</td>\n",
              "      <td>1.094918</td>\n",
              "      <td>1.205493</td>\n",
              "      <td>0.0000</td>\n",
              "      <td>0.00000</td>\n",
              "      <td>1.000</td>\n",
              "      <td>2.000000</td>\n",
              "      <td>5.00000</td>\n",
              "    </tr>\n",
              "    <tr>\n",
              "      <th>charges</th>\n",
              "      <td>1338.0</td>\n",
              "      <td>13270.422265</td>\n",
              "      <td>12110.011237</td>\n",
              "      <td>1121.8739</td>\n",
              "      <td>4740.28715</td>\n",
              "      <td>9382.033</td>\n",
              "      <td>16639.912515</td>\n",
              "      <td>63770.42801</td>\n",
              "    </tr>\n",
              "  </tbody>\n",
              "</table>\n",
              "</div>\n",
              "      <button class=\"colab-df-convert\" onclick=\"convertToInteractive('df-9591471f-c4d0-4017-9c7a-5b1cb515a02a')\"\n",
              "              title=\"Convert this dataframe to an interactive table.\"\n",
              "              style=\"display:none;\">\n",
              "        \n",
              "  <svg xmlns=\"http://www.w3.org/2000/svg\" height=\"24px\"viewBox=\"0 0 24 24\"\n",
              "       width=\"24px\">\n",
              "    <path d=\"M0 0h24v24H0V0z\" fill=\"none\"/>\n",
              "    <path d=\"M18.56 5.44l.94 2.06.94-2.06 2.06-.94-2.06-.94-.94-2.06-.94 2.06-2.06.94zm-11 1L8.5 8.5l.94-2.06 2.06-.94-2.06-.94L8.5 2.5l-.94 2.06-2.06.94zm10 10l.94 2.06.94-2.06 2.06-.94-2.06-.94-.94-2.06-.94 2.06-2.06.94z\"/><path d=\"M17.41 7.96l-1.37-1.37c-.4-.4-.92-.59-1.43-.59-.52 0-1.04.2-1.43.59L10.3 9.45l-7.72 7.72c-.78.78-.78 2.05 0 2.83L4 21.41c.39.39.9.59 1.41.59.51 0 1.02-.2 1.41-.59l7.78-7.78 2.81-2.81c.8-.78.8-2.07 0-2.86zM5.41 20L4 18.59l7.72-7.72 1.47 1.35L5.41 20z\"/>\n",
              "  </svg>\n",
              "      </button>\n",
              "      \n",
              "  <style>\n",
              "    .colab-df-container {\n",
              "      display:flex;\n",
              "      flex-wrap:wrap;\n",
              "      gap: 12px;\n",
              "    }\n",
              "\n",
              "    .colab-df-convert {\n",
              "      background-color: #E8F0FE;\n",
              "      border: none;\n",
              "      border-radius: 50%;\n",
              "      cursor: pointer;\n",
              "      display: none;\n",
              "      fill: #1967D2;\n",
              "      height: 32px;\n",
              "      padding: 0 0 0 0;\n",
              "      width: 32px;\n",
              "    }\n",
              "\n",
              "    .colab-df-convert:hover {\n",
              "      background-color: #E2EBFA;\n",
              "      box-shadow: 0px 1px 2px rgba(60, 64, 67, 0.3), 0px 1px 3px 1px rgba(60, 64, 67, 0.15);\n",
              "      fill: #174EA6;\n",
              "    }\n",
              "\n",
              "    [theme=dark] .colab-df-convert {\n",
              "      background-color: #3B4455;\n",
              "      fill: #D2E3FC;\n",
              "    }\n",
              "\n",
              "    [theme=dark] .colab-df-convert:hover {\n",
              "      background-color: #434B5C;\n",
              "      box-shadow: 0px 1px 3px 1px rgba(0, 0, 0, 0.15);\n",
              "      filter: drop-shadow(0px 1px 2px rgba(0, 0, 0, 0.3));\n",
              "      fill: #FFFFFF;\n",
              "    }\n",
              "  </style>\n",
              "\n",
              "      <script>\n",
              "        const buttonEl =\n",
              "          document.querySelector('#df-9591471f-c4d0-4017-9c7a-5b1cb515a02a button.colab-df-convert');\n",
              "        buttonEl.style.display =\n",
              "          google.colab.kernel.accessAllowed ? 'block' : 'none';\n",
              "\n",
              "        async function convertToInteractive(key) {\n",
              "          const element = document.querySelector('#df-9591471f-c4d0-4017-9c7a-5b1cb515a02a');\n",
              "          const dataTable =\n",
              "            await google.colab.kernel.invokeFunction('convertToInteractive',\n",
              "                                                     [key], {});\n",
              "          if (!dataTable) return;\n",
              "\n",
              "          const docLinkHtml = 'Like what you see? Visit the ' +\n",
              "            '<a target=\"_blank\" href=https://colab.research.google.com/notebooks/data_table.ipynb>data table notebook</a>'\n",
              "            + ' to learn more about interactive tables.';\n",
              "          element.innerHTML = '';\n",
              "          dataTable['output_type'] = 'display_data';\n",
              "          await google.colab.output.renderOutput(dataTable, element);\n",
              "          const docLink = document.createElement('div');\n",
              "          docLink.innerHTML = docLinkHtml;\n",
              "          element.appendChild(docLink);\n",
              "        }\n",
              "      </script>\n",
              "    </div>\n",
              "  </div>\n",
              "  "
            ]
          },
          "metadata": {},
          "execution_count": 151
        }
      ]
    },
    {
      "cell_type": "code",
      "source": [
        "#duplicate edilmiş veri var mı? \n",
        "#bir adet veri var bir sonraki aşamada bunu çıkaracağız çünkü sapmaya sebep olabilir\n",
        "display(df.duplicated().sum())"
      ],
      "metadata": {
        "colab": {
          "base_uri": "https://localhost:8080/",
          "height": 34
        },
        "id": "LYqPLPqXgZpE",
        "outputId": "7453baa2-0857-43ce-e3ce-88ebb9943ae8"
      },
      "execution_count": null,
      "outputs": [
        {
          "output_type": "display_data",
          "data": {
            "text/plain": [
              "1"
            ]
          },
          "metadata": {}
        }
      ]
    },
    {
      "cell_type": "code",
      "source": [
        "#duplicate edilmiş veriyi bulmak için kullanılan kısım\n",
        "df[df.duplicated()]"
      ],
      "metadata": {
        "colab": {
          "base_uri": "https://localhost:8080/",
          "height": 81
        },
        "id": "dZKOnCszh39b",
        "outputId": "4748fafc-e425-48b4-ecac-1ba73c810a38"
      },
      "execution_count": null,
      "outputs": [
        {
          "output_type": "execute_result",
          "data": {
            "text/plain": [
              "     age   sex    bmi  children smoker     region    charges\n",
              "581   19  male  30.59         0     no  northwest  1639.5631"
            ],
            "text/html": [
              "\n",
              "  <div id=\"df-dce800a2-9d20-4988-b1bc-599ddaaecc81\">\n",
              "    <div class=\"colab-df-container\">\n",
              "      <div>\n",
              "<style scoped>\n",
              "    .dataframe tbody tr th:only-of-type {\n",
              "        vertical-align: middle;\n",
              "    }\n",
              "\n",
              "    .dataframe tbody tr th {\n",
              "        vertical-align: top;\n",
              "    }\n",
              "\n",
              "    .dataframe thead th {\n",
              "        text-align: right;\n",
              "    }\n",
              "</style>\n",
              "<table border=\"1\" class=\"dataframe\">\n",
              "  <thead>\n",
              "    <tr style=\"text-align: right;\">\n",
              "      <th></th>\n",
              "      <th>age</th>\n",
              "      <th>sex</th>\n",
              "      <th>bmi</th>\n",
              "      <th>children</th>\n",
              "      <th>smoker</th>\n",
              "      <th>region</th>\n",
              "      <th>charges</th>\n",
              "    </tr>\n",
              "  </thead>\n",
              "  <tbody>\n",
              "    <tr>\n",
              "      <th>581</th>\n",
              "      <td>19</td>\n",
              "      <td>male</td>\n",
              "      <td>30.59</td>\n",
              "      <td>0</td>\n",
              "      <td>no</td>\n",
              "      <td>northwest</td>\n",
              "      <td>1639.5631</td>\n",
              "    </tr>\n",
              "  </tbody>\n",
              "</table>\n",
              "</div>\n",
              "      <button class=\"colab-df-convert\" onclick=\"convertToInteractive('df-dce800a2-9d20-4988-b1bc-599ddaaecc81')\"\n",
              "              title=\"Convert this dataframe to an interactive table.\"\n",
              "              style=\"display:none;\">\n",
              "        \n",
              "  <svg xmlns=\"http://www.w3.org/2000/svg\" height=\"24px\"viewBox=\"0 0 24 24\"\n",
              "       width=\"24px\">\n",
              "    <path d=\"M0 0h24v24H0V0z\" fill=\"none\"/>\n",
              "    <path d=\"M18.56 5.44l.94 2.06.94-2.06 2.06-.94-2.06-.94-.94-2.06-.94 2.06-2.06.94zm-11 1L8.5 8.5l.94-2.06 2.06-.94-2.06-.94L8.5 2.5l-.94 2.06-2.06.94zm10 10l.94 2.06.94-2.06 2.06-.94-2.06-.94-.94-2.06-.94 2.06-2.06.94z\"/><path d=\"M17.41 7.96l-1.37-1.37c-.4-.4-.92-.59-1.43-.59-.52 0-1.04.2-1.43.59L10.3 9.45l-7.72 7.72c-.78.78-.78 2.05 0 2.83L4 21.41c.39.39.9.59 1.41.59.51 0 1.02-.2 1.41-.59l7.78-7.78 2.81-2.81c.8-.78.8-2.07 0-2.86zM5.41 20L4 18.59l7.72-7.72 1.47 1.35L5.41 20z\"/>\n",
              "  </svg>\n",
              "      </button>\n",
              "      \n",
              "  <style>\n",
              "    .colab-df-container {\n",
              "      display:flex;\n",
              "      flex-wrap:wrap;\n",
              "      gap: 12px;\n",
              "    }\n",
              "\n",
              "    .colab-df-convert {\n",
              "      background-color: #E8F0FE;\n",
              "      border: none;\n",
              "      border-radius: 50%;\n",
              "      cursor: pointer;\n",
              "      display: none;\n",
              "      fill: #1967D2;\n",
              "      height: 32px;\n",
              "      padding: 0 0 0 0;\n",
              "      width: 32px;\n",
              "    }\n",
              "\n",
              "    .colab-df-convert:hover {\n",
              "      background-color: #E2EBFA;\n",
              "      box-shadow: 0px 1px 2px rgba(60, 64, 67, 0.3), 0px 1px 3px 1px rgba(60, 64, 67, 0.15);\n",
              "      fill: #174EA6;\n",
              "    }\n",
              "\n",
              "    [theme=dark] .colab-df-convert {\n",
              "      background-color: #3B4455;\n",
              "      fill: #D2E3FC;\n",
              "    }\n",
              "\n",
              "    [theme=dark] .colab-df-convert:hover {\n",
              "      background-color: #434B5C;\n",
              "      box-shadow: 0px 1px 3px 1px rgba(0, 0, 0, 0.15);\n",
              "      filter: drop-shadow(0px 1px 2px rgba(0, 0, 0, 0.3));\n",
              "      fill: #FFFFFF;\n",
              "    }\n",
              "  </style>\n",
              "\n",
              "      <script>\n",
              "        const buttonEl =\n",
              "          document.querySelector('#df-dce800a2-9d20-4988-b1bc-599ddaaecc81 button.colab-df-convert');\n",
              "        buttonEl.style.display =\n",
              "          google.colab.kernel.accessAllowed ? 'block' : 'none';\n",
              "\n",
              "        async function convertToInteractive(key) {\n",
              "          const element = document.querySelector('#df-dce800a2-9d20-4988-b1bc-599ddaaecc81');\n",
              "          const dataTable =\n",
              "            await google.colab.kernel.invokeFunction('convertToInteractive',\n",
              "                                                     [key], {});\n",
              "          if (!dataTable) return;\n",
              "\n",
              "          const docLinkHtml = 'Like what you see? Visit the ' +\n",
              "            '<a target=\"_blank\" href=https://colab.research.google.com/notebooks/data_table.ipynb>data table notebook</a>'\n",
              "            + ' to learn more about interactive tables.';\n",
              "          element.innerHTML = '';\n",
              "          dataTable['output_type'] = 'display_data';\n",
              "          await google.colab.output.renderOutput(dataTable, element);\n",
              "          const docLink = document.createElement('div');\n",
              "          docLink.innerHTML = docLinkHtml;\n",
              "          element.appendChild(docLink);\n",
              "        }\n",
              "      </script>\n",
              "    </div>\n",
              "  </div>\n",
              "  "
            ]
          },
          "metadata": {},
          "execution_count": 153
        }
      ]
    },
    {
      "cell_type": "code",
      "source": [
        "#tekrar eden veriyi burada çıkarıyoruz. Inplace argümanı burada silinmesi ve sonrasında kaydedilmesi için\n",
        "df.drop(581, axis=0, inplace=True)"
      ],
      "metadata": {
        "id": "NR_GEcyQhE-c"
      },
      "execution_count": null,
      "outputs": []
    },
    {
      "cell_type": "code",
      "source": [
        "#sonuçta kaç satır ve sütün kaldığına bakıyoruz\n",
        "print(f\"Rows: {df.shape[0]}\\nColumns: {df.shape[1]}\")"
      ],
      "metadata": {
        "colab": {
          "base_uri": "https://localhost:8080/"
        },
        "id": "vLs4ov62haai",
        "outputId": "b6b28a56-c442-4337-9b73-8508c1f35ecc"
      },
      "execution_count": null,
      "outputs": [
        {
          "output_type": "stream",
          "name": "stdout",
          "text": [
            "Rows: 1337\n",
            "Columns: 7\n"
          ]
        }
      ]
    },
    {
      "cell_type": "markdown",
      "source": [
        " **3.Keşifsel Veri Analizi Yapılması**"
      ],
      "metadata": {
        "id": "BUuZdoAXgcNi"
      }
    },
    {
      "cell_type": "code",
      "source": [
        "\"\"\"Bmi(Vücut Kitle İndeksi)’nin dağılımını inceleyiniz\n",
        "○ “smoker” ile “charges” arasındaki ilişkiyi inceleyiniz\n",
        "○ “smoker” (Sigara tüketen) ile “region”(Bölge) arasındaki ilişkiyi inceleyiniz.\n",
        "○ “bmi” ile “sex”(Cinsiyet) arasındaki ilişkiyi inceleyiniz.\n",
        "○ En çok “children”’a sahip “region”’ı bulunuz.\n",
        "○ “Age” ile “bmi” arasındaki ilişkiyi inceleyiniz.\n",
        "○ “bmi” ile “children” arasındaki ilişkiyi inceleyiniz.\n",
        "○ “bmi” değişkeninde outlier var mıdır? İnceleyiniz.\n",
        "○ “bmi” ile “charges” arasındaki ilişkiyi inceleyiniz.\n",
        "○ “region”, “smoker” ve “bmi” arasındaki ilişkiyi bar plot kullanarak inceleyiniz.\"\"\""
      ],
      "metadata": {
        "colab": {
          "base_uri": "https://localhost:8080/",
          "height": 105
        },
        "id": "yMxydAn4V82w",
        "outputId": "5adc1fd2-e20c-4fae-aecb-2d76ce74532b"
      },
      "execution_count": null,
      "outputs": [
        {
          "output_type": "execute_result",
          "data": {
            "text/plain": [
              "'Bmi(Vücut Kitle İndeksi)’nin dağılımını inceleyiniz\\n○ “smoker” ile “charges” arasındaki ilişkiyi inceleyiniz\\n○ “smoker” (Sigara tüketen) ile “region”(Bölge) arasındaki ilişkiyi inceleyiniz.\\n○ “bmi” ile “sex”(Cinsiyet) arasındaki ilişkiyi inceleyiniz.\\n○ En çok “children”’a sahip “region”’ı bulunuz.\\n○ “Age” ile “bmi” arasındaki ilişkiyi inceleyiniz.\\n○ “bmi” ile “children” arasındaki ilişkiyi inceleyiniz.\\n○ “bmi” değişkeninde outlier var mıdır? İnceleyiniz.\\n○ “bmi” ile “charges” arasındaki ilişkiyi inceleyiniz.\\n○ “region”, “smoker” ve “bmi” arasındaki ilişkiyi bar plot kullanarak inceleyiniz.'"
            ],
            "application/vnd.google.colaboratory.intrinsic+json": {
              "type": "string"
            }
          },
          "metadata": {},
          "execution_count": 156
        }
      ]
    },
    {
      "cell_type": "code",
      "source": [
        "#bmi dağılımı\n",
        "sns.set(style='whitegrid')\n",
        "sns.histplot(data=df, x=\"bmi\", kde=True)"
      ],
      "metadata": {
        "colab": {
          "base_uri": "https://localhost:8080/",
          "height": 303
        },
        "id": "1a00iqJbV8uW",
        "outputId": "79178b51-74a0-4579-ab0f-d3118900bbf5"
      },
      "execution_count": null,
      "outputs": [
        {
          "output_type": "execute_result",
          "data": {
            "text/plain": [
              "<matplotlib.axes._subplots.AxesSubplot at 0x7f1a2963ff90>"
            ]
          },
          "metadata": {},
          "execution_count": 157
        },
        {
          "output_type": "display_data",
          "data": {
            "text/plain": [
              "<Figure size 432x288 with 1 Axes>"
            ],
            "image/png": "iVBORw0KGgoAAAANSUhEUgAAAYwAAAENCAYAAAAc1VI3AAAABHNCSVQICAgIfAhkiAAAAAlwSFlzAAALEgAACxIB0t1+/AAAADh0RVh0U29mdHdhcmUAbWF0cGxvdGxpYiB2ZXJzaW9uMy4yLjIsIGh0dHA6Ly9tYXRwbG90bGliLm9yZy+WH4yJAAAgAElEQVR4nO3deXyU5b3//9dsmeyZ7CtJCJAFggIJUFFQQRYFwZ5TvyAurcrx6/K19py60EpB0ZbDcvxpFYqn9bR1pbXtUQEloLgAAkJYQyCBQBYyWchKEpJJMnP//ohJWRIyIZPcdyaf5+PhQ3Jv856Ze+Yz171cl05RFAUhhBCiG3q1AwghhBgYpGAIIYRwihQMIYQQTpGCIYQQwilSMIQQQjhFCoYQQginGPvrgVauXElGRgbFxcVs3LiRxMTES+a/8cYbvP7665fMO3ToEEuXLsVmsxEdHc3q1asJDg526vEcDgcNDQ2YTCZ0Op3Ln48QQrgjRVFoaWnBx8cHvf7SNkW/FYxp06bxwAMPcO+9914x79ixYxw6dIjo6OiOaQ6Hg2eeeYYVK1aQnp7OunXrWLNmDStWrHDq8RoaGsjNzXVZfiGEGEwSExPx8/O7ZFq/FYz09PROpzc3N7N8+XL+67/+iwceeKBjelZWFmazuWO9BQsWMG3aNKcLhslkAtqetIeHxxXzs7KySE1N7enT6FeS0TUko2tIRtfQesbm5mZyc3M7vkMv1m8FoyuvvfYac+fOJSYm5pLpJSUlREVFdfwdFBSEw+GgpqYGi8XS7XbbD0N5eHhgNps7Xaar6VoiGV1DMrqGZHSNgZCxs0P5qhaMgwcPkpWVxdNPP91nj5GVldXlvMzMzD57XFeRjK4hGV1DMrrGQMjYGVULxr59+8jLy2PatGkAlJaW8vDDD7NixQoiIyOxWq0dy1ZVVaHX651qXVwsNTW102qemZlJWlpa755AH5OMriEZXUMyuobWM9psti5/aKtaMB555BEeeeSRjr+nTp3K+vXrSUxMxOFw0NTUxP79+0lPT2fDhg3MmjVLxbRCCDG49VvBePnll9m6dSsVFRU8+OCDWCwWNm/e3OXyer2eVatWsWzZsksuqxVCCKGOfisYS5YsYcmSJVddZvv27Zf8PW7cODZu3NiXsYQQQjhJ7vQWQgjhFCkYQgghnCIFQ7gNu93R6fSrXZHS1TpCiCupfuOeEK5iMOh5P+PEFdOtVuslN4FebOHM5L6OJYTbkBaGEEIIp0jBEEII4RQpGEIIIZwiBUMIIYRTpGAIIYRwihQMIYQQTpGCIYQQwilSMIQQQjhFCoYQQginSMEQQgjhFCkYQgghnCIFQwghhFOkYAghhHCKFAwhhBBOke7NhVuxNdupqbdxoamFVrsDHToa6lvw9G0iwNcDg15+IwlxraRgiAGvqKyOL/YV8l12KUVl9Z0uk11UgF4HIRZvosN8iIvwx8ssu78QPSGfGDFgnSio4v0tJziYew6DXkfqsGCC/D0J9PfEx9OEyahHUeBscQmePhYqaxspqWzgYM45DuWeIy7Cn1vGxRAV6qv2UxFiQJCCIQac2nobb32SxZeZZ/H38eD+21OYPjGWQD/PTkfc8/UyEBXhR2yEH2O/Xz/vbC2nztbw2Krt3DIuhntnJhMW5N3/T0aIAaTfCsbKlSvJyMiguLiYjRs3kpiYSHV1Nc8++yyFhYV4eHgQFxfH8uXLCQoKAuDQoUMsXboUm81GdHQ0q1evJjg4uL8iCw06mFPOK+8foL6xmbunjeBHU0fg7Wnq0TYCfM2MSw4jZWgQDofClt357D5q5cezR3H7DfHo9bou17XbHRgMch5EDE79VjCmTZvGAw88wL333tsxTafTsWjRIiZOnAi0FZU1a9bwm9/8BofDwTPPPMOKFStIT09n3bp1rFmzhhUrVvRXZKEhiqLwt+0neeez48SE+fHSo5OIj/Tv1Ta9zMaOMb2/yy5l/T+O8PcvTzJxVAR+3h6driNjgIvBrN9+KqWnpxMZGXnJNIvF0lEsAMaMGYPVagUgKysLs9lMeno6AAsWLGDLli39FVdoiN2hsPZvh3n70+NMvj6aV342pdfF4mI+XiZuGRfDxFER1NTZyNhTgPVc5yfPhRjMNHMOw+Fw8MEHHzB16lQASkpKiIqK6pgfFBSEw+GgpqYGi8Xi9HazsrK6nJeZmXntgfvJYM9odyh8vKeaI/kXuGmkH7ekwLGjhztdNi0treMHx+W6mg7JHfM8dTAuwYtjhY18fbCY+DAPYkM90Ol0lyzfV893sL/XriIZ+45mCsZLL72Et7c39913n0u3m5qaitlsvmJ6ZmYmaWlpLn0sVxvsGRWlrWVxJP8C992ezPzbkrpd5+IfGe2sVmun07taJ3aIg++OlZJfWoeiN/OD1MhLzmv0xfMd7O+1q0jG3rPZbF3+0NZEwVi5ciUFBQWsX78e/fc3VkVGRl7yq7Cqqgq9Xt+j1oUY2P62/SQZewq4e9oIp4qFqxgNem4YHUmAr5kjpypotTu48booOdktBj3VPwGvvPIKWVlZrF27Fg+Pf55oTE1Npampif379wOwYcMGZs2apVZM4QJ2u8PpZb85eJa3Pz3OzWNjuP/2lD5M1TmdTseohGDSk8MoPtfA1weLaWl1Pr8Q7qjfWhgvv/wyW7dupaKiggcffBCLxcKrr77Km2++SXx8PAsWLAAgJiaGtWvXotfrWbVqFcuWLbvksloxcBkM+k7vk7jcuZpGtu8rYlRCME8tGHPZOYT+NSI2EKNRz96sUr4+eJZ7ZiThYTKolkcINfVbwViyZAlLliy5YnpOTk6X64wbN46NGzf2ZSyhMbYWO98etuLtaeT5BydgMqr/5Tw0KgCdTsfuoyW88v4Bnrk/HcNV7tUQwl2pfkhKiHaKorA3q5Sm5lZuvD4Kbw319RQf6c/YxFB2HbHyh4+PoiiK2pGE6Hfa+USKQe9kUQ3F5+oZmxRKkL+n04ew2vX1TXXJ8UHERfrz0dd5hFq8+JdbR/Tp4wmhNVIwhCZU1zVxMPccUSE+JMUGqh2nSw/OGUVFTSN/2pzNsGgL1yeGqh1JiH4jh6SE6hwOhT1HS/Ew6pmYGqHqSe7u6PU6fjp/LDFhvqx5L5PK2ka1IwnRb6RgCNVl51dRU29j/MhwPD203+j1MhtZ/MB4GptbWf1uZo8uFxZiIJOCIVRVW2/jWF4lsRF+xIT5qR2nW+3FITbCnyd+dD3HTlfy3lXOs0gxEe5E+z/nhNtyKAp7j5ViNOpJSwpTO45TLj8RPyw6gA+/OElNnY0Qi9cVy0vvtsKdSAtDqOZkYQ2VtU2kJYfhqaFLaHtibFIY3p5G9h4rldaEcHtSMIQqGm2tHDlVQWSwD3ER2j8U1RWTUc+EkRGcb2jm6OlKteMI0aekYAhVHMo9h8OhkJYcpumropwRGeJDQnQAJ/KrqKxtUjuOEH1GCobod+eqL5Bfcp7k+ED8fDof2W6gGZsYiqeHkb3HSnA45C5w4Z6kYIh+5XAo7D9ejrenkVFD3Wd8dg+TgbTkMGrrmzl1tkbtOEL0CSkYol+dOltDTb2NsYlhGI3utfvFhPkSEezNkVMVNDW3qh1HCJdzr0+s0LSaOhtHTlUQHuTNkHBfteO4nE6nY1xSGK12B0dOVqgdRwiXk4Ih+s3bn2bTane4xYnurgT4mkmMDSSvuJaq83ICXLgXKRiiX+QWVrPtu0KSYgMJ8L1yjHV3kpoQjNnDQObxMukGXbgVKRiizymKwlufZGHxNZM6zH1OdHfFw2Tg+uEhVNQ28e3RErXjCOEyUjBEn9t9tITsM1UsnJWsiRH0+sPQqAD8fTx45/vDcEK4AykYok+1tDr406ZshoT7MWNCrNpx+o1er+P6EaEUn2tg294CteMI4RJSMESf2rzrDCWVDTw8dxQGw+Da3aJDfRg5NIj3t+bQaJPLbMXAN7g+waJf1V1o5i/bchibGEpacrjacfqdTqfjJ7NHUVNn45Nv8tSOI0SvScEQfWbD1hwuNLXw0NxUtaOoJmVoEDeMjuTvX56itt6mdhwheqVfCsbKlSuZOnUqSUlJ5Obmdkw/c+YM8+fPZ+bMmcyfP5/8/Hyn5gnts56rZ/OuM0yfGEd8pL/acVR1/+0p2Jpb+cvnud0vLISG9UvBmDZtGu+99x7R0dGXTF+2bBkLFy4kIyODhQsXsnTpUqfmCe370+ZsPEx67pUBhBgS7sf0iXF89u0ZSisb1I4jxDXrl4KRnp5OZGTkJdMqKyvJzs5mzpw5AMyZM4fs7GyqqqquOk9o39G8CnYfLeFfp44g0N9T7TiacM+MJPR6Pe98dlztKEJcM9WGOSspKSE8PByDoe26fIPBQFhYGCUlJSiK0uW8oKCgHj1OVlZWl/MyMzOv/Qn0k4GW0aEo/D6jHH9vA7F+5y+Zl5aWhtVq7cGWk122fNfbcd1jdLV8+2swYYQ33xwsJiWihcjAK7t1H2jvtVZJxr4zMMfF7IHU1FTM5iu7osjMzCQtLU2FRM7Teka73XHFpbJfHThLSVUx/37POG5IH3LFOlFRUT16DFcsb7Var7qdvs7U/h4mjWzh0K+3se8MvHjbpe+r1t9rkIyuovWMNputyx/aqhWMyMhIysrKsNvtGAwG7HY75eXlREZGoihKl/OEdhgMetb8cXvHF6jdobB51xksfmZKKup5P+PEJcsvHOTnM3y9TNw9LZE/bjrG0VMVjB4eonYkIXpEtctqg4ODSUlJYdOmTQBs2rSJlJQUgoKCrjpPaFfe2RoaGlu4fkSo2/ZG21uzbxpKSIAnf9p8TDomFANOvxSMl19+mSlTplBaWsqDDz7I7NmzAXjhhRd49913mTlzJu+++y4vvvhixzpXmye0p6XVQdbpSsICvYgM9lY7jmaZTQbumZlMbmENu6VjQjHA9MshqSVLlrBkyZIrpg8bNowPP/yw03WuNk9oT05BFbZmO9ePkdZFd6alD+F/vzrFO58dZ+KoiEHXZYoYuGRPFb3W1NzK8fwqYsJ8CbF4qR1H8wwGPQ/ckcLZ8nq+2F+kdhwhnCYFQ/TasdNV2O0K18lJXKf9IDWSpNhA3s84ga3FrnYcIZwiBUP0SlOzg1NFNQyNDnD7kfRcSafT8ePZI6msbWLzztNqxxHCKVIwRK/kl9vQ6WD0IBhJz9VGDw9hXHIYH35xksZmGWRJaJ8UDHHNisrqKKtpZcQQC96eJrXjDEg/vmMk9Y0t7MquUzuKEN2SgiGu2YZtOej1bV14i2uTEB3ALeNi2H2ijvKqC2rHEeKqpGCIa1JYep4dh4qJDvLA08Pte5jpU/ffkYJOB29/Kh0TCm2TgiGuyYZtuXh6GBgSIoeieiss0Jsbkv34+uBZcgur1Y4jRJekYIgeKyg9z87Dxcy5KQGTUXYhV7hppB8WPzN/+DhLugwRmiWfdtFjH2zNwdPDyF03D1c7itswm/TcNyuZ4/lVfHtEugwR2iQFQ/RIfsl5dh22cufkBPx9rhzTQVy72ya0DWf7x03HaGmVm/mE9kjBED3ywdYTeJmN3HXzMLWjDAh2u3P3V6SlpWHQ6/jJ7JGUVV1g084zfZxMiJ6Ty1uE085Ya/n2SAnzb0vEz1taF84wGPRXjAvSmfZBnhbOTCY9JZy/bMthavoQuXteaIq0MITT/vp5rrQu+sGDc0bS2Gxnw9YctaMIcQkpGMIp1op6vj1i5Y5J8fhK66LP2O0OYiP8mfmDOD7dnU9R2dXvAHf2kJcQriCHpIRT/verPPR6PXOnSOuiL7UfwvI0GTDodbz8P3u5eVxMl8sP9mFvRf+SFoboVvX5Jr7YV8i08UMI8vdUO86g4Gk2MnJoENaKBsqkyxChEVIwRLc+2XEau93Bv9wq9130p8TYQLw9jRzMKZeb+YQmSMEQHTo7Ht7Q2MKn355h0nVRRIX4qpBq8DIa9Fw3PITqOhsFpdKbrVCfnMMQHTq7BDT7TCUXmlrx8TJdMU+On/e9+Eh/cgqqOXzyHDFhvhhl/G+hItn7RJfsdgc5BdVEBHvLuQuV6HQ6xiaFcaGpVTomFKrTRMH48ssvueuuu5g3bx5z585l69atAJw5c4b58+czc+ZM5s+fT35+vrpBB5kzJedparaTEi/jXagpPMibqBAfss9U0dTcqnYcMYipXjAUReHZZ59l1apVfPzxx6xatYrnnnsOh8PBsmXLWLhwIRkZGSxcuJClS5eqHXfQcCgKx/OrCPL3JDzIW+04g96YxFBa7Q6Ona5UO4oYxJwuGJ999lmn07ds2dL7EHo9dXVtJ/Xq6uoICwujurqa7Oxs5syZA8CcOXPIzs6mqqqq148numc9V0/9hRZS4oPQ6XRqxxn0AnzNDIsO4GRRDecbmtWOIwYppwvG888/3+n03v7q1+l0vPrqqzz++OPceuutPPHEE6xcuZKSkhLCw8MxGAwAGAwGwsLCKCmRrp/7Q05BNd6eRmLC5MoorUgdFoJBr+NoXoXaUcQg1e1VUkVFRUDboaP2f188z8Ojd91EtLa28uabb7Ju3TrS0tLIzMzkZz/7GatWrerVdttlZWV1OS8zM9Mlj9GX+jNjWloaVquV+iY75dWNDA33oLT0agW67Sopq9Xq5CMk92BZ1y7f9XbUy3S5tuWuvnxUkInC0jpCfYvw9TQAyf26j8hnxjUGQsbOdFswpk+fjk6nQ1EUpk+ffsm8kJAQnnzyyV4FOH78OOXl5aSlpQFtX1peXl6YzWbKysqw2+0YDAbsdjvl5eVERkb2aPupqamYzVf2+JmZmdnxmFqlRsaoqCj2HivFoNcxdmQsZpPBqXV6sv2e5unt8u09wWop0+Uuzni15UNC7ZTsOE1prZ4pCW3L9dc+Ip8Z19B6RpvN1uUP7W4LxokTbdfe33fffbz77ruuTQZERERQWlrK6dOnSUhIIC8vj8rKSuLi4khJSWHTpk3MmzePTZs2kZKSQlCQXLHTl5qaW8kvOU9ClL9TxUL0Lw+TgeS4QI7mVVJZ26h2HDHIOH3jXl8UC4DQ0FBeeOEFnnrqqY6Tq7/5zW+wWCy88MILLF68mHXr1uHv78/KlSv7JIP4p7yztTgcComxgWpHEV1Iigsip7CGI6fkXIboX04XjKKiIl599VWOHz/OhQuXdob21Vdf9SrE3LlzmTt37hXThw0bxocfftirbQvntdodnCyqISLYWwbu0TCTUc/IoUEcyj3HsdOVjEoIVjuSGCScLhhPP/00Q4YM4bnnnsPLy6svMwmV7DpspdHWyviR4WpHEd0YMcTCifwqNmzL4aX/O0ntOGKQcLpgnDx5kg8++AC9XvV7/UQf2bjjNH7eJqJCfNSOIrphNOhJjm9rZeQUVJEUJ+f2RN9z+tt//PjxZGdn92UWoaKcgipyCqtJjA2UG/UGiOExFvy8Tfz185NqRxGDhNMtjOjoaBYtWsT06dMJCQm5ZN5TTz3l8mCif23ccQZvTyNDowLUjiKcZDLqmTdlGO9uOcHp4loSouW9E33L6RZGY2Mjt956K62trZSWll7ynxjYautt7DpiZWr6EExGOeQ4kMy+KQFvTyN//SJX7ShiEHC6hbFixYq+zCFU9MW+QlrtDmbdEM+uwz25i1mozdfLxJybEvjwi1yKyuoYEu6ndiThxpz+OVlUVNTlf2LgcjgUtuwuYFRCMHER/mrHEddg7uQEPEwG/rZdzmWIvuV0C+PiLkLatZ8cPX78uOuTiX5x+OQ5SiobuHeWjJ43ENntDgJ8zUyfEMuW3fk8cEcKwQFXv+zdbndgkJH7xDVwumC0dxHS7ty5c7zxxhukp6e7PJToP5/tzsffx4NJ1/Wsjy6hDe3D6uoAu11h5dv7GZMYetV1ZGhdca2u+WdGaGgozz//PK+88oor84h+VFnbyN5jpUyfEIvJKP1GDWS+3h4MCffj1NkaWlrtascRbqpX7dLTp0/T2CgdoA1UW/cW4nAozPxBvNpRhAskxwfR0urg1NlataMIN+X0IamFCxdeckNXY2Mjp06d4oknnuiTYKJv2e0Otu7JZ2xiKJFyZ7dbCA7wJCzQi9yCapJiA9Hr5QZM4VpOF4y77777kr+9vLxITk4mPj7e1ZlEP9h/vIyK2iYe+eFotaMIF0qJD+Lrg8UUlJ6XmzCFyzldMH74wx/2ZQ7Rzz7bnU+QvyfjR0aoHUW4UGSID/4+HhzPryI+0l+6eREu5fQ5jJaWFn77298ybdo0Ro8ezbRp0/jtb39Lc7MMSD/QlFY2cCCnnBkT4zDK5ZVuRafTkRIfRG19M6WVF7pfQYgecLqFsXr1ao4cOcKLL75IVFQUVquVdevWUV9fzy9/+cu+zChcbOveAnTAjIlxakcRfSAu0o8jp85xPL9Kzk8Jl3K6YGzZsoWPP/6YwMC2kdgSEhIYOXIk8+bNk4IxgLS0Oti2t5DxIyMIDZRxTdyRQa8nMTaQwycrqDrfRJC/p9qRhJtw+njExXd4OzNdaNOerBJq6m3cPile7SiiDw2PsWA06DiRX6V2FOFGnC4Ys2bN4rHHHmPHjh3k5eXxzTff8MQTTzBr1qy+zCdcbMvufMKCvBmbGKZ2FNGHPEwGhsVYKCyro6GxRe04wk04fUjqmWee4Xe/+x3Lly+nvLyc8PBwZs+ezWOPPdaX+YQLFZ+r58ipCh64I0Wu0R8EkuICyS2sJqegmnHJ8gNB9F63LYzMzExWr16Nh4cHTz31FNu2bePw4cNs3bqV5uZmGYVvAMnYU4BBr+O28bFqRxH9wMfTRFyEP3nFNTS3SHchove6LRhvvvkm48eP73TexIkTWb9+vctDCddrabXzxb5CJoyKIFBOgg4ayfGBtNoVThbVqB1FuIFuC8bx48eZPHlyp/MmTZpEVlZWr0PYbDaWLVvGjBkzuPPOO/nVr34FwJkzZ5g/fz4zZ85k/vz55Ofn9/qxBhO73dHx7z1HSznf0Mws6TdqUAn08yQi2JvcwmrsDkf3KwhxFd2ew6ivr6elpQWD4creTFtbW2loaOh1iNWrV2M2m8nIyECn01FRUQHAsmXLWLhwIfPmzePjjz9m6dKlvP32271+vMGivetrgO37i/DxNHE8v5ITBZ1fOSPdXrun5Pggvso8S771PMNiLGrHEQNYty2MhIQEdu7c2em8nTt3kpCQ0KsADQ0NfPTRRzz11FMd3RiEhIRQWVlJdnY2c+bMAWDOnDlkZ2dTVSWXCfZUXUMzZVUXGBYTIF1FDEIRQd5Y/MycKKiWy+BFr3TbwvjJT37CsmXLcDgc3Hbbbej1ehwOB59//jnLly9n8eLFvQpQVFSExWLhjTfeYO/evfj4+PDUU0/h6elJeHh4R8vGYDAQFhZGSUkJQUFBTm//aofMMjMze5W9P/QmY1paGlarlbzSJgC8DY1YrVcbszu5m/lXLg/0YJ2eb99Vy3e9HfUyXa5tub7ZfkSAjhNnbWTlFMGslGver9z9M9NfBkLGznRbMO68804qKip47rnnaGlpwWKxUFNTg8lk4qc//WlHC+Ba2e12ioqKGDlyJM899xyHDx/m0Ucf5bXXXuvVdtulpqZiNpuvmJ6ZmUlaWppLHqOvuCJjeEQEe3JOExPmy9C46G6Xj4qK6vFj9GSdnm7fFctbrdarbkeNTJe7OGNfbD8iQqGw4jRldW1/X8t+NVg+M31N6xltNluXP7Sdug/jwQcf5O677+bgwYPU1NRgsVgYO3Ysvr6+vQ4XGRmJ0WjsKDzXX389gYGBeHp6UlZWht1ux2AwYLfbKS8vJzJShhLtieLyemwtdjl2Pcjp9TqS4gI5mHOO3MJqEmMD1Y4kBiCn7/T29fVl8uTJ3HnnnUyePNklxQIgKCiIiRMnsmvXLqDtyqjKykri4+NJSUlh06ZNAGzatImUlJQeHY4ScOpsLT6eRiKCvdWOIlQ2LNqCyajnH1+eUjuKGKCcvtO7L7344ov88pe/ZOXKlRiNRlatWoW/vz8vvPACixcvZt26dfj7+7Ny5Uq1ow4o1op6yqoucN3wEPRysnvQMxn1DB9iYfdRK9aKeqJCXPOjTwwemigYQ4YM4Z133rli+rBhw/jwww9VSOQetu4pQKdDRl4THZJiA8krquFvX5zkp/PHqh1HDDAyeo6baml18Pm+QqJDffH21MTvAqEBXmYjM34Qx/b9RZRVyQBLomekYLipvcdKqK1vZli0tC7Epf711hHodDr+vv2k2lHEACMFw01l7C4gNNCLCBlxTVwmxOLFbRNi2fZdIRU1jWrHEQOIFAw3VFLRwKGT55gxMU5OdotO/WjqCBRF4e9fSitDOE8KhhvK2JOPXq9j+gTpxlx0LjzIm6npQ9i6p4Cq801qxxEDhBQMN9PS6uCLfUWMTwknOEDG7BZdu3taIq0OhQ8/z1U7ihggpGC4mb3H2sbsnnVDvNpRhMZFhvgwfUIsW/bkU1rZ+16nhfuTguFmPt2VT1igF2OTZEhO0b17ZiSh0+n4YGuO2lHEACAFw40UlJ7naF4Fs26IxyBjdgsnBAd4MfvGoXyVWURh6Xm14wiNk4LhRj7ddQajQc+MiXFqRxEDyI+mjsDsYeS97wfbEqIrUjDcxIWmFr7MLGLymCgCfK/szl2IrgT4mvnhzcP49kgJuYXVascRGiYFw018ub+IRpud2TcOVTuKGIDm3TwMi6+Z/9l4TEblE12SguEGFEVh87dnGB4TIOMciGvi7Wni3lnJHDtdye6jJWrHERolBcMNHM2roKisntk3JsiY3eKaTZ8QS1yEH3/alE1Lq13tOEKDpGC4gc27zuDnbWLy2O6HYBWiKwaDnofnplJS2cDmXWfUjiM0SArGAFdR08ierFKmT4jDbDKoHUcMcGOTwkhPCWfD1hxq621qxxEaIwVjgNuyJx9FUbh9UrzaUYSbeHDOSBqb7by7RS6zFZeSgjGAtbQ6yNhTQFpyOBHB0o25cI7d7rjq/NgIf+68KYGMPfnkFlZ3u7wYPGQotgFsx6Gz1NTZuPOmBLWjiAHEYNDzfjc36ZmMOswmA7/+43f8z69m9FMyoXXSwhigFEXh469PMyTcj7FJoWrHEftWjJoAABfxSURBVG7GZDQwNimMqvNNbNtboHYcoRFSMAaIyw8LHM2r4LS1lnlThsmltKJPxEX4ERboxdufZssJcAHIIakB4/LDCN8cPIvZZKCsqqHLwwsLZyb3VzzhhnQ6Hekp4WzZU8A7nx3nBjnyOehpqoXxxhtvkJSURG5u24Auhw4dYu7cucycOZOHHnqIyspKlRNqw/mGZorPNTBiiAWjQVNvoXAzAb5m5k5OYOveAs5WSCtjsNPMt82xY8c4dOgQ0dFtN585HA6eeeYZli5dSkZGBunp6axZs0bllNqQW1iNXqdj+BCL2lHEIHDPjCQC/TzZvK9Grpga5DRRMJqbm1m+fDkvvPBCx7SsrCzMZjPp6ekALFiwgC1btqiUUDtszXZOF9cSF+mHl1mOKIq+5+1pYtHcVEqqW9gkd4APapr4xnnttdeYO3cuMTExHdNKSkqIiorq+DsoKAiHw0FNTQ0Wi/O/rLOysrqcl5mZeW2B+1F7xrS0NKxWK/nlNuwOhWDvVqxWazdrJzuxTO+WB3qwTt/n6Wr5rrejXqbLtS3X13muZZ1kvOwljIjy5M+bj+FLBRYfTXx1dGogfa4HGtXf9YMHD5KVlcXTTz/dJ9tPTU3FbL5yfIjMzEzS0tL65DFd5fKMYWER7M7JIzrUhxEJMVdZ858uLrp9sXxP1+nrPJ0tb7Var7odNTJd7uKMWnvPANLT06m9sJfffXaOnbkKSx8ep8mr8wbi51prbDZblz+0VT8ktW/fPvLy8pg2bRpTp06ltLSUhx9+mIKCgkt+BVVVVaHX63vUunA3ecW1NLc4SBkarHYUMQhZfIzcNyuF/cfL2Hm4p60a4Q5ULxiPPPIIO3fuZPv27Wzfvp2IiAjeeustFi1aRFNTE/v37wdgw4YNzJo1S+W06mlpdXAiv4rQQC9CLV5qxxGD1J03DWV4TAD//dFR6i80qx1H9DPVC0ZX9Ho9q1at4sUXX2TGjBns27ePn//852rHUs3XB85ywdbKyPggtaOIQcxg0PP/7h7D+YZm/rQ5W+04op+pfg7jctu3b+/497hx49i4caOKabTB4VD4+5cnsfiaiQyRTgZF/7LbHRgM+o7j7sNiLMybMoz//eoUt4yLIXVYSKfLC/ejuYIhrvTtUStny+u5YXSkJk80CvfW3svAxSfmjXodPp4mfvOnfdw+KQ6D/p8FQnoYcF/yM0DjHA6FD7bmMCTcl9gIP7XjCAGA0agnfWQ4dReayT5dpXYc0U+kYGjcrsNWCkvrWDA9Cb20LoSGRIX4EBfhR/aZSmrqpNuQwUAKhoY5HAofbDvBkHA/brxexusW2jMuOQyT0cDeY6U4HIracUQfk4KhYccKGykqq+eeGUkY9NK6ENrj6WEkLaVt3IwTBXJoyt1JwdAou0Ph66zzxEX4ceN1Pb+TV4j+EhvuR0yYL0fzKjnfIIem3JkUDI36cn8RFedbuWdmMnppXQgNax83w2jQsSerFLscmnJbUjA0yNZi590tx4kONjFpdKTacYTolpfZSFpyOJW1TWzckad2HNFHpGBo0Cff5FFZ28T0MRa570IMGHERfkSH+vDOp8exnqtXO47oA1IwNKa23sbftp9kwsgI4sOv7GVXCK1qOzQVgclk4Ld/PSRXTbkhKRga89fPc2mytfLj2SlqRxGix7w9jSyam8qx05VslsGW3I4UDA2xVtTz6bdnuG1CHLER/mrHEeKaTBs/hLTkMP78aTbWCjk05U6kYKjk8rGRFUXh9x9lYTLqWTgzCUDTg6wI0RWdTsf/u3sMRoOeV94/IOOAuxHpfFAl7R26tTtbXs/+42WMSQwlY08BcOkobNKhmxhIQixePPGv17Pq3f389YuT3DMjSe1IwgWkhaEBrXYHB06U4+/jQVJsoNpxhHCJyWOjuSUthg3bcsiRu8DdghQMDTh+poqGphbSU8LlJj3hVh794XUEB3jyX+8foNHWqnYc0UtSMFRWd6GZ7Pwq4iL8CA/yVjuOEC7l42XiP+4ZR2llA299kqV2HNFLUjBUpCgK3x0rxaDXMSYxTO04QrjE5Se5U4eF8C+3DCdjTwF7s0q6XV5ol5z0VtHJohrKqxuZMCoCb095K4R7uPyCjvZpgX5mVr2byawb4vDxNHXMkws6Bg5pYaiktLKBwyfPERHsTUKU3HMh3JtBr2PSdVE4HA6+PWKVu8AHKCkYKnA4FF7/6yFAx4RREdJflBgU/H08mDAygoqaJo6cqlA7jrgGqh8Hqa6u5tlnn6WwsBAPDw/i4uJYvnw5QUFBHDp0iKVLl2Kz2YiOjmb16tUEBwerHbnXNu06zZFTFYwfGX5J01wIdxcX6U959QWO51cRGuhFdKiv2pFED6jewtDpdCxatIiMjAw2btzIkCFDWLNmDQ6Hg2eeeYalS5eSkZFBeno6a9asUTtur506W8MfN2YzfmQ4w6ID1I4jRL8blxRGoJ+Z3UdLqLvQrHYc0QOqFwyLxcLEiRM7/h4zZgxWq5WsrCzMZjPp6ekALFiwgC1btqgV0yUuNLWw+p39BPh68NT8sXIoSgxKBoOem66PQqeDbw4Wc6GpRe1IwkmqF4yLORwOPvjgA6ZOnUpJSUlHtxgAQUFBOBwOampqVEx47RRF4Xf/OEJpZQNP35tGgK90XS4GL19vD268Loq6C8288v4BOQk+QKh+DuNiL730Et7e3tx3331s27bNJdvMyur6ZqHMzEyXPIYzDuQ18FVmNbeM9sdWUwCEYLVau13vn8skO7X8pXq6Ts+XB3qwTt/n6Wr5rrejXqbLtS3X13muZZ1/Lu/ces5vPyHCzN5jpbzy5y+59TrXHKLtz8/1tRoIGTujmYKxcuVKCgoKWL9+PXq9nsjIyEt2uqqqKvR6PRaLpUfbTU1NxWy+8td8ZmZmv/UGe/xMFZ/+ZSdjEkP52QM3YPi++4+LW1CdubjzQWeW70xP1+nrx+jrPJ0tf/nrqIVMl7s4o9bes/blu3sdr2X7kZEKQ2Oa+HxfIWNGDee2CbE9ynW5/vxcXyutZ7TZbF3+0NbEIalXXnmFrKws1q5di4eHB9D2Rd/U1MT+/fsB2LBhA7NmzVIz5jWpqGnkN3/+jlCLN8/en95RLIQQbRe9PP6j6xmbGMrrHx5i//EytSOJq1C9YJw8eZI333yT8vJyFixYwLx583jiiSfQ6/WsWrWKF198kRkzZrBv3z5+/vOfqx23R2wtdn79p++wNbfy/EMT8PP2UDuSEJpjMupZ/OPxDI3y5z/f3kduYbXakUQXVD8kNWLECHJycjqdN27cODZu3NjPiVzD4VB4bcNBThXV8PyDE4iTEfSE6JK3p4llD/+AZ17fwYt/2MPLj05iaJRcdq41qrcw3NWfNmez41AxP5k9kh+kRqodRwjNC/T35KX/OwkPo57nf7eL08W1akcSl5GC0Qc27jjN/351itk3DuVfbh2udhwhBozIEB9+8/hNmD2MPP+7XZw6OzAvo3dXUjBcpL2L5l1HrPz+46NMHBXBv901Wm7OE6KHIkN8WPH4jXh7Glnyu10cyi1XO5L4nurnMNyFwaBnzXuZ7Dh4luAAT2Ij/PjLts7PzYB06SzE1UQE+7DiiZtY/oc9LPv9Hh794WhunzRU7ViDnrQwXORoXgU7DxUT4Gvm5rExGA3y0grRG2GB3qx6cjJjE0NZ9/cj/P6jo7S0ymBLapJvNRfILazmpbf24ONl4pa0GDxMBrUjCeEWvD1N/OqhicydnMAnO07z7OvfUFRWp3asQUsKRi+dsday9L93E+Br5ta0IXh6yFE+IVzJYNDzb3eN5hc/Hk9ZVSM/e+UrNu44jV36n+p3UjB6oaD0PEvf3I2Xh4GXH71RhlkV4ho4O6b3pOuieOOZW0kdFsJ/f3SU//j/vubwyXN9nE5cTL7hrtHp4lp+9ea3GA06Xnp0EuFB3mpHEmJA6mwM8Kt54d9+wI5Dxfx5czZL1n/L+JHh/J9piSTHB/VhSgFSMK7JyaJqlr65G0+zkV8/NomoEBk1TIj+otPpmDI2hh+kRrJxx2k+3H6SZ17fQVJcIKNjdFx3vR2TUc4j9gUpGD10Ir+KZb/fjZ+3B79+7EZpWQihEg+TgX+dOoI7bhzKF/sK+WTHaf62q4EtBzK48foopoyNZtTQYAxyxaLLSMHogt3uuGJHO5pXwfI/7CHI35OXH72R0EAvldIJMXhd/tn0MhuZc1MCt08aysGccr4+eJavD5wlY08Bvl4mxiaFMWFkOGOTwmTgsl6SgtGFy4+rFpXV8e3REny9TIwfGcG27wouWV5uxBOif1ztnEf7mB133pSAtaIBa0U9R09VsONQMTodJMUGkpYSTlpyGMOiLehluIEekYLhhNzCajJPlBMS4MmUsdGY5dJZITTNaNQTG+FHbIQfd08dwZmS8+w/Xsb+42W8n3GC97acwOJrZlxyGGnJYYxNCrtk+IHOjjAIKRhX5VAUDp88x4n8aqJDfZl0XaTcwS3EAGMyGToGZkpPCSc1IZiSygZKKhrYebiY7fuL0OkgPMibIeF+xIT58tCdqSqn1iYpGF2ou9DM1wfOUlp5geExFtKSw6T5KoQb8DQbGRoVwNCoAByKQlVtE2fP1VNUVse+7LZWyOniWiaPiWbSdVEy8NlFpGB0Ir/kPL/+417Kqy4wfmQ4w2N6No64EGJg0Ot0hFi8CLF4cf3wEGrqbRSV1lFR08gbHx5m/T+OkJYczs3jYpgwKgLzIO/2RwpGJ9797DjNLXamjY8lxCJXQgkxGOh0OgL9PAn08+SeGUnkFdfy9YGzfHPwLHuPleJlNnLD6EhuHhfD9cNDBuU5DikYnXjy/4zBZNTz0dd5akcRQqjA4VAYHmNheIyFn8wZRVZeBV8fOMu3R6xs31+Exc/M5DHR3Dw2msTYQBwOZVAUECkYnZBrtYUY3Dq7dDfE4sXsG4dirWigoOQ8m3edYeOO0/h6mZh901BuGRdDTJifSon7hxQMIYRwksGgZ0i4H0PC/WhusXO2vJ78kvP89fNc/rItl2ExAYxPiWBMYihJcYFud1WlFAwhhLgGHiYDCdEBJEQHMOuGeHYcKmbHwWL++nkOG7bl4GU2khQbSGJcIEmxgQyNCiDE4ql27F7RfME4c+YMixcvpqamBovFwsqVK4mPj1c7lhBCdAjy92TelGHMmzKM+gvNHD5VweHcc+QUVPO37SdxfD92h5fZQKCPnqHH9hHs70lwgCdB/m0n2r08jXiZ//mfyahHr9eh1+lQlJ6dI+mrGw81XzCWLVvGwoULmTdvHh9//DFLly7l7bffVjuWEEJ0ytfbgxuvi+LG66IAaLK1kldcS2HpeYrK6zl2sph863kOnCij0WZ3ers6HejQtf1f13ZVl04Hhu+Liv6i/6enhPPT+WNd/tw0XTAqKyvJzs7mj3/8IwBz5szhpZdeoqqqiqCgq/d9ryhtFb25ubnLZWw221W3YdQ7P36wzWZz+fKeJl3HMj3dfl9lunz5izNqIU9ny18to1qZusrY13muZZ325Z19r9V8TTvL2B+v0YULjV3+otcBw6N9GR79/TAItyd2tAAaba3U1tuorW+mqbkVW7OdpuZWmprttNodOBQFhwMUh8KJgiocAIqCovD9fwoOh4IDBcWhYHe0XeEV6Gvs9vutK+3fme3foZc8F6WzqRqRlZXFc889x+bNmzum3XHHHaxevZpRo0Zddd26ujpyc3P7OqIQQrilxMRE/PwuvepL0y2M3vDx8SExMRGTyYROJ116CCGEMxRFoaWlBR8fnyvmabpgREZGUlZWht1ux2AwYLfbKS8vJzIystt19Xr9FdVRCCFE9zw9O7+aS9MXCQcHB5OSksKmTZsA2LRpEykpKd2evxBCCOF6mj6HAZCXl8fixYs5f/48/v7+rFy5koSEBLVjCSHEoKP5giGEEEIbNH1ISgghhHZIwRBCCOEUKRhCCCGcIgVDCCGEUzR9H4YrrFy5koyMDIqLi9m4cSOJiYkATJ06FQ8PD8zmtrEvnn76aSZPnqxKxurqap599lkKCwvx8PAgLi6O5cuXExQUxKFDh1i6dCk2m43o6GhWr15NcHCwpjImJSWRmJiIXt/2+2PVqlUkJSX1e0aAxx9/nLNnz6LX6/H29uZXv/oVKSkpmurEsquMWtonAd544w1ef/31js+NVvbFq2XU0r4IXX/PaPG1dIri5vbt26dYrVbl1ltvVXJycjqmX/63mqqrq5U9e/Z0/P2f//mfyi9+8QvFbrcrt912m7Jv3z5FURRl7dq1yuLFizWVUVEUJTExUamvr1cl1+XOnz/f8e9t27Ypd911l6IoinL//fcrH330kaIoivLRRx8p999/vyr5FKXrjFraJ7OyspSHH364I5OW9sWuMiqKtvZFRen8PdXia+kstz8klZ6e7tSd4WqyWCxMnDix4+8xY8ZgtVrJysrCbDaTnp4OwIIFC9iyZYumMmrNxXf319fXo9PpOjqxnDNnDtDWiWV2djZVVVWayaglzc3NLF++nBdeeKFjmpb2Reg840ChtdeyJ9z+kNTVPP300yiKQlpaGv/xH/+Bv7+/2pFwOBx88MEHTJ06lZKSEqKiojrmBQUF4XA4Og6raCFju/vvvx+73c6UKVN48skn8fDwUC3f888/z65du1AUhT/84Q+UlJQQHh6OwWAAwGAwEBYWRklJiWq9BlyesZ0W9snXXnuNuXPnEhMT0zFNa/tiZxnbaWlfhCvfU629lj3h9i2Mrrz33nt88skn/P3vf0dRFJYvX652JABeeuklvL29ue+++9SO0qXLM3711Vf84x//4L333uPUqVOsXbtW1Xy//vWv+eqrr/j3f/93Vq1apWqWrnSWUQv75MGDB8nKymLhwoX9/tjOulpGre2LWnhPXWnQFoz2w1QeHh4sXLiQAwcOqJyo7QR9QUEBr776Knq9nsjIyEsO+1RVVaHX61X9FXJ5Rvjna+nr68vdd9+tidcS4K677mLv3r1ERER0dGIJ9KgTy77WnrG6uloT++S+ffvIy8tj2rRpTJ06ldLSUh5++GEKCgo0sy92lXHnzp2a2xc7e0+1+Ll21qAsGBcuXKCurg5o68r3008/JSUlRdVMr7zyCllZWaxdu7ajCZ2amkpTUxP79+8HYMOGDcyaNUtTGWtra2lqagKgtbWVjIwM1V7LhoYGSkpKOv7evn07AQEBmurEsquMZrNZE/vkI488ws6dO9m+fTvbt28nIiKCt956i0WLFmlmX+wq4+jRozWzL0LX3zNa+1z3hNv3JfXyyy+zdetWKioqCAwMxGKxsH79ep588knsdjsOh4Nhw4axZMkSwsLCVMl48uRJ5syZQ3x8fEe3wjExMaxdu5YDBw6wbNmySy6/CwkJ0UzGRYsWsXTpUnQ6Ha2trYwdO5Zf/vKXnfal39cqKip4/PHHaWxsRK/XExAQwHPPPceoUaM004llVxn9/f01tU+2mzp1KuvXrycxMVEz+2JXGRsaGjSzLwIUFRV1+Z5q9bXsjtsXDCGEEK4xKA9JCSGE6DkpGEIIIZwiBUMIIYRTpGAIIYRwihQMIYQQTpGCIYQLTZ06lW+//bbX21m/fj3PP/+8CxIJ4TqDui8pIbTq0UcfVTuCEFeQFoYQQginSMEQwsWOHj3KHXfcwfjx4/nFL36BzWZj7969TJkyhd///vfccMMN3HTTTXz++ed8/fXXzJw5kwkTJrB+/fqObbz++us8/fTTKj4LIa4kBUMIF9u4cSNvvfUW27Zt48yZM6xbtw5o6xbEZrPxzTff8NOf/pQlS5Z09GT63nvvsW7dOoqKilROL0TXpGAI4WL33nsvkZGRWCwWHnvsMTZv3gyA0Wjksccew2Qycccdd1BdXc0DDzyAr68vI0aMYPjw4eTk5KicXoiuScEQwsUu7jY9KiqK8vJyoG3UwvZBnNo7cLx4HGez2UxDQ0M/JhWiZ6RgCOFiF3dfbrVaVe9xVghXkYIhhIu9//77lJaWUlNTw/r167njjjvUjiSES0jBEMLF5syZw0MPPcRtt91GbGwsjz32mNqRhHAJGQ9DCCGEU6SFIYQQwilSMIQQQjhFCoYQQginSMEQQgjhFCkYQgghnCIFQwghhFOkYAghhHCKFAwhhBBOkYIhhBDCKf8/91/gCABmseAAAAAASUVORK5CYII=\n"
          },
          "metadata": {}
        }
      ]
    },
    {
      "cell_type": "code",
      "source": [
        "#“smoker” ile “charges” arasındaki ilişkiyi inceleyiniz\n",
        "#Pandas groupby is used for grouping the data according to the categories and apply a function to the categories. \n",
        "#It also helps to aggregate data efficiently.\n",
        "\n",
        "df.groupby([\"region\",\"smoker\"]).size().reset_index(name=\"count\")"
      ],
      "metadata": {
        "colab": {
          "base_uri": "https://localhost:8080/",
          "height": 300
        },
        "id": "zN9H1WSVhVPV",
        "outputId": "cb8c8f25-3f0c-4d76-e04e-7d61b564a167"
      },
      "execution_count": null,
      "outputs": [
        {
          "output_type": "execute_result",
          "data": {
            "text/plain": [
              "      region smoker  count\n",
              "0  northeast     no    257\n",
              "1  northeast    yes     67\n",
              "2  northwest     no    266\n",
              "3  northwest    yes     58\n",
              "4  southeast     no    273\n",
              "5  southeast    yes     91\n",
              "6  southwest     no    267\n",
              "7  southwest    yes     58"
            ],
            "text/html": [
              "\n",
              "  <div id=\"df-7f96c01d-9c26-4ba2-a2db-947097147824\">\n",
              "    <div class=\"colab-df-container\">\n",
              "      <div>\n",
              "<style scoped>\n",
              "    .dataframe tbody tr th:only-of-type {\n",
              "        vertical-align: middle;\n",
              "    }\n",
              "\n",
              "    .dataframe tbody tr th {\n",
              "        vertical-align: top;\n",
              "    }\n",
              "\n",
              "    .dataframe thead th {\n",
              "        text-align: right;\n",
              "    }\n",
              "</style>\n",
              "<table border=\"1\" class=\"dataframe\">\n",
              "  <thead>\n",
              "    <tr style=\"text-align: right;\">\n",
              "      <th></th>\n",
              "      <th>region</th>\n",
              "      <th>smoker</th>\n",
              "      <th>count</th>\n",
              "    </tr>\n",
              "  </thead>\n",
              "  <tbody>\n",
              "    <tr>\n",
              "      <th>0</th>\n",
              "      <td>northeast</td>\n",
              "      <td>no</td>\n",
              "      <td>257</td>\n",
              "    </tr>\n",
              "    <tr>\n",
              "      <th>1</th>\n",
              "      <td>northeast</td>\n",
              "      <td>yes</td>\n",
              "      <td>67</td>\n",
              "    </tr>\n",
              "    <tr>\n",
              "      <th>2</th>\n",
              "      <td>northwest</td>\n",
              "      <td>no</td>\n",
              "      <td>266</td>\n",
              "    </tr>\n",
              "    <tr>\n",
              "      <th>3</th>\n",
              "      <td>northwest</td>\n",
              "      <td>yes</td>\n",
              "      <td>58</td>\n",
              "    </tr>\n",
              "    <tr>\n",
              "      <th>4</th>\n",
              "      <td>southeast</td>\n",
              "      <td>no</td>\n",
              "      <td>273</td>\n",
              "    </tr>\n",
              "    <tr>\n",
              "      <th>5</th>\n",
              "      <td>southeast</td>\n",
              "      <td>yes</td>\n",
              "      <td>91</td>\n",
              "    </tr>\n",
              "    <tr>\n",
              "      <th>6</th>\n",
              "      <td>southwest</td>\n",
              "      <td>no</td>\n",
              "      <td>267</td>\n",
              "    </tr>\n",
              "    <tr>\n",
              "      <th>7</th>\n",
              "      <td>southwest</td>\n",
              "      <td>yes</td>\n",
              "      <td>58</td>\n",
              "    </tr>\n",
              "  </tbody>\n",
              "</table>\n",
              "</div>\n",
              "      <button class=\"colab-df-convert\" onclick=\"convertToInteractive('df-7f96c01d-9c26-4ba2-a2db-947097147824')\"\n",
              "              title=\"Convert this dataframe to an interactive table.\"\n",
              "              style=\"display:none;\">\n",
              "        \n",
              "  <svg xmlns=\"http://www.w3.org/2000/svg\" height=\"24px\"viewBox=\"0 0 24 24\"\n",
              "       width=\"24px\">\n",
              "    <path d=\"M0 0h24v24H0V0z\" fill=\"none\"/>\n",
              "    <path d=\"M18.56 5.44l.94 2.06.94-2.06 2.06-.94-2.06-.94-.94-2.06-.94 2.06-2.06.94zm-11 1L8.5 8.5l.94-2.06 2.06-.94-2.06-.94L8.5 2.5l-.94 2.06-2.06.94zm10 10l.94 2.06.94-2.06 2.06-.94-2.06-.94-.94-2.06-.94 2.06-2.06.94z\"/><path d=\"M17.41 7.96l-1.37-1.37c-.4-.4-.92-.59-1.43-.59-.52 0-1.04.2-1.43.59L10.3 9.45l-7.72 7.72c-.78.78-.78 2.05 0 2.83L4 21.41c.39.39.9.59 1.41.59.51 0 1.02-.2 1.41-.59l7.78-7.78 2.81-2.81c.8-.78.8-2.07 0-2.86zM5.41 20L4 18.59l7.72-7.72 1.47 1.35L5.41 20z\"/>\n",
              "  </svg>\n",
              "      </button>\n",
              "      \n",
              "  <style>\n",
              "    .colab-df-container {\n",
              "      display:flex;\n",
              "      flex-wrap:wrap;\n",
              "      gap: 12px;\n",
              "    }\n",
              "\n",
              "    .colab-df-convert {\n",
              "      background-color: #E8F0FE;\n",
              "      border: none;\n",
              "      border-radius: 50%;\n",
              "      cursor: pointer;\n",
              "      display: none;\n",
              "      fill: #1967D2;\n",
              "      height: 32px;\n",
              "      padding: 0 0 0 0;\n",
              "      width: 32px;\n",
              "    }\n",
              "\n",
              "    .colab-df-convert:hover {\n",
              "      background-color: #E2EBFA;\n",
              "      box-shadow: 0px 1px 2px rgba(60, 64, 67, 0.3), 0px 1px 3px 1px rgba(60, 64, 67, 0.15);\n",
              "      fill: #174EA6;\n",
              "    }\n",
              "\n",
              "    [theme=dark] .colab-df-convert {\n",
              "      background-color: #3B4455;\n",
              "      fill: #D2E3FC;\n",
              "    }\n",
              "\n",
              "    [theme=dark] .colab-df-convert:hover {\n",
              "      background-color: #434B5C;\n",
              "      box-shadow: 0px 1px 3px 1px rgba(0, 0, 0, 0.15);\n",
              "      filter: drop-shadow(0px 1px 2px rgba(0, 0, 0, 0.3));\n",
              "      fill: #FFFFFF;\n",
              "    }\n",
              "  </style>\n",
              "\n",
              "      <script>\n",
              "        const buttonEl =\n",
              "          document.querySelector('#df-7f96c01d-9c26-4ba2-a2db-947097147824 button.colab-df-convert');\n",
              "        buttonEl.style.display =\n",
              "          google.colab.kernel.accessAllowed ? 'block' : 'none';\n",
              "\n",
              "        async function convertToInteractive(key) {\n",
              "          const element = document.querySelector('#df-7f96c01d-9c26-4ba2-a2db-947097147824');\n",
              "          const dataTable =\n",
              "            await google.colab.kernel.invokeFunction('convertToInteractive',\n",
              "                                                     [key], {});\n",
              "          if (!dataTable) return;\n",
              "\n",
              "          const docLinkHtml = 'Like what you see? Visit the ' +\n",
              "            '<a target=\"_blank\" href=https://colab.research.google.com/notebooks/data_table.ipynb>data table notebook</a>'\n",
              "            + ' to learn more about interactive tables.';\n",
              "          element.innerHTML = '';\n",
              "          dataTable['output_type'] = 'display_data';\n",
              "          await google.colab.output.renderOutput(dataTable, element);\n",
              "          const docLink = document.createElement('div');\n",
              "          docLink.innerHTML = docLinkHtml;\n",
              "          element.appendChild(docLink);\n",
              "        }\n",
              "      </script>\n",
              "    </div>\n",
              "  </div>\n",
              "  "
            ]
          },
          "metadata": {},
          "execution_count": 158
        }
      ]
    },
    {
      "cell_type": "code",
      "source": [
        "# \"Smokers\" ve \"region\" arasındaki bağıntı\n",
        "sns.countplot(x=\"region\", hue=\"smoker\", data=df, palette=\"Set2\")"
      ],
      "metadata": {
        "colab": {
          "base_uri": "https://localhost:8080/",
          "height": 302
        },
        "id": "twag3eC7hWZh",
        "outputId": "48fb38bf-c351-4371-9e83-62f3f9d39135"
      },
      "execution_count": null,
      "outputs": [
        {
          "output_type": "execute_result",
          "data": {
            "text/plain": [
              "<matplotlib.axes._subplots.AxesSubplot at 0x7f1a26e2d2d0>"
            ]
          },
          "metadata": {},
          "execution_count": 159
        },
        {
          "output_type": "display_data",
          "data": {
            "text/plain": [
              "<Figure size 432x288 with 1 Axes>"
            ],
            "image/png": "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\n"
          },
          "metadata": {}
        }
      ]
    },
    {
      "cell_type": "code",
      "source": [
        "#“bmi” ile “sex”(Cinsiyet) arasındaki ilişkiyi inceleyiniz.\n",
        "sns.barplot(x = \"bmi\", y = \"sex\", data=df, palette=\"Set2\")"
      ],
      "metadata": {
        "colab": {
          "base_uri": "https://localhost:8080/",
          "height": 302
        },
        "id": "cCY1NMH_moFf",
        "outputId": "fd6d8d31-b3e8-4a50-cd61-e9a5d874d637"
      },
      "execution_count": null,
      "outputs": [
        {
          "output_type": "execute_result",
          "data": {
            "text/plain": [
              "<matplotlib.axes._subplots.AxesSubplot at 0x7f1a26dae210>"
            ]
          },
          "metadata": {},
          "execution_count": 160
        },
        {
          "output_type": "display_data",
          "data": {
            "text/plain": [
              "<Figure size 432x288 with 1 Axes>"
            ],
            "image/png": "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\n"
          },
          "metadata": {}
        }
      ]
    },
    {
      "cell_type": "code",
      "source": [
        "#En çok “children”’a sahip “region”’ı bulunuz.\n",
        "df.groupby([\"region\"]).size().reset_index(name=\"count\")"
      ],
      "metadata": {
        "colab": {
          "base_uri": "https://localhost:8080/",
          "height": 175
        },
        "id": "GoBKMiZGqf4a",
        "outputId": "3971b0b5-22a4-476d-bc66-b7accd7e050f"
      },
      "execution_count": null,
      "outputs": [
        {
          "output_type": "execute_result",
          "data": {
            "text/plain": [
              "      region  count\n",
              "0  northeast    324\n",
              "1  northwest    324\n",
              "2  southeast    364\n",
              "3  southwest    325"
            ],
            "text/html": [
              "\n",
              "  <div id=\"df-db77e69f-e8be-4d15-b768-fa41c7542f72\">\n",
              "    <div class=\"colab-df-container\">\n",
              "      <div>\n",
              "<style scoped>\n",
              "    .dataframe tbody tr th:only-of-type {\n",
              "        vertical-align: middle;\n",
              "    }\n",
              "\n",
              "    .dataframe tbody tr th {\n",
              "        vertical-align: top;\n",
              "    }\n",
              "\n",
              "    .dataframe thead th {\n",
              "        text-align: right;\n",
              "    }\n",
              "</style>\n",
              "<table border=\"1\" class=\"dataframe\">\n",
              "  <thead>\n",
              "    <tr style=\"text-align: right;\">\n",
              "      <th></th>\n",
              "      <th>region</th>\n",
              "      <th>count</th>\n",
              "    </tr>\n",
              "  </thead>\n",
              "  <tbody>\n",
              "    <tr>\n",
              "      <th>0</th>\n",
              "      <td>northeast</td>\n",
              "      <td>324</td>\n",
              "    </tr>\n",
              "    <tr>\n",
              "      <th>1</th>\n",
              "      <td>northwest</td>\n",
              "      <td>324</td>\n",
              "    </tr>\n",
              "    <tr>\n",
              "      <th>2</th>\n",
              "      <td>southeast</td>\n",
              "      <td>364</td>\n",
              "    </tr>\n",
              "    <tr>\n",
              "      <th>3</th>\n",
              "      <td>southwest</td>\n",
              "      <td>325</td>\n",
              "    </tr>\n",
              "  </tbody>\n",
              "</table>\n",
              "</div>\n",
              "      <button class=\"colab-df-convert\" onclick=\"convertToInteractive('df-db77e69f-e8be-4d15-b768-fa41c7542f72')\"\n",
              "              title=\"Convert this dataframe to an interactive table.\"\n",
              "              style=\"display:none;\">\n",
              "        \n",
              "  <svg xmlns=\"http://www.w3.org/2000/svg\" height=\"24px\"viewBox=\"0 0 24 24\"\n",
              "       width=\"24px\">\n",
              "    <path d=\"M0 0h24v24H0V0z\" fill=\"none\"/>\n",
              "    <path d=\"M18.56 5.44l.94 2.06.94-2.06 2.06-.94-2.06-.94-.94-2.06-.94 2.06-2.06.94zm-11 1L8.5 8.5l.94-2.06 2.06-.94-2.06-.94L8.5 2.5l-.94 2.06-2.06.94zm10 10l.94 2.06.94-2.06 2.06-.94-2.06-.94-.94-2.06-.94 2.06-2.06.94z\"/><path d=\"M17.41 7.96l-1.37-1.37c-.4-.4-.92-.59-1.43-.59-.52 0-1.04.2-1.43.59L10.3 9.45l-7.72 7.72c-.78.78-.78 2.05 0 2.83L4 21.41c.39.39.9.59 1.41.59.51 0 1.02-.2 1.41-.59l7.78-7.78 2.81-2.81c.8-.78.8-2.07 0-2.86zM5.41 20L4 18.59l7.72-7.72 1.47 1.35L5.41 20z\"/>\n",
              "  </svg>\n",
              "      </button>\n",
              "      \n",
              "  <style>\n",
              "    .colab-df-container {\n",
              "      display:flex;\n",
              "      flex-wrap:wrap;\n",
              "      gap: 12px;\n",
              "    }\n",
              "\n",
              "    .colab-df-convert {\n",
              "      background-color: #E8F0FE;\n",
              "      border: none;\n",
              "      border-radius: 50%;\n",
              "      cursor: pointer;\n",
              "      display: none;\n",
              "      fill: #1967D2;\n",
              "      height: 32px;\n",
              "      padding: 0 0 0 0;\n",
              "      width: 32px;\n",
              "    }\n",
              "\n",
              "    .colab-df-convert:hover {\n",
              "      background-color: #E2EBFA;\n",
              "      box-shadow: 0px 1px 2px rgba(60, 64, 67, 0.3), 0px 1px 3px 1px rgba(60, 64, 67, 0.15);\n",
              "      fill: #174EA6;\n",
              "    }\n",
              "\n",
              "    [theme=dark] .colab-df-convert {\n",
              "      background-color: #3B4455;\n",
              "      fill: #D2E3FC;\n",
              "    }\n",
              "\n",
              "    [theme=dark] .colab-df-convert:hover {\n",
              "      background-color: #434B5C;\n",
              "      box-shadow: 0px 1px 3px 1px rgba(0, 0, 0, 0.15);\n",
              "      filter: drop-shadow(0px 1px 2px rgba(0, 0, 0, 0.3));\n",
              "      fill: #FFFFFF;\n",
              "    }\n",
              "  </style>\n",
              "\n",
              "      <script>\n",
              "        const buttonEl =\n",
              "          document.querySelector('#df-db77e69f-e8be-4d15-b768-fa41c7542f72 button.colab-df-convert');\n",
              "        buttonEl.style.display =\n",
              "          google.colab.kernel.accessAllowed ? 'block' : 'none';\n",
              "\n",
              "        async function convertToInteractive(key) {\n",
              "          const element = document.querySelector('#df-db77e69f-e8be-4d15-b768-fa41c7542f72');\n",
              "          const dataTable =\n",
              "            await google.colab.kernel.invokeFunction('convertToInteractive',\n",
              "                                                     [key], {});\n",
              "          if (!dataTable) return;\n",
              "\n",
              "          const docLinkHtml = 'Like what you see? Visit the ' +\n",
              "            '<a target=\"_blank\" href=https://colab.research.google.com/notebooks/data_table.ipynb>data table notebook</a>'\n",
              "            + ' to learn more about interactive tables.';\n",
              "          element.innerHTML = '';\n",
              "          dataTable['output_type'] = 'display_data';\n",
              "          await google.colab.output.renderOutput(dataTable, element);\n",
              "          const docLink = document.createElement('div');\n",
              "          docLink.innerHTML = docLinkHtml;\n",
              "          element.appendChild(docLink);\n",
              "        }\n",
              "      </script>\n",
              "    </div>\n",
              "  </div>\n",
              "  "
            ]
          },
          "metadata": {},
          "execution_count": 161
        }
      ]
    },
    {
      "cell_type": "code",
      "source": [
        "# “Age” ile “bmi” arasındaki ilişkiyi inceleyiniz.\n",
        "sns.lineplot(x=\"age\", y=\"bmi\", hue=\"sex\", data=df, palette=\"Set2\") "
      ],
      "metadata": {
        "colab": {
          "base_uri": "https://localhost:8080/",
          "height": 304
        },
        "id": "t2TLNI6WseXG",
        "outputId": "42ec3d3c-acbf-45ce-def4-70b912de14fa"
      },
      "execution_count": null,
      "outputs": [
        {
          "output_type": "execute_result",
          "data": {
            "text/plain": [
              "<matplotlib.axes._subplots.AxesSubplot at 0x7f1a26d15690>"
            ]
          },
          "metadata": {},
          "execution_count": 162
        },
        {
          "output_type": "display_data",
          "data": {
            "text/plain": [
              "<Figure size 432x288 with 1 Axes>"
            ],
            "image/png": "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\n"
          },
          "metadata": {}
        }
      ]
    },
    {
      "cell_type": "code",
      "source": [
        " #“bmi” ile “children” arasındaki ilişkiyi inceleyiniz.\n",
        "df.groupby([\"children\"])[\"bmi\"].describe()"
      ],
      "metadata": {
        "colab": {
          "base_uri": "https://localhost:8080/",
          "height": 269
        },
        "id": "RUZo1PNLsz9b",
        "outputId": "9219c5a5-d2a9-4836-a669-5514975a9d0e"
      },
      "execution_count": null,
      "outputs": [
        {
          "output_type": "execute_result",
          "data": {
            "text/plain": [
              "          count       mean       std     min       25%     50%      75%    max\n",
              "children                                                                      \n",
              "0         573.0  30.550227  6.044383  15.960  26.12500  30.300  34.7700  53.13\n",
              "1         324.0  30.623148  6.101435  16.815  26.61500  30.015  34.2375  52.58\n",
              "2         240.0  30.978104  6.509644  16.815  25.78625  31.640  35.3575  48.07\n",
              "3         157.0  30.684331  5.787173  18.905  27.26500  30.495  34.3200  46.53\n",
              "4          25.0  31.391200  4.627211  24.415  28.21500  29.640  33.6600  41.47\n",
              "5          18.0  29.605000  7.139686  18.300  24.30250  28.550  33.0550  46.75"
            ],
            "text/html": [
              "\n",
              "  <div id=\"df-9791813b-295a-4bdf-929c-7c9d0a6d6057\">\n",
              "    <div class=\"colab-df-container\">\n",
              "      <div>\n",
              "<style scoped>\n",
              "    .dataframe tbody tr th:only-of-type {\n",
              "        vertical-align: middle;\n",
              "    }\n",
              "\n",
              "    .dataframe tbody tr th {\n",
              "        vertical-align: top;\n",
              "    }\n",
              "\n",
              "    .dataframe thead th {\n",
              "        text-align: right;\n",
              "    }\n",
              "</style>\n",
              "<table border=\"1\" class=\"dataframe\">\n",
              "  <thead>\n",
              "    <tr style=\"text-align: right;\">\n",
              "      <th></th>\n",
              "      <th>count</th>\n",
              "      <th>mean</th>\n",
              "      <th>std</th>\n",
              "      <th>min</th>\n",
              "      <th>25%</th>\n",
              "      <th>50%</th>\n",
              "      <th>75%</th>\n",
              "      <th>max</th>\n",
              "    </tr>\n",
              "    <tr>\n",
              "      <th>children</th>\n",
              "      <th></th>\n",
              "      <th></th>\n",
              "      <th></th>\n",
              "      <th></th>\n",
              "      <th></th>\n",
              "      <th></th>\n",
              "      <th></th>\n",
              "      <th></th>\n",
              "    </tr>\n",
              "  </thead>\n",
              "  <tbody>\n",
              "    <tr>\n",
              "      <th>0</th>\n",
              "      <td>573.0</td>\n",
              "      <td>30.550227</td>\n",
              "      <td>6.044383</td>\n",
              "      <td>15.960</td>\n",
              "      <td>26.12500</td>\n",
              "      <td>30.300</td>\n",
              "      <td>34.7700</td>\n",
              "      <td>53.13</td>\n",
              "    </tr>\n",
              "    <tr>\n",
              "      <th>1</th>\n",
              "      <td>324.0</td>\n",
              "      <td>30.623148</td>\n",
              "      <td>6.101435</td>\n",
              "      <td>16.815</td>\n",
              "      <td>26.61500</td>\n",
              "      <td>30.015</td>\n",
              "      <td>34.2375</td>\n",
              "      <td>52.58</td>\n",
              "    </tr>\n",
              "    <tr>\n",
              "      <th>2</th>\n",
              "      <td>240.0</td>\n",
              "      <td>30.978104</td>\n",
              "      <td>6.509644</td>\n",
              "      <td>16.815</td>\n",
              "      <td>25.78625</td>\n",
              "      <td>31.640</td>\n",
              "      <td>35.3575</td>\n",
              "      <td>48.07</td>\n",
              "    </tr>\n",
              "    <tr>\n",
              "      <th>3</th>\n",
              "      <td>157.0</td>\n",
              "      <td>30.684331</td>\n",
              "      <td>5.787173</td>\n",
              "      <td>18.905</td>\n",
              "      <td>27.26500</td>\n",
              "      <td>30.495</td>\n",
              "      <td>34.3200</td>\n",
              "      <td>46.53</td>\n",
              "    </tr>\n",
              "    <tr>\n",
              "      <th>4</th>\n",
              "      <td>25.0</td>\n",
              "      <td>31.391200</td>\n",
              "      <td>4.627211</td>\n",
              "      <td>24.415</td>\n",
              "      <td>28.21500</td>\n",
              "      <td>29.640</td>\n",
              "      <td>33.6600</td>\n",
              "      <td>41.47</td>\n",
              "    </tr>\n",
              "    <tr>\n",
              "      <th>5</th>\n",
              "      <td>18.0</td>\n",
              "      <td>29.605000</td>\n",
              "      <td>7.139686</td>\n",
              "      <td>18.300</td>\n",
              "      <td>24.30250</td>\n",
              "      <td>28.550</td>\n",
              "      <td>33.0550</td>\n",
              "      <td>46.75</td>\n",
              "    </tr>\n",
              "  </tbody>\n",
              "</table>\n",
              "</div>\n",
              "      <button class=\"colab-df-convert\" onclick=\"convertToInteractive('df-9791813b-295a-4bdf-929c-7c9d0a6d6057')\"\n",
              "              title=\"Convert this dataframe to an interactive table.\"\n",
              "              style=\"display:none;\">\n",
              "        \n",
              "  <svg xmlns=\"http://www.w3.org/2000/svg\" height=\"24px\"viewBox=\"0 0 24 24\"\n",
              "       width=\"24px\">\n",
              "    <path d=\"M0 0h24v24H0V0z\" fill=\"none\"/>\n",
              "    <path d=\"M18.56 5.44l.94 2.06.94-2.06 2.06-.94-2.06-.94-.94-2.06-.94 2.06-2.06.94zm-11 1L8.5 8.5l.94-2.06 2.06-.94-2.06-.94L8.5 2.5l-.94 2.06-2.06.94zm10 10l.94 2.06.94-2.06 2.06-.94-2.06-.94-.94-2.06-.94 2.06-2.06.94z\"/><path d=\"M17.41 7.96l-1.37-1.37c-.4-.4-.92-.59-1.43-.59-.52 0-1.04.2-1.43.59L10.3 9.45l-7.72 7.72c-.78.78-.78 2.05 0 2.83L4 21.41c.39.39.9.59 1.41.59.51 0 1.02-.2 1.41-.59l7.78-7.78 2.81-2.81c.8-.78.8-2.07 0-2.86zM5.41 20L4 18.59l7.72-7.72 1.47 1.35L5.41 20z\"/>\n",
              "  </svg>\n",
              "      </button>\n",
              "      \n",
              "  <style>\n",
              "    .colab-df-container {\n",
              "      display:flex;\n",
              "      flex-wrap:wrap;\n",
              "      gap: 12px;\n",
              "    }\n",
              "\n",
              "    .colab-df-convert {\n",
              "      background-color: #E8F0FE;\n",
              "      border: none;\n",
              "      border-radius: 50%;\n",
              "      cursor: pointer;\n",
              "      display: none;\n",
              "      fill: #1967D2;\n",
              "      height: 32px;\n",
              "      padding: 0 0 0 0;\n",
              "      width: 32px;\n",
              "    }\n",
              "\n",
              "    .colab-df-convert:hover {\n",
              "      background-color: #E2EBFA;\n",
              "      box-shadow: 0px 1px 2px rgba(60, 64, 67, 0.3), 0px 1px 3px 1px rgba(60, 64, 67, 0.15);\n",
              "      fill: #174EA6;\n",
              "    }\n",
              "\n",
              "    [theme=dark] .colab-df-convert {\n",
              "      background-color: #3B4455;\n",
              "      fill: #D2E3FC;\n",
              "    }\n",
              "\n",
              "    [theme=dark] .colab-df-convert:hover {\n",
              "      background-color: #434B5C;\n",
              "      box-shadow: 0px 1px 3px 1px rgba(0, 0, 0, 0.15);\n",
              "      filter: drop-shadow(0px 1px 2px rgba(0, 0, 0, 0.3));\n",
              "      fill: #FFFFFF;\n",
              "    }\n",
              "  </style>\n",
              "\n",
              "      <script>\n",
              "        const buttonEl =\n",
              "          document.querySelector('#df-9791813b-295a-4bdf-929c-7c9d0a6d6057 button.colab-df-convert');\n",
              "        buttonEl.style.display =\n",
              "          google.colab.kernel.accessAllowed ? 'block' : 'none';\n",
              "\n",
              "        async function convertToInteractive(key) {\n",
              "          const element = document.querySelector('#df-9791813b-295a-4bdf-929c-7c9d0a6d6057');\n",
              "          const dataTable =\n",
              "            await google.colab.kernel.invokeFunction('convertToInteractive',\n",
              "                                                     [key], {});\n",
              "          if (!dataTable) return;\n",
              "\n",
              "          const docLinkHtml = 'Like what you see? Visit the ' +\n",
              "            '<a target=\"_blank\" href=https://colab.research.google.com/notebooks/data_table.ipynb>data table notebook</a>'\n",
              "            + ' to learn more about interactive tables.';\n",
              "          element.innerHTML = '';\n",
              "          dataTable['output_type'] = 'display_data';\n",
              "          await google.colab.output.renderOutput(dataTable, element);\n",
              "          const docLink = document.createElement('div');\n",
              "          docLink.innerHTML = docLinkHtml;\n",
              "          element.appendChild(docLink);\n",
              "        }\n",
              "      </script>\n",
              "    </div>\n",
              "  </div>\n",
              "  "
            ]
          },
          "metadata": {},
          "execution_count": 163
        }
      ]
    },
    {
      "cell_type": "markdown",
      "source": [],
      "metadata": {
        "id": "ErcYJD9bFfWu"
      }
    },
    {
      "cell_type": "code",
      "source": [
        "#“bmi” değişkeninde outlier var mıdır?\n",
        "sns.boxplot(data=df, x=\"bmi\")"
      ],
      "metadata": {
        "colab": {
          "base_uri": "https://localhost:8080/",
          "height": 302
        },
        "id": "437OE3dCkJOh",
        "outputId": "dbc5d0cb-0d19-4945-f505-469f4b14d181"
      },
      "execution_count": null,
      "outputs": [
        {
          "output_type": "execute_result",
          "data": {
            "text/plain": [
              "<matplotlib.axes._subplots.AxesSubplot at 0x7f1a26cadad0>"
            ]
          },
          "metadata": {},
          "execution_count": 164
        },
        {
          "output_type": "display_data",
          "data": {
            "text/plain": [
              "<Figure size 432x288 with 1 Axes>"
            ],
            "image/png": "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\n"
          },
          "metadata": {}
        }
      ]
    },
    {
      "cell_type": "code",
      "source": [
        "#üstteki şemada görüldüğü üzere üst değerlerde aykırı değerler bulunmaktadır. bunun için atma işlemi uyguluyoruz. \n",
        "df_bmi = df['bmi']\n",
        "Q1 = df_bmi.quantile(0.25)\n",
        "print(f\"Q1: {Q1}\")\n",
        "Q3 = df_bmi.quantile(0.75)\n",
        "print(f\"Q3: {Q1}\")\n",
        "IQR = Q3 - Q1\n",
        "print(f\"IQR: {Q1}\")\n",
        "lower_threshold = Q1 - 1.5*IQR\n",
        "print(f\"lower_threshold: {lower_threshold}\")\n",
        "upper_threshold = Q3 + 1.5*IQR\n",
        "print(f\"upper_threshold: {upper_threshold}\")"
      ],
      "metadata": {
        "colab": {
          "base_uri": "https://localhost:8080/"
        },
        "id": "L94ADLMDkRsN",
        "outputId": "cb7a8d42-60a6-43b9-b0af-7ae52a532dad"
      },
      "execution_count": null,
      "outputs": [
        {
          "output_type": "stream",
          "name": "stdout",
          "text": [
            "Q1: 26.29\n",
            "Q3: 26.29\n",
            "IQR: 26.29\n",
            "lower_threshold: 13.674999999999994\n",
            "upper_threshold: 47.31500000000001\n"
          ]
        }
      ]
    },
    {
      "cell_type": "code",
      "source": [
        "upper_outliers_count = df.query(f'bmi > {upper_threshold}')[\"bmi\"].count()\n",
        "print(f\"Upper_outliers_count: {upper_outliers_count}\")"
      ],
      "metadata": {
        "colab": {
          "base_uri": "https://localhost:8080/"
        },
        "id": "WHq9nv0Ski_f",
        "outputId": "c3280fde-5d3f-489e-f811-c5ee8fcf39a1"
      },
      "execution_count": null,
      "outputs": [
        {
          "output_type": "stream",
          "name": "stdout",
          "text": [
            "Upper_outliers_count: 9\n"
          ]
        }
      ]
    },
    {
      "cell_type": "code",
      "source": [
        "df_bmi = df['bmi']\n",
        "upper_outliers = df[df_bmi > upper_threshold]\n",
        "upper_outliers[\"bmi\"] = upper_threshold\n",
        "upper_outliers"
      ],
      "metadata": {
        "colab": {
          "base_uri": "https://localhost:8080/",
          "height": 332
        },
        "id": "mr_XxbdWkqGo",
        "outputId": "b9e7da73-3414-4541-d500-b0c906efc10c"
      },
      "execution_count": null,
      "outputs": [
        {
          "output_type": "execute_result",
          "data": {
            "text/plain": [
              "      age     sex     bmi  children smoker     region      charges\n",
              "116    58    male  47.315         0     no  southeast  11381.32540\n",
              "286    46  female  47.315         2     no  northeast   9432.92530\n",
              "401    47    male  47.315         1     no  southeast   8083.91980\n",
              "543    54  female  47.315         0    yes  southeast  63770.42801\n",
              "847    23    male  47.315         1     no  southeast   2438.05520\n",
              "860    37  female  47.315         2    yes  southwest  46113.51100\n",
              "1047   22    male  47.315         1    yes  southeast  44501.39820\n",
              "1088   52    male  47.315         1     no  southeast   9748.91060\n",
              "1317   18    male  47.315         0     no  southeast   1163.46270"
            ],
            "text/html": [
              "\n",
              "  <div id=\"df-1802e9d7-8faf-402e-a8bc-3a26f6793447\">\n",
              "    <div class=\"colab-df-container\">\n",
              "      <div>\n",
              "<style scoped>\n",
              "    .dataframe tbody tr th:only-of-type {\n",
              "        vertical-align: middle;\n",
              "    }\n",
              "\n",
              "    .dataframe tbody tr th {\n",
              "        vertical-align: top;\n",
              "    }\n",
              "\n",
              "    .dataframe thead th {\n",
              "        text-align: right;\n",
              "    }\n",
              "</style>\n",
              "<table border=\"1\" class=\"dataframe\">\n",
              "  <thead>\n",
              "    <tr style=\"text-align: right;\">\n",
              "      <th></th>\n",
              "      <th>age</th>\n",
              "      <th>sex</th>\n",
              "      <th>bmi</th>\n",
              "      <th>children</th>\n",
              "      <th>smoker</th>\n",
              "      <th>region</th>\n",
              "      <th>charges</th>\n",
              "    </tr>\n",
              "  </thead>\n",
              "  <tbody>\n",
              "    <tr>\n",
              "      <th>116</th>\n",
              "      <td>58</td>\n",
              "      <td>male</td>\n",
              "      <td>47.315</td>\n",
              "      <td>0</td>\n",
              "      <td>no</td>\n",
              "      <td>southeast</td>\n",
              "      <td>11381.32540</td>\n",
              "    </tr>\n",
              "    <tr>\n",
              "      <th>286</th>\n",
              "      <td>46</td>\n",
              "      <td>female</td>\n",
              "      <td>47.315</td>\n",
              "      <td>2</td>\n",
              "      <td>no</td>\n",
              "      <td>northeast</td>\n",
              "      <td>9432.92530</td>\n",
              "    </tr>\n",
              "    <tr>\n",
              "      <th>401</th>\n",
              "      <td>47</td>\n",
              "      <td>male</td>\n",
              "      <td>47.315</td>\n",
              "      <td>1</td>\n",
              "      <td>no</td>\n",
              "      <td>southeast</td>\n",
              "      <td>8083.91980</td>\n",
              "    </tr>\n",
              "    <tr>\n",
              "      <th>543</th>\n",
              "      <td>54</td>\n",
              "      <td>female</td>\n",
              "      <td>47.315</td>\n",
              "      <td>0</td>\n",
              "      <td>yes</td>\n",
              "      <td>southeast</td>\n",
              "      <td>63770.42801</td>\n",
              "    </tr>\n",
              "    <tr>\n",
              "      <th>847</th>\n",
              "      <td>23</td>\n",
              "      <td>male</td>\n",
              "      <td>47.315</td>\n",
              "      <td>1</td>\n",
              "      <td>no</td>\n",
              "      <td>southeast</td>\n",
              "      <td>2438.05520</td>\n",
              "    </tr>\n",
              "    <tr>\n",
              "      <th>860</th>\n",
              "      <td>37</td>\n",
              "      <td>female</td>\n",
              "      <td>47.315</td>\n",
              "      <td>2</td>\n",
              "      <td>yes</td>\n",
              "      <td>southwest</td>\n",
              "      <td>46113.51100</td>\n",
              "    </tr>\n",
              "    <tr>\n",
              "      <th>1047</th>\n",
              "      <td>22</td>\n",
              "      <td>male</td>\n",
              "      <td>47.315</td>\n",
              "      <td>1</td>\n",
              "      <td>yes</td>\n",
              "      <td>southeast</td>\n",
              "      <td>44501.39820</td>\n",
              "    </tr>\n",
              "    <tr>\n",
              "      <th>1088</th>\n",
              "      <td>52</td>\n",
              "      <td>male</td>\n",
              "      <td>47.315</td>\n",
              "      <td>1</td>\n",
              "      <td>no</td>\n",
              "      <td>southeast</td>\n",
              "      <td>9748.91060</td>\n",
              "    </tr>\n",
              "    <tr>\n",
              "      <th>1317</th>\n",
              "      <td>18</td>\n",
              "      <td>male</td>\n",
              "      <td>47.315</td>\n",
              "      <td>0</td>\n",
              "      <td>no</td>\n",
              "      <td>southeast</td>\n",
              "      <td>1163.46270</td>\n",
              "    </tr>\n",
              "  </tbody>\n",
              "</table>\n",
              "</div>\n",
              "      <button class=\"colab-df-convert\" onclick=\"convertToInteractive('df-1802e9d7-8faf-402e-a8bc-3a26f6793447')\"\n",
              "              title=\"Convert this dataframe to an interactive table.\"\n",
              "              style=\"display:none;\">\n",
              "        \n",
              "  <svg xmlns=\"http://www.w3.org/2000/svg\" height=\"24px\"viewBox=\"0 0 24 24\"\n",
              "       width=\"24px\">\n",
              "    <path d=\"M0 0h24v24H0V0z\" fill=\"none\"/>\n",
              "    <path d=\"M18.56 5.44l.94 2.06.94-2.06 2.06-.94-2.06-.94-.94-2.06-.94 2.06-2.06.94zm-11 1L8.5 8.5l.94-2.06 2.06-.94-2.06-.94L8.5 2.5l-.94 2.06-2.06.94zm10 10l.94 2.06.94-2.06 2.06-.94-2.06-.94-.94-2.06-.94 2.06-2.06.94z\"/><path d=\"M17.41 7.96l-1.37-1.37c-.4-.4-.92-.59-1.43-.59-.52 0-1.04.2-1.43.59L10.3 9.45l-7.72 7.72c-.78.78-.78 2.05 0 2.83L4 21.41c.39.39.9.59 1.41.59.51 0 1.02-.2 1.41-.59l7.78-7.78 2.81-2.81c.8-.78.8-2.07 0-2.86zM5.41 20L4 18.59l7.72-7.72 1.47 1.35L5.41 20z\"/>\n",
              "  </svg>\n",
              "      </button>\n",
              "      \n",
              "  <style>\n",
              "    .colab-df-container {\n",
              "      display:flex;\n",
              "      flex-wrap:wrap;\n",
              "      gap: 12px;\n",
              "    }\n",
              "\n",
              "    .colab-df-convert {\n",
              "      background-color: #E8F0FE;\n",
              "      border: none;\n",
              "      border-radius: 50%;\n",
              "      cursor: pointer;\n",
              "      display: none;\n",
              "      fill: #1967D2;\n",
              "      height: 32px;\n",
              "      padding: 0 0 0 0;\n",
              "      width: 32px;\n",
              "    }\n",
              "\n",
              "    .colab-df-convert:hover {\n",
              "      background-color: #E2EBFA;\n",
              "      box-shadow: 0px 1px 2px rgba(60, 64, 67, 0.3), 0px 1px 3px 1px rgba(60, 64, 67, 0.15);\n",
              "      fill: #174EA6;\n",
              "    }\n",
              "\n",
              "    [theme=dark] .colab-df-convert {\n",
              "      background-color: #3B4455;\n",
              "      fill: #D2E3FC;\n",
              "    }\n",
              "\n",
              "    [theme=dark] .colab-df-convert:hover {\n",
              "      background-color: #434B5C;\n",
              "      box-shadow: 0px 1px 3px 1px rgba(0, 0, 0, 0.15);\n",
              "      filter: drop-shadow(0px 1px 2px rgba(0, 0, 0, 0.3));\n",
              "      fill: #FFFFFF;\n",
              "    }\n",
              "  </style>\n",
              "\n",
              "      <script>\n",
              "        const buttonEl =\n",
              "          document.querySelector('#df-1802e9d7-8faf-402e-a8bc-3a26f6793447 button.colab-df-convert');\n",
              "        buttonEl.style.display =\n",
              "          google.colab.kernel.accessAllowed ? 'block' : 'none';\n",
              "\n",
              "        async function convertToInteractive(key) {\n",
              "          const element = document.querySelector('#df-1802e9d7-8faf-402e-a8bc-3a26f6793447');\n",
              "          const dataTable =\n",
              "            await google.colab.kernel.invokeFunction('convertToInteractive',\n",
              "                                                     [key], {});\n",
              "          if (!dataTable) return;\n",
              "\n",
              "          const docLinkHtml = 'Like what you see? Visit the ' +\n",
              "            '<a target=\"_blank\" href=https://colab.research.google.com/notebooks/data_table.ipynb>data table notebook</a>'\n",
              "            + ' to learn more about interactive tables.';\n",
              "          element.innerHTML = '';\n",
              "          dataTable['output_type'] = 'display_data';\n",
              "          await google.colab.output.renderOutput(dataTable, element);\n",
              "          const docLink = document.createElement('div');\n",
              "          docLink.innerHTML = docLinkHtml;\n",
              "          element.appendChild(docLink);\n",
              "        }\n",
              "      </script>\n",
              "    </div>\n",
              "  </div>\n",
              "  "
            ]
          },
          "metadata": {},
          "execution_count": 167
        }
      ]
    },
    {
      "cell_type": "code",
      "source": [
        "non_outliers = df[~(df[\"bmi\"] > upper_threshold)]\n",
        "new_df = pd.concat([non_outliers, upper_outliers])\n",
        "new_df.reset_index(inplace=True)\n",
        "new_df.drop(columns = ['index'], inplace=True)"
      ],
      "metadata": {
        "id": "k919bgTsktxK"
      },
      "execution_count": null,
      "outputs": []
    },
    {
      "cell_type": "code",
      "source": [
        "sns.boxplot(data=df, x=\"bmi\")"
      ],
      "metadata": {
        "colab": {
          "base_uri": "https://localhost:8080/",
          "height": 302
        },
        "id": "qY4WTBERk6bh",
        "outputId": "6b036ebb-8fd6-43bd-bca3-0f8c4e771def"
      },
      "execution_count": null,
      "outputs": [
        {
          "output_type": "execute_result",
          "data": {
            "text/plain": [
              "<matplotlib.axes._subplots.AxesSubplot at 0x7f1a26c3b8d0>"
            ]
          },
          "metadata": {},
          "execution_count": 169
        },
        {
          "output_type": "display_data",
          "data": {
            "text/plain": [
              "<Figure size 432x288 with 1 Axes>"
            ],
            "image/png": "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\n"
          },
          "metadata": {}
        }
      ]
    },
    {
      "cell_type": "code",
      "source": [
        "sns.boxplot(data=new_df, x=\"bmi\")"
      ],
      "metadata": {
        "colab": {
          "base_uri": "https://localhost:8080/",
          "height": 302
        },
        "id": "IOImfE_mlBQG",
        "outputId": "2ceb2f83-f76d-4b93-99b7-8551294649db"
      },
      "execution_count": null,
      "outputs": [
        {
          "output_type": "execute_result",
          "data": {
            "text/plain": [
              "<matplotlib.axes._subplots.AxesSubplot at 0x7f1a26baa450>"
            ]
          },
          "metadata": {},
          "execution_count": 170
        },
        {
          "output_type": "display_data",
          "data": {
            "text/plain": [
              "<Figure size 432x288 with 1 Axes>"
            ],
            "image/png": "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\n"
          },
          "metadata": {}
        }
      ]
    },
    {
      "cell_type": "code",
      "source": [
        "df=new_df"
      ],
      "metadata": {
        "id": "GFakOpqolDES"
      },
      "execution_count": null,
      "outputs": []
    },
    {
      "cell_type": "code",
      "source": [
        "sns.boxplot(data=df, x=\"bmi\")"
      ],
      "metadata": {
        "colab": {
          "base_uri": "https://localhost:8080/",
          "height": 302
        },
        "id": "jCsG01MmlFiN",
        "outputId": "f90aa5c4-69df-4d7f-d35a-738470556405"
      },
      "execution_count": null,
      "outputs": [
        {
          "output_type": "execute_result",
          "data": {
            "text/plain": [
              "<matplotlib.axes._subplots.AxesSubplot at 0x7f1a26b0bb10>"
            ]
          },
          "metadata": {},
          "execution_count": 172
        },
        {
          "output_type": "display_data",
          "data": {
            "text/plain": [
              "<Figure size 432x288 with 1 Axes>"
            ],
            "image/png": "iVBORw0KGgoAAAANSUhEUgAAAV4AAAEMCAYAAACMbd7mAAAABHNCSVQICAgIfAhkiAAAAAlwSFlzAAALEgAACxIB0t1+/AAAADh0RVh0U29mdHdhcmUAbWF0cGxvdGxpYiB2ZXJzaW9uMy4yLjIsIGh0dHA6Ly9tYXRwbG90bGliLm9yZy+WH4yJAAANLElEQVR4nO3df2jUhR/H8ddu202cztsMdSYpq05GBsWsCEroNIoxwn+CsNYfqdEEg2LUlmaxippBFDYZmH+u+sNC0iJbDQuLZGlBh+HKk/VjU7+2W86zbe7u8/1D7nK/Tpz7vD/30efjr7aj2+vj9nl6+8zd5TmO4wgAYCbg9QAAuNYQXgAwRngBwBjhBQBjhBcAjBVkuzGVSimRSKiwsFB5eXlWmwDA1xzH0fnz51VcXKxAYPzj26zhTSQS6urqcm0cAFzNwuGwZs+ePe79WcNbWFiY+Z+DweCo26LRqJYtWzaNE+35/Rj8vl/y/zH4fb/k/2PIxf3Dw8Pq6urKNHSsrOFNX14IBoMqKioad/tE7/Mbvx+D3/dL/j8Gv++X/H8Mubp/sku0/HANAIwRXgAwRngBwBjhBQBjhBcAjBFeADBGeAHAGOEFAGOEFwCMEV4AMEZ4AcAY4QUAY4QXAIwRXgAwRngBwBjhBQBjhBcAjBFeADCW9aV/cHXZsWOHYrGY1zNGGRgY0K5duyRJ8XhcklRaWurlpEuqqKjQ+vXrvZ4BHyO815BYLKbokaPKnxHyespo/zsnSUoO9kuSTsSHvVyTVXojcCUI7zUmf0ZIMxev9HrGhM51fyVJObtP+m8jcCW4xgsAxggvABgjvABgjPACgDHCCwDGCC8AGCO8AGCM8AKAMcILAMYILwAYI7wAYIzwAoAxwgsAxggvABgjvABgjPACgDHCCwDGCC8AGCO8AGCM8AKAMcILAMYILwAYI7wAYIzwAoAxwgsAxggvABgjvABgjPACgDHCCwDGCC8AGCO8AGCM8AKAMcILAMYILwAYI7wAYIzwAoAxwgsAxggvABgjvABgjPACgDHXwtvR0aGOjg637h4AXOVmwwpcuVdJ7e3tkqRIJOLWhwAA17jZMC41AIAxwgsAxggvABgjvABgjPACgDHCCwDGCC8AGCO8AGCM8AKAMcILAMYILwAYI7wAYIzwAoAxwgsAxggvABgjvABgjPACgDHCCwDGCC8AGCO8AGCM8AKAMcILAMYILwAYI7wAYIzwAoAxwgsAxggvABgjvABgjPACgDHCCwDGCC8AGCO8AGCM8AKAMcILAMYILwAYI7wAYIzwAoAxwgsAxggvABgjvABgjPACgDHCCwDGCty64/7+fvX19amxsdGtD3HFBgYGtGvXLq9nTNnl7o/FYkqN5Lu46OqXGhlULBbLfF37/WtI8v8xuLU/FouprKxs2u9X4hEvAJhz7RFvKBRSKBTS66+/7taHuGKHDh1SVVWV1zOm7HL3NzY26pfYSRcXXf0CBTNUUTE/83Xt968hyf/H4NZ+N79b5xEvABgjvABgjPACgDHCCwDGCC8AGCO8AGCM8AKAMcILAMYILwAYI7wAYIzwAoAxwgsAxggvABgjvABgjPACgDHCCwDGCC8AGCO8AGCM8AKAMcILAMYILwAYI7wAYIzwAoAxwgsAxggvABgjvABgjPACgDHCCwDGCC8AGCO8AGCM8AKAMcILAMYILwAYI7wAYIzwAoAxwgsAxggvABgjvABgjPACgDHCCwDGCC8AGCtw647vv/9+t+4aAFznZsNcC28kEnHrrgHAdW42jEsNAGCM8AKAMcILAMYILwAYI7wAYIzwAoAxwgsAxggvABgjvABgjPACgDHCCwDGCC8AGCO8AGCM8AKAMcILAMYILwAYI7wAYIzwAoAxwgsAxggvABgjvABgjPACgDHCCwDGCC8AGCO8AGCM8AKAMcILAMYILwAYI7wAYIzwAoAxwgsAxggvABgjvABgjPACgDHCCwDGCC8AGCO8AGCM8AKAMcILAMYILwAYI7wAYKzA6wGwlRzs17nur7yeMaHkYL8k5ew+Kb1xvtcz4HOE9xpSUVHh9YRxBgYGNHv2bElSPB6UJJWWlno56RLm5+SfI/yF8F5D1q9f7/WEcQ4dOqSqqiqvZwCmuMYLAMYILwAYI7wAYIzwAoAxwgsAxggvABgjvABgjPACgDHCCwDGCC8AGCO8AGCM8AKAMcILAMYILwAYI7wAYIzwAoAxwgsAxggvABjL+tI/juNIkoaHhye8fWhoaPoXGfP7Mfh9v+T/Y/D7fsn/x5Br+9PNTDd0rDxnslt04YUIu7q63FkGAFe5cDiceTHXi2UNbyqVUiKRUGFhofLy8lwdCABXC8dxdP78eRUXFysQGH9FN2t4AQDTjx+uAYAxwgsAxggvABgjvABgjPACgDHCCwDGCC8AGMv6K8OS1NzcrH379umvv/7Snj17FA6HJUmRSETBYFBFRUWSpPr6et17773urp2ieDyu5557Tr///ruCwaAWL16spqYmlZWV6aefftKWLVs0NDSk66+/Xm+++abmzp3r9eRRsu1funSpwuFw5h9pb926VUuXLvV48cQ2bNigP//8U4FAQDNnztSLL76oyspKHT9+XA0NDerv71coFFJzc7OWLFni9dxxJtvvp3NBkt59911t27Ytcz774RwYa+wx+Ok8kCQ5l9DZ2en09PQ49913n3P06NHM+8e+ncvi8bjz/fffZ95+4403nMbGRieZTDqrVq1yOjs7HcdxnJaWFqehocGrmZOabL/jOE44HHbOnj3r1bTLcubMmcx/t7e3O6tXr3Ycx3Fqa2ud3bt3O47jOLt373Zqa2s92Xcpk+3307kQjUadtWvXZjb75Ry42NhjcBx/nQeO4ziXvNSwfPlylZeXW/wd4JpQKKS77ror8/Ztt92mnp4eRaNRFRUVafny5ZKkRx55RJ9//rlXMyc12X6/ufh31s+ePau8vDz9/fffOnLkiGpqaiRJNTU1OnLkiPr6+ryaOamJ9vvJ8PCwmpqa9PLLL2fe55dzIG2iY/CjS15qyKa+vl6O46iqqkrPPvusSkpKpmuXa1KplD744ANFIhH19vZq4cKFmdvKysqUSqUy3/Lmoov3p9XW1iqZTGrFihXauHGjgsGghwuz27Rpk7799ls5jqP33ntPvb29mj9/vvLz8yVJ+fn5mjdvnnp7e1VWVubx2vHG7k/zw7nwzjvv6KGHHtKiRYsy7/PbOTDRMaT56TyY8g/X2tra9Mknn+ijjz6S4zhqamqazl2ueeWVVzRz5kw99thjXk+ZkrH79+/fr48//lhtbW367bff1NLS4vHC7F577TXt379fzzzzjLZu3er1nMs20X4/nAs//vijotGo1qxZ4/WUKct2DH47D6Yc3vTlh2AwqDVr1ujw4cPTNsotzc3N6u7u1ttvv61AIKDy8vJR37L39fUpEAjk5N/00vj90n+fh1mzZunhhx/2xedBklavXq2DBw9qwYIFOnnypJLJpCQpmUzq1KlTOX95K70/Ho/74lzo7OzUsWPHtHLlSkUiEZ04cUJr165Vd3e3b86ByY7hwIEDvjsPphTec+fOaWBgQNKFpz/77LPPVFlZOa3Dpttbb72laDSqlpaWzLcgy5Yt0+DgoH744QdJ0ocffqgHH3zQy5mTmmj/P//8o8HBQUnSyMiI9u3bl7Ofh0Qiod7e3szbHR0dmjNnjubOnavKykrt3btXkrR3715VVlbm3GWGyfYXFRX54lx48skndeDAAXV0dKijo0MLFizQzp07tW7dOt+cA5Mdw6233uqb8yDtkk8L+eqrr+qLL77Q6dOnVVpaqlAopNbWVm3cuFHJZFKpVEo33nijNm/erHnz5lntviy//vqrampqtGTJEs2YMUOStGjRIrW0tOjw4cN66aWXRv1Tmuuuu87jxaNNtn/dunXasmWL8vLyNDIyottvv10vvPCCiouLPV483unTp7Vhwwb9+++/CgQCmjNnjp5//nndcsstOnbsmBoaGnTmzBmVlJSoublZFRUVXk8eZbL9JSUlvjoX0iKRiFpbWxUOh31xDkwkfQyJRMI350Eaz8cLAMb4zTUAMEZ4AcAY4QUAY4QXAIwRXgAwRniRcyKRiL777rsrvp/W1lZt2rRpGhYB0+uKnqsByGVPPfWU1xOACfGIFwCMEV7kpJ9//lnV1dW644471NjYqKGhIR08eFArVqzQjh07dPfdd+uee+7Rl19+qa+//loPPPCA7rzzTrW2tmbuY9u2baqvr/fwKICJEV7kpD179mjnzp1qb2/X8ePHtX37dkkXfnV3aGhI33zzjZ5++mlt3rw588xgbW1t2r59u/744w+P1wPZEV7kpEcffVTl5eUKhUKqq6vTp59+KkkqKChQXV2dCgsLVV1drXg8rscff1yzZs3SzTffrJtuuklHjx71eD2QHeFFTrr4aSEXLlyoU6dOSbrwahzpJ01PP2HQxa8PVlRUpEQiYbgUuHyEFznp4qdg7Onpyfln+wIuB+FFTnr//fd14sQJ9ff3q7W1VdXV1V5PAqYN4UVOqqmp0RNPPKFVq1bphhtuUF1dndeTgGnD8/ECgDEe8QKAMcILAMYILwAYI7wAYIzwAoAxwgsAxggvABgjvABgjPACgLH/A62BEsJPu57KAAAAAElFTkSuQmCC\n"
          },
          "metadata": {}
        }
      ]
    },
    {
      "cell_type": "code",
      "source": [
        "import seaborn as sns"
      ],
      "metadata": {
        "id": "PNwmXCZ6imMI"
      },
      "execution_count": null,
      "outputs": []
    },
    {
      "cell_type": "code",
      "source": [
        " #“bmi” ile “charges” arasındaki ilişkiyi inceleyiniz.\n",
        "#sns.scatterplot(x = \"bmi\", y=\"charges\", data=df, palette=\"Set2\")\n",
        "sns.regplot(data=df, x = \"charges\", y = \"bmi\")\n",
        "#burada zayıf korelasyon var\n"
      ],
      "metadata": {
        "colab": {
          "base_uri": "https://localhost:8080/",
          "height": 302
        },
        "id": "CxmPlmEcuffO",
        "outputId": "43bb3dea-1751-41e7-a7d2-ad53f196929e"
      },
      "execution_count": null,
      "outputs": [
        {
          "output_type": "execute_result",
          "data": {
            "text/plain": [
              "<matplotlib.axes._subplots.AxesSubplot at 0x7f1a26b16910>"
            ]
          },
          "metadata": {},
          "execution_count": 174
        },
        {
          "output_type": "display_data",
          "data": {
            "text/plain": [
              "<Figure size 432x288 with 1 Axes>"
            ],
            "image/png": "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\n"
          },
          "metadata": {}
        }
      ]
    },
    {
      "cell_type": "code",
      "source": [
        "sns.scatterplot(x = \"bmi\", y=\"charges\", hue=\"sex\", data=df, palette=\"Set2\")"
      ],
      "metadata": {
        "colab": {
          "base_uri": "https://localhost:8080/",
          "height": 302
        },
        "id": "Y2K-mJQLuv7Y",
        "outputId": "fc0fb6fd-5445-4f4d-a086-24f7a99dbc6e"
      },
      "execution_count": null,
      "outputs": [
        {
          "output_type": "execute_result",
          "data": {
            "text/plain": [
              "<matplotlib.axes._subplots.AxesSubplot at 0x7f1a26a79110>"
            ]
          },
          "metadata": {},
          "execution_count": 175
        },
        {
          "output_type": "display_data",
          "data": {
            "text/plain": [
              "<Figure size 432x288 with 1 Axes>"
            ],
            "image/png": "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\n"
          },
          "metadata": {}
        }
      ]
    },
    {
      "cell_type": "code",
      "source": [
        "#“region”, “smoker” ve “bmi” arasındaki ilişkiyi bar plot kullanarak inceleyiniz.\n",
        "sns.barplot(x = \"region\", y = \"bmi\", hue = \"smoker\", data=df, palette=\"Set2\")"
      ],
      "metadata": {
        "colab": {
          "base_uri": "https://localhost:8080/",
          "height": 302
        },
        "id": "bCpwLBLJvCiV",
        "outputId": "fea175ef-1617-4bc9-95e7-d46578d73bbf"
      },
      "execution_count": null,
      "outputs": [
        {
          "output_type": "execute_result",
          "data": {
            "text/plain": [
              "<matplotlib.axes._subplots.AxesSubplot at 0x7f1a26a0bad0>"
            ]
          },
          "metadata": {},
          "execution_count": 176
        },
        {
          "output_type": "display_data",
          "data": {
            "text/plain": [
              "<Figure size 432x288 with 1 Axes>"
            ],
            "image/png": "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\n"
          },
          "metadata": {}
        }
      ]
    },
    {
      "cell_type": "code",
      "source": [
        "sns.scatterplot(x = \"charges\", y=\"smoker\", hue=\"sex\", data=df, palette=\"Set2\")\n",
        "#burada sigara içenlerin ödediği ücretler içmeyenlere göre daha yüksek, mean değeri de daha yüksektir."
      ],
      "metadata": {
        "colab": {
          "base_uri": "https://localhost:8080/",
          "height": 302
        },
        "id": "X_4ErOGHkDWc",
        "outputId": "721e1bfc-6390-4560-e0ec-d7d1cba4c396"
      },
      "execution_count": null,
      "outputs": [
        {
          "output_type": "execute_result",
          "data": {
            "text/plain": [
              "<matplotlib.axes._subplots.AxesSubplot at 0x7f1a2697d8d0>"
            ]
          },
          "metadata": {},
          "execution_count": 177
        },
        {
          "output_type": "display_data",
          "data": {
            "text/plain": [
              "<Figure size 432x288 with 1 Axes>"
            ],
            "image/png": "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\n"
          },
          "metadata": {}
        }
      ]
    },
    {
      "cell_type": "markdown",
      "source": [
        "**4. Veri Ön İşleme Yapılması**\n",
        "\n",
        "Bu kısımda elinizde olan veriyi model eğitmek için hazır hale getiriniz.\n",
        "\n",
        "● Kategorik değişkenleri düzenlemek için Label ve One-Hot Encoding tekniklerini\n",
        "kullanınız.\n",
        "\n",
        "● Veri setinizi X_train,X_test, y_train, y_test olacak şekilde bölüştürünüz.\n",
        "\n",
        "● Veri setini normalize ederek ölçekleyiniz."
      ],
      "metadata": {
        "id": "m-mna_XCFC-M"
      }
    },
    {
      "cell_type": "code",
      "source": [
        "df.head()"
      ],
      "metadata": {
        "colab": {
          "base_uri": "https://localhost:8080/",
          "height": 206
        },
        "id": "_6y4PscpFCiF",
        "outputId": "98bf2a2b-7e91-4221-a6d5-1ca2a2d889ef"
      },
      "execution_count": null,
      "outputs": [
        {
          "output_type": "execute_result",
          "data": {
            "text/plain": [
              "   age     sex     bmi  children smoker     region      charges\n",
              "0   19  female  27.900         0    yes  southwest  16884.92400\n",
              "1   18    male  33.770         1     no  southeast   1725.55230\n",
              "2   28    male  33.000         3     no  southeast   4449.46200\n",
              "3   33    male  22.705         0     no  northwest  21984.47061\n",
              "4   32    male  28.880         0     no  northwest   3866.85520"
            ],
            "text/html": [
              "\n",
              "  <div id=\"df-33051349-3b26-45d4-9deb-6bea6fe1640f\">\n",
              "    <div class=\"colab-df-container\">\n",
              "      <div>\n",
              "<style scoped>\n",
              "    .dataframe tbody tr th:only-of-type {\n",
              "        vertical-align: middle;\n",
              "    }\n",
              "\n",
              "    .dataframe tbody tr th {\n",
              "        vertical-align: top;\n",
              "    }\n",
              "\n",
              "    .dataframe thead th {\n",
              "        text-align: right;\n",
              "    }\n",
              "</style>\n",
              "<table border=\"1\" class=\"dataframe\">\n",
              "  <thead>\n",
              "    <tr style=\"text-align: right;\">\n",
              "      <th></th>\n",
              "      <th>age</th>\n",
              "      <th>sex</th>\n",
              "      <th>bmi</th>\n",
              "      <th>children</th>\n",
              "      <th>smoker</th>\n",
              "      <th>region</th>\n",
              "      <th>charges</th>\n",
              "    </tr>\n",
              "  </thead>\n",
              "  <tbody>\n",
              "    <tr>\n",
              "      <th>0</th>\n",
              "      <td>19</td>\n",
              "      <td>female</td>\n",
              "      <td>27.900</td>\n",
              "      <td>0</td>\n",
              "      <td>yes</td>\n",
              "      <td>southwest</td>\n",
              "      <td>16884.92400</td>\n",
              "    </tr>\n",
              "    <tr>\n",
              "      <th>1</th>\n",
              "      <td>18</td>\n",
              "      <td>male</td>\n",
              "      <td>33.770</td>\n",
              "      <td>1</td>\n",
              "      <td>no</td>\n",
              "      <td>southeast</td>\n",
              "      <td>1725.55230</td>\n",
              "    </tr>\n",
              "    <tr>\n",
              "      <th>2</th>\n",
              "      <td>28</td>\n",
              "      <td>male</td>\n",
              "      <td>33.000</td>\n",
              "      <td>3</td>\n",
              "      <td>no</td>\n",
              "      <td>southeast</td>\n",
              "      <td>4449.46200</td>\n",
              "    </tr>\n",
              "    <tr>\n",
              "      <th>3</th>\n",
              "      <td>33</td>\n",
              "      <td>male</td>\n",
              "      <td>22.705</td>\n",
              "      <td>0</td>\n",
              "      <td>no</td>\n",
              "      <td>northwest</td>\n",
              "      <td>21984.47061</td>\n",
              "    </tr>\n",
              "    <tr>\n",
              "      <th>4</th>\n",
              "      <td>32</td>\n",
              "      <td>male</td>\n",
              "      <td>28.880</td>\n",
              "      <td>0</td>\n",
              "      <td>no</td>\n",
              "      <td>northwest</td>\n",
              "      <td>3866.85520</td>\n",
              "    </tr>\n",
              "  </tbody>\n",
              "</table>\n",
              "</div>\n",
              "      <button class=\"colab-df-convert\" onclick=\"convertToInteractive('df-33051349-3b26-45d4-9deb-6bea6fe1640f')\"\n",
              "              title=\"Convert this dataframe to an interactive table.\"\n",
              "              style=\"display:none;\">\n",
              "        \n",
              "  <svg xmlns=\"http://www.w3.org/2000/svg\" height=\"24px\"viewBox=\"0 0 24 24\"\n",
              "       width=\"24px\">\n",
              "    <path d=\"M0 0h24v24H0V0z\" fill=\"none\"/>\n",
              "    <path d=\"M18.56 5.44l.94 2.06.94-2.06 2.06-.94-2.06-.94-.94-2.06-.94 2.06-2.06.94zm-11 1L8.5 8.5l.94-2.06 2.06-.94-2.06-.94L8.5 2.5l-.94 2.06-2.06.94zm10 10l.94 2.06.94-2.06 2.06-.94-2.06-.94-.94-2.06-.94 2.06-2.06.94z\"/><path d=\"M17.41 7.96l-1.37-1.37c-.4-.4-.92-.59-1.43-.59-.52 0-1.04.2-1.43.59L10.3 9.45l-7.72 7.72c-.78.78-.78 2.05 0 2.83L4 21.41c.39.39.9.59 1.41.59.51 0 1.02-.2 1.41-.59l7.78-7.78 2.81-2.81c.8-.78.8-2.07 0-2.86zM5.41 20L4 18.59l7.72-7.72 1.47 1.35L5.41 20z\"/>\n",
              "  </svg>\n",
              "      </button>\n",
              "      \n",
              "  <style>\n",
              "    .colab-df-container {\n",
              "      display:flex;\n",
              "      flex-wrap:wrap;\n",
              "      gap: 12px;\n",
              "    }\n",
              "\n",
              "    .colab-df-convert {\n",
              "      background-color: #E8F0FE;\n",
              "      border: none;\n",
              "      border-radius: 50%;\n",
              "      cursor: pointer;\n",
              "      display: none;\n",
              "      fill: #1967D2;\n",
              "      height: 32px;\n",
              "      padding: 0 0 0 0;\n",
              "      width: 32px;\n",
              "    }\n",
              "\n",
              "    .colab-df-convert:hover {\n",
              "      background-color: #E2EBFA;\n",
              "      box-shadow: 0px 1px 2px rgba(60, 64, 67, 0.3), 0px 1px 3px 1px rgba(60, 64, 67, 0.15);\n",
              "      fill: #174EA6;\n",
              "    }\n",
              "\n",
              "    [theme=dark] .colab-df-convert {\n",
              "      background-color: #3B4455;\n",
              "      fill: #D2E3FC;\n",
              "    }\n",
              "\n",
              "    [theme=dark] .colab-df-convert:hover {\n",
              "      background-color: #434B5C;\n",
              "      box-shadow: 0px 1px 3px 1px rgba(0, 0, 0, 0.15);\n",
              "      filter: drop-shadow(0px 1px 2px rgba(0, 0, 0, 0.3));\n",
              "      fill: #FFFFFF;\n",
              "    }\n",
              "  </style>\n",
              "\n",
              "      <script>\n",
              "        const buttonEl =\n",
              "          document.querySelector('#df-33051349-3b26-45d4-9deb-6bea6fe1640f button.colab-df-convert');\n",
              "        buttonEl.style.display =\n",
              "          google.colab.kernel.accessAllowed ? 'block' : 'none';\n",
              "\n",
              "        async function convertToInteractive(key) {\n",
              "          const element = document.querySelector('#df-33051349-3b26-45d4-9deb-6bea6fe1640f');\n",
              "          const dataTable =\n",
              "            await google.colab.kernel.invokeFunction('convertToInteractive',\n",
              "                                                     [key], {});\n",
              "          if (!dataTable) return;\n",
              "\n",
              "          const docLinkHtml = 'Like what you see? Visit the ' +\n",
              "            '<a target=\"_blank\" href=https://colab.research.google.com/notebooks/data_table.ipynb>data table notebook</a>'\n",
              "            + ' to learn more about interactive tables.';\n",
              "          element.innerHTML = '';\n",
              "          dataTable['output_type'] = 'display_data';\n",
              "          await google.colab.output.renderOutput(dataTable, element);\n",
              "          const docLink = document.createElement('div');\n",
              "          docLink.innerHTML = docLinkHtml;\n",
              "          element.appendChild(docLink);\n",
              "        }\n",
              "      </script>\n",
              "    </div>\n",
              "  </div>\n",
              "  "
            ]
          },
          "metadata": {},
          "execution_count": 178
        }
      ]
    },
    {
      "cell_type": "code",
      "source": [
        "#buradaki verileri sayılara mı dönüştürmüş olduk?\n",
        "#birden cok grup varsa dummies yapıyorduk, iki grup varsa one-hot encoding\n",
        "\n",
        "lbe = LabelEncoder()\n",
        "df[\"new_sex\"] = lbe.fit_transform(df['sex'])\n",
        "df"
      ],
      "metadata": {
        "colab": {
          "base_uri": "https://localhost:8080/",
          "height": 424
        },
        "id": "kGi3U2Sehvrw",
        "outputId": "280bfc77-704c-4f05-d1a8-9dc18a910542"
      },
      "execution_count": null,
      "outputs": [
        {
          "output_type": "execute_result",
          "data": {
            "text/plain": [
              "      age     sex     bmi  children smoker     region      charges  new_sex\n",
              "0      19  female  27.900         0    yes  southwest  16884.92400        0\n",
              "1      18    male  33.770         1     no  southeast   1725.55230        1\n",
              "2      28    male  33.000         3     no  southeast   4449.46200        1\n",
              "3      33    male  22.705         0     no  northwest  21984.47061        1\n",
              "4      32    male  28.880         0     no  northwest   3866.85520        1\n",
              "...   ...     ...     ...       ...    ...        ...          ...      ...\n",
              "1332   23    male  47.315         1     no  southeast   2438.05520        1\n",
              "1333   37  female  47.315         2    yes  southwest  46113.51100        0\n",
              "1334   22    male  47.315         1    yes  southeast  44501.39820        1\n",
              "1335   52    male  47.315         1     no  southeast   9748.91060        1\n",
              "1336   18    male  47.315         0     no  southeast   1163.46270        1\n",
              "\n",
              "[1337 rows x 8 columns]"
            ],
            "text/html": [
              "\n",
              "  <div id=\"df-15debb50-3998-4bc9-ba38-5b6859d61247\">\n",
              "    <div class=\"colab-df-container\">\n",
              "      <div>\n",
              "<style scoped>\n",
              "    .dataframe tbody tr th:only-of-type {\n",
              "        vertical-align: middle;\n",
              "    }\n",
              "\n",
              "    .dataframe tbody tr th {\n",
              "        vertical-align: top;\n",
              "    }\n",
              "\n",
              "    .dataframe thead th {\n",
              "        text-align: right;\n",
              "    }\n",
              "</style>\n",
              "<table border=\"1\" class=\"dataframe\">\n",
              "  <thead>\n",
              "    <tr style=\"text-align: right;\">\n",
              "      <th></th>\n",
              "      <th>age</th>\n",
              "      <th>sex</th>\n",
              "      <th>bmi</th>\n",
              "      <th>children</th>\n",
              "      <th>smoker</th>\n",
              "      <th>region</th>\n",
              "      <th>charges</th>\n",
              "      <th>new_sex</th>\n",
              "    </tr>\n",
              "  </thead>\n",
              "  <tbody>\n",
              "    <tr>\n",
              "      <th>0</th>\n",
              "      <td>19</td>\n",
              "      <td>female</td>\n",
              "      <td>27.900</td>\n",
              "      <td>0</td>\n",
              "      <td>yes</td>\n",
              "      <td>southwest</td>\n",
              "      <td>16884.92400</td>\n",
              "      <td>0</td>\n",
              "    </tr>\n",
              "    <tr>\n",
              "      <th>1</th>\n",
              "      <td>18</td>\n",
              "      <td>male</td>\n",
              "      <td>33.770</td>\n",
              "      <td>1</td>\n",
              "      <td>no</td>\n",
              "      <td>southeast</td>\n",
              "      <td>1725.55230</td>\n",
              "      <td>1</td>\n",
              "    </tr>\n",
              "    <tr>\n",
              "      <th>2</th>\n",
              "      <td>28</td>\n",
              "      <td>male</td>\n",
              "      <td>33.000</td>\n",
              "      <td>3</td>\n",
              "      <td>no</td>\n",
              "      <td>southeast</td>\n",
              "      <td>4449.46200</td>\n",
              "      <td>1</td>\n",
              "    </tr>\n",
              "    <tr>\n",
              "      <th>3</th>\n",
              "      <td>33</td>\n",
              "      <td>male</td>\n",
              "      <td>22.705</td>\n",
              "      <td>0</td>\n",
              "      <td>no</td>\n",
              "      <td>northwest</td>\n",
              "      <td>21984.47061</td>\n",
              "      <td>1</td>\n",
              "    </tr>\n",
              "    <tr>\n",
              "      <th>4</th>\n",
              "      <td>32</td>\n",
              "      <td>male</td>\n",
              "      <td>28.880</td>\n",
              "      <td>0</td>\n",
              "      <td>no</td>\n",
              "      <td>northwest</td>\n",
              "      <td>3866.85520</td>\n",
              "      <td>1</td>\n",
              "    </tr>\n",
              "    <tr>\n",
              "      <th>...</th>\n",
              "      <td>...</td>\n",
              "      <td>...</td>\n",
              "      <td>...</td>\n",
              "      <td>...</td>\n",
              "      <td>...</td>\n",
              "      <td>...</td>\n",
              "      <td>...</td>\n",
              "      <td>...</td>\n",
              "    </tr>\n",
              "    <tr>\n",
              "      <th>1332</th>\n",
              "      <td>23</td>\n",
              "      <td>male</td>\n",
              "      <td>47.315</td>\n",
              "      <td>1</td>\n",
              "      <td>no</td>\n",
              "      <td>southeast</td>\n",
              "      <td>2438.05520</td>\n",
              "      <td>1</td>\n",
              "    </tr>\n",
              "    <tr>\n",
              "      <th>1333</th>\n",
              "      <td>37</td>\n",
              "      <td>female</td>\n",
              "      <td>47.315</td>\n",
              "      <td>2</td>\n",
              "      <td>yes</td>\n",
              "      <td>southwest</td>\n",
              "      <td>46113.51100</td>\n",
              "      <td>0</td>\n",
              "    </tr>\n",
              "    <tr>\n",
              "      <th>1334</th>\n",
              "      <td>22</td>\n",
              "      <td>male</td>\n",
              "      <td>47.315</td>\n",
              "      <td>1</td>\n",
              "      <td>yes</td>\n",
              "      <td>southeast</td>\n",
              "      <td>44501.39820</td>\n",
              "      <td>1</td>\n",
              "    </tr>\n",
              "    <tr>\n",
              "      <th>1335</th>\n",
              "      <td>52</td>\n",
              "      <td>male</td>\n",
              "      <td>47.315</td>\n",
              "      <td>1</td>\n",
              "      <td>no</td>\n",
              "      <td>southeast</td>\n",
              "      <td>9748.91060</td>\n",
              "      <td>1</td>\n",
              "    </tr>\n",
              "    <tr>\n",
              "      <th>1336</th>\n",
              "      <td>18</td>\n",
              "      <td>male</td>\n",
              "      <td>47.315</td>\n",
              "      <td>0</td>\n",
              "      <td>no</td>\n",
              "      <td>southeast</td>\n",
              "      <td>1163.46270</td>\n",
              "      <td>1</td>\n",
              "    </tr>\n",
              "  </tbody>\n",
              "</table>\n",
              "<p>1337 rows × 8 columns</p>\n",
              "</div>\n",
              "      <button class=\"colab-df-convert\" onclick=\"convertToInteractive('df-15debb50-3998-4bc9-ba38-5b6859d61247')\"\n",
              "              title=\"Convert this dataframe to an interactive table.\"\n",
              "              style=\"display:none;\">\n",
              "        \n",
              "  <svg xmlns=\"http://www.w3.org/2000/svg\" height=\"24px\"viewBox=\"0 0 24 24\"\n",
              "       width=\"24px\">\n",
              "    <path d=\"M0 0h24v24H0V0z\" fill=\"none\"/>\n",
              "    <path d=\"M18.56 5.44l.94 2.06.94-2.06 2.06-.94-2.06-.94-.94-2.06-.94 2.06-2.06.94zm-11 1L8.5 8.5l.94-2.06 2.06-.94-2.06-.94L8.5 2.5l-.94 2.06-2.06.94zm10 10l.94 2.06.94-2.06 2.06-.94-2.06-.94-.94-2.06-.94 2.06-2.06.94z\"/><path d=\"M17.41 7.96l-1.37-1.37c-.4-.4-.92-.59-1.43-.59-.52 0-1.04.2-1.43.59L10.3 9.45l-7.72 7.72c-.78.78-.78 2.05 0 2.83L4 21.41c.39.39.9.59 1.41.59.51 0 1.02-.2 1.41-.59l7.78-7.78 2.81-2.81c.8-.78.8-2.07 0-2.86zM5.41 20L4 18.59l7.72-7.72 1.47 1.35L5.41 20z\"/>\n",
              "  </svg>\n",
              "      </button>\n",
              "      \n",
              "  <style>\n",
              "    .colab-df-container {\n",
              "      display:flex;\n",
              "      flex-wrap:wrap;\n",
              "      gap: 12px;\n",
              "    }\n",
              "\n",
              "    .colab-df-convert {\n",
              "      background-color: #E8F0FE;\n",
              "      border: none;\n",
              "      border-radius: 50%;\n",
              "      cursor: pointer;\n",
              "      display: none;\n",
              "      fill: #1967D2;\n",
              "      height: 32px;\n",
              "      padding: 0 0 0 0;\n",
              "      width: 32px;\n",
              "    }\n",
              "\n",
              "    .colab-df-convert:hover {\n",
              "      background-color: #E2EBFA;\n",
              "      box-shadow: 0px 1px 2px rgba(60, 64, 67, 0.3), 0px 1px 3px 1px rgba(60, 64, 67, 0.15);\n",
              "      fill: #174EA6;\n",
              "    }\n",
              "\n",
              "    [theme=dark] .colab-df-convert {\n",
              "      background-color: #3B4455;\n",
              "      fill: #D2E3FC;\n",
              "    }\n",
              "\n",
              "    [theme=dark] .colab-df-convert:hover {\n",
              "      background-color: #434B5C;\n",
              "      box-shadow: 0px 1px 3px 1px rgba(0, 0, 0, 0.15);\n",
              "      filter: drop-shadow(0px 1px 2px rgba(0, 0, 0, 0.3));\n",
              "      fill: #FFFFFF;\n",
              "    }\n",
              "  </style>\n",
              "\n",
              "      <script>\n",
              "        const buttonEl =\n",
              "          document.querySelector('#df-15debb50-3998-4bc9-ba38-5b6859d61247 button.colab-df-convert');\n",
              "        buttonEl.style.display =\n",
              "          google.colab.kernel.accessAllowed ? 'block' : 'none';\n",
              "\n",
              "        async function convertToInteractive(key) {\n",
              "          const element = document.querySelector('#df-15debb50-3998-4bc9-ba38-5b6859d61247');\n",
              "          const dataTable =\n",
              "            await google.colab.kernel.invokeFunction('convertToInteractive',\n",
              "                                                     [key], {});\n",
              "          if (!dataTable) return;\n",
              "\n",
              "          const docLinkHtml = 'Like what you see? Visit the ' +\n",
              "            '<a target=\"_blank\" href=https://colab.research.google.com/notebooks/data_table.ipynb>data table notebook</a>'\n",
              "            + ' to learn more about interactive tables.';\n",
              "          element.innerHTML = '';\n",
              "          dataTable['output_type'] = 'display_data';\n",
              "          await google.colab.output.renderOutput(dataTable, element);\n",
              "          const docLink = document.createElement('div');\n",
              "          docLink.innerHTML = docLinkHtml;\n",
              "          element.appendChild(docLink);\n",
              "        }\n",
              "      </script>\n",
              "    </div>\n",
              "  </div>\n",
              "  "
            ]
          },
          "metadata": {},
          "execution_count": 179
        }
      ]
    },
    {
      "cell_type": "code",
      "source": [
        "#şimdi sigara içenleri de 0 ve 1 değerlerine atıyoruz.\n",
        "lbe = LabelEncoder()\n",
        "df[\"new_smoker\"] = lbe.fit_transform(df['smoker'])\n",
        "df"
      ],
      "metadata": {
        "colab": {
          "base_uri": "https://localhost:8080/",
          "height": 424
        },
        "id": "v7wEXORS4UVY",
        "outputId": "976f90f2-9786-4ba8-bdfe-ba14dc13aae6"
      },
      "execution_count": null,
      "outputs": [
        {
          "output_type": "execute_result",
          "data": {
            "text/plain": [
              "      age     sex     bmi  children smoker     region      charges  new_sex  \\\n",
              "0      19  female  27.900         0    yes  southwest  16884.92400        0   \n",
              "1      18    male  33.770         1     no  southeast   1725.55230        1   \n",
              "2      28    male  33.000         3     no  southeast   4449.46200        1   \n",
              "3      33    male  22.705         0     no  northwest  21984.47061        1   \n",
              "4      32    male  28.880         0     no  northwest   3866.85520        1   \n",
              "...   ...     ...     ...       ...    ...        ...          ...      ...   \n",
              "1332   23    male  47.315         1     no  southeast   2438.05520        1   \n",
              "1333   37  female  47.315         2    yes  southwest  46113.51100        0   \n",
              "1334   22    male  47.315         1    yes  southeast  44501.39820        1   \n",
              "1335   52    male  47.315         1     no  southeast   9748.91060        1   \n",
              "1336   18    male  47.315         0     no  southeast   1163.46270        1   \n",
              "\n",
              "      new_smoker  \n",
              "0              1  \n",
              "1              0  \n",
              "2              0  \n",
              "3              0  \n",
              "4              0  \n",
              "...          ...  \n",
              "1332           0  \n",
              "1333           1  \n",
              "1334           1  \n",
              "1335           0  \n",
              "1336           0  \n",
              "\n",
              "[1337 rows x 9 columns]"
            ],
            "text/html": [
              "\n",
              "  <div id=\"df-40043721-759a-4ed4-88a3-dbb21e975206\">\n",
              "    <div class=\"colab-df-container\">\n",
              "      <div>\n",
              "<style scoped>\n",
              "    .dataframe tbody tr th:only-of-type {\n",
              "        vertical-align: middle;\n",
              "    }\n",
              "\n",
              "    .dataframe tbody tr th {\n",
              "        vertical-align: top;\n",
              "    }\n",
              "\n",
              "    .dataframe thead th {\n",
              "        text-align: right;\n",
              "    }\n",
              "</style>\n",
              "<table border=\"1\" class=\"dataframe\">\n",
              "  <thead>\n",
              "    <tr style=\"text-align: right;\">\n",
              "      <th></th>\n",
              "      <th>age</th>\n",
              "      <th>sex</th>\n",
              "      <th>bmi</th>\n",
              "      <th>children</th>\n",
              "      <th>smoker</th>\n",
              "      <th>region</th>\n",
              "      <th>charges</th>\n",
              "      <th>new_sex</th>\n",
              "      <th>new_smoker</th>\n",
              "    </tr>\n",
              "  </thead>\n",
              "  <tbody>\n",
              "    <tr>\n",
              "      <th>0</th>\n",
              "      <td>19</td>\n",
              "      <td>female</td>\n",
              "      <td>27.900</td>\n",
              "      <td>0</td>\n",
              "      <td>yes</td>\n",
              "      <td>southwest</td>\n",
              "      <td>16884.92400</td>\n",
              "      <td>0</td>\n",
              "      <td>1</td>\n",
              "    </tr>\n",
              "    <tr>\n",
              "      <th>1</th>\n",
              "      <td>18</td>\n",
              "      <td>male</td>\n",
              "      <td>33.770</td>\n",
              "      <td>1</td>\n",
              "      <td>no</td>\n",
              "      <td>southeast</td>\n",
              "      <td>1725.55230</td>\n",
              "      <td>1</td>\n",
              "      <td>0</td>\n",
              "    </tr>\n",
              "    <tr>\n",
              "      <th>2</th>\n",
              "      <td>28</td>\n",
              "      <td>male</td>\n",
              "      <td>33.000</td>\n",
              "      <td>3</td>\n",
              "      <td>no</td>\n",
              "      <td>southeast</td>\n",
              "      <td>4449.46200</td>\n",
              "      <td>1</td>\n",
              "      <td>0</td>\n",
              "    </tr>\n",
              "    <tr>\n",
              "      <th>3</th>\n",
              "      <td>33</td>\n",
              "      <td>male</td>\n",
              "      <td>22.705</td>\n",
              "      <td>0</td>\n",
              "      <td>no</td>\n",
              "      <td>northwest</td>\n",
              "      <td>21984.47061</td>\n",
              "      <td>1</td>\n",
              "      <td>0</td>\n",
              "    </tr>\n",
              "    <tr>\n",
              "      <th>4</th>\n",
              "      <td>32</td>\n",
              "      <td>male</td>\n",
              "      <td>28.880</td>\n",
              "      <td>0</td>\n",
              "      <td>no</td>\n",
              "      <td>northwest</td>\n",
              "      <td>3866.85520</td>\n",
              "      <td>1</td>\n",
              "      <td>0</td>\n",
              "    </tr>\n",
              "    <tr>\n",
              "      <th>...</th>\n",
              "      <td>...</td>\n",
              "      <td>...</td>\n",
              "      <td>...</td>\n",
              "      <td>...</td>\n",
              "      <td>...</td>\n",
              "      <td>...</td>\n",
              "      <td>...</td>\n",
              "      <td>...</td>\n",
              "      <td>...</td>\n",
              "    </tr>\n",
              "    <tr>\n",
              "      <th>1332</th>\n",
              "      <td>23</td>\n",
              "      <td>male</td>\n",
              "      <td>47.315</td>\n",
              "      <td>1</td>\n",
              "      <td>no</td>\n",
              "      <td>southeast</td>\n",
              "      <td>2438.05520</td>\n",
              "      <td>1</td>\n",
              "      <td>0</td>\n",
              "    </tr>\n",
              "    <tr>\n",
              "      <th>1333</th>\n",
              "      <td>37</td>\n",
              "      <td>female</td>\n",
              "      <td>47.315</td>\n",
              "      <td>2</td>\n",
              "      <td>yes</td>\n",
              "      <td>southwest</td>\n",
              "      <td>46113.51100</td>\n",
              "      <td>0</td>\n",
              "      <td>1</td>\n",
              "    </tr>\n",
              "    <tr>\n",
              "      <th>1334</th>\n",
              "      <td>22</td>\n",
              "      <td>male</td>\n",
              "      <td>47.315</td>\n",
              "      <td>1</td>\n",
              "      <td>yes</td>\n",
              "      <td>southeast</td>\n",
              "      <td>44501.39820</td>\n",
              "      <td>1</td>\n",
              "      <td>1</td>\n",
              "    </tr>\n",
              "    <tr>\n",
              "      <th>1335</th>\n",
              "      <td>52</td>\n",
              "      <td>male</td>\n",
              "      <td>47.315</td>\n",
              "      <td>1</td>\n",
              "      <td>no</td>\n",
              "      <td>southeast</td>\n",
              "      <td>9748.91060</td>\n",
              "      <td>1</td>\n",
              "      <td>0</td>\n",
              "    </tr>\n",
              "    <tr>\n",
              "      <th>1336</th>\n",
              "      <td>18</td>\n",
              "      <td>male</td>\n",
              "      <td>47.315</td>\n",
              "      <td>0</td>\n",
              "      <td>no</td>\n",
              "      <td>southeast</td>\n",
              "      <td>1163.46270</td>\n",
              "      <td>1</td>\n",
              "      <td>0</td>\n",
              "    </tr>\n",
              "  </tbody>\n",
              "</table>\n",
              "<p>1337 rows × 9 columns</p>\n",
              "</div>\n",
              "      <button class=\"colab-df-convert\" onclick=\"convertToInteractive('df-40043721-759a-4ed4-88a3-dbb21e975206')\"\n",
              "              title=\"Convert this dataframe to an interactive table.\"\n",
              "              style=\"display:none;\">\n",
              "        \n",
              "  <svg xmlns=\"http://www.w3.org/2000/svg\" height=\"24px\"viewBox=\"0 0 24 24\"\n",
              "       width=\"24px\">\n",
              "    <path d=\"M0 0h24v24H0V0z\" fill=\"none\"/>\n",
              "    <path d=\"M18.56 5.44l.94 2.06.94-2.06 2.06-.94-2.06-.94-.94-2.06-.94 2.06-2.06.94zm-11 1L8.5 8.5l.94-2.06 2.06-.94-2.06-.94L8.5 2.5l-.94 2.06-2.06.94zm10 10l.94 2.06.94-2.06 2.06-.94-2.06-.94-.94-2.06-.94 2.06-2.06.94z\"/><path d=\"M17.41 7.96l-1.37-1.37c-.4-.4-.92-.59-1.43-.59-.52 0-1.04.2-1.43.59L10.3 9.45l-7.72 7.72c-.78.78-.78 2.05 0 2.83L4 21.41c.39.39.9.59 1.41.59.51 0 1.02-.2 1.41-.59l7.78-7.78 2.81-2.81c.8-.78.8-2.07 0-2.86zM5.41 20L4 18.59l7.72-7.72 1.47 1.35L5.41 20z\"/>\n",
              "  </svg>\n",
              "      </button>\n",
              "      \n",
              "  <style>\n",
              "    .colab-df-container {\n",
              "      display:flex;\n",
              "      flex-wrap:wrap;\n",
              "      gap: 12px;\n",
              "    }\n",
              "\n",
              "    .colab-df-convert {\n",
              "      background-color: #E8F0FE;\n",
              "      border: none;\n",
              "      border-radius: 50%;\n",
              "      cursor: pointer;\n",
              "      display: none;\n",
              "      fill: #1967D2;\n",
              "      height: 32px;\n",
              "      padding: 0 0 0 0;\n",
              "      width: 32px;\n",
              "    }\n",
              "\n",
              "    .colab-df-convert:hover {\n",
              "      background-color: #E2EBFA;\n",
              "      box-shadow: 0px 1px 2px rgba(60, 64, 67, 0.3), 0px 1px 3px 1px rgba(60, 64, 67, 0.15);\n",
              "      fill: #174EA6;\n",
              "    }\n",
              "\n",
              "    [theme=dark] .colab-df-convert {\n",
              "      background-color: #3B4455;\n",
              "      fill: #D2E3FC;\n",
              "    }\n",
              "\n",
              "    [theme=dark] .colab-df-convert:hover {\n",
              "      background-color: #434B5C;\n",
              "      box-shadow: 0px 1px 3px 1px rgba(0, 0, 0, 0.15);\n",
              "      filter: drop-shadow(0px 1px 2px rgba(0, 0, 0, 0.3));\n",
              "      fill: #FFFFFF;\n",
              "    }\n",
              "  </style>\n",
              "\n",
              "      <script>\n",
              "        const buttonEl =\n",
              "          document.querySelector('#df-40043721-759a-4ed4-88a3-dbb21e975206 button.colab-df-convert');\n",
              "        buttonEl.style.display =\n",
              "          google.colab.kernel.accessAllowed ? 'block' : 'none';\n",
              "\n",
              "        async function convertToInteractive(key) {\n",
              "          const element = document.querySelector('#df-40043721-759a-4ed4-88a3-dbb21e975206');\n",
              "          const dataTable =\n",
              "            await google.colab.kernel.invokeFunction('convertToInteractive',\n",
              "                                                     [key], {});\n",
              "          if (!dataTable) return;\n",
              "\n",
              "          const docLinkHtml = 'Like what you see? Visit the ' +\n",
              "            '<a target=\"_blank\" href=https://colab.research.google.com/notebooks/data_table.ipynb>data table notebook</a>'\n",
              "            + ' to learn more about interactive tables.';\n",
              "          element.innerHTML = '';\n",
              "          dataTable['output_type'] = 'display_data';\n",
              "          await google.colab.output.renderOutput(dataTable, element);\n",
              "          const docLink = document.createElement('div');\n",
              "          docLink.innerHTML = docLinkHtml;\n",
              "          element.appendChild(docLink);\n",
              "        }\n",
              "      </script>\n",
              "    </div>\n",
              "  </div>\n",
              "  "
            ]
          },
          "metadata": {},
          "execution_count": 180
        }
      ]
    },
    {
      "cell_type": "code",
      "source": [
        "# eski kullanılmayan kolonları sildik. burada inplace önemli!\n",
        "df.drop(columns = [\"sex\", \"smoker\"], axis=1, inplace=True)"
      ],
      "metadata": {
        "id": "JOK-hxTi4cc1"
      },
      "execution_count": null,
      "outputs": []
    },
    {
      "cell_type": "code",
      "source": [
        "#birden çok değer olduğundan region içerisine dummies tuzağına düşmemek için bu fonksiyon uygulanır.\n",
        "last_df = pd.get_dummies(new_df, columns = [\"region\"], prefix = [\"region\"])\n",
        "last_df"
      ],
      "metadata": {
        "colab": {
          "base_uri": "https://localhost:8080/",
          "height": 424
        },
        "id": "gF4xcsnP4hDU",
        "outputId": "46aca1a9-79ee-4459-eb44-0bce65591221"
      },
      "execution_count": null,
      "outputs": [
        {
          "output_type": "execute_result",
          "data": {
            "text/plain": [
              "      age     bmi  children      charges  new_sex  new_smoker  \\\n",
              "0      19  27.900         0  16884.92400        0           1   \n",
              "1      18  33.770         1   1725.55230        1           0   \n",
              "2      28  33.000         3   4449.46200        1           0   \n",
              "3      33  22.705         0  21984.47061        1           0   \n",
              "4      32  28.880         0   3866.85520        1           0   \n",
              "...   ...     ...       ...          ...      ...         ...   \n",
              "1332   23  47.315         1   2438.05520        1           0   \n",
              "1333   37  47.315         2  46113.51100        0           1   \n",
              "1334   22  47.315         1  44501.39820        1           1   \n",
              "1335   52  47.315         1   9748.91060        1           0   \n",
              "1336   18  47.315         0   1163.46270        1           0   \n",
              "\n",
              "      region_northeast  region_northwest  region_southeast  region_southwest  \n",
              "0                    0                 0                 0                 1  \n",
              "1                    0                 0                 1                 0  \n",
              "2                    0                 0                 1                 0  \n",
              "3                    0                 1                 0                 0  \n",
              "4                    0                 1                 0                 0  \n",
              "...                ...               ...               ...               ...  \n",
              "1332                 0                 0                 1                 0  \n",
              "1333                 0                 0                 0                 1  \n",
              "1334                 0                 0                 1                 0  \n",
              "1335                 0                 0                 1                 0  \n",
              "1336                 0                 0                 1                 0  \n",
              "\n",
              "[1337 rows x 10 columns]"
            ],
            "text/html": [
              "\n",
              "  <div id=\"df-66d6c292-152c-4d12-823d-f6e854545df9\">\n",
              "    <div class=\"colab-df-container\">\n",
              "      <div>\n",
              "<style scoped>\n",
              "    .dataframe tbody tr th:only-of-type {\n",
              "        vertical-align: middle;\n",
              "    }\n",
              "\n",
              "    .dataframe tbody tr th {\n",
              "        vertical-align: top;\n",
              "    }\n",
              "\n",
              "    .dataframe thead th {\n",
              "        text-align: right;\n",
              "    }\n",
              "</style>\n",
              "<table border=\"1\" class=\"dataframe\">\n",
              "  <thead>\n",
              "    <tr style=\"text-align: right;\">\n",
              "      <th></th>\n",
              "      <th>age</th>\n",
              "      <th>bmi</th>\n",
              "      <th>children</th>\n",
              "      <th>charges</th>\n",
              "      <th>new_sex</th>\n",
              "      <th>new_smoker</th>\n",
              "      <th>region_northeast</th>\n",
              "      <th>region_northwest</th>\n",
              "      <th>region_southeast</th>\n",
              "      <th>region_southwest</th>\n",
              "    </tr>\n",
              "  </thead>\n",
              "  <tbody>\n",
              "    <tr>\n",
              "      <th>0</th>\n",
              "      <td>19</td>\n",
              "      <td>27.900</td>\n",
              "      <td>0</td>\n",
              "      <td>16884.92400</td>\n",
              "      <td>0</td>\n",
              "      <td>1</td>\n",
              "      <td>0</td>\n",
              "      <td>0</td>\n",
              "      <td>0</td>\n",
              "      <td>1</td>\n",
              "    </tr>\n",
              "    <tr>\n",
              "      <th>1</th>\n",
              "      <td>18</td>\n",
              "      <td>33.770</td>\n",
              "      <td>1</td>\n",
              "      <td>1725.55230</td>\n",
              "      <td>1</td>\n",
              "      <td>0</td>\n",
              "      <td>0</td>\n",
              "      <td>0</td>\n",
              "      <td>1</td>\n",
              "      <td>0</td>\n",
              "    </tr>\n",
              "    <tr>\n",
              "      <th>2</th>\n",
              "      <td>28</td>\n",
              "      <td>33.000</td>\n",
              "      <td>3</td>\n",
              "      <td>4449.46200</td>\n",
              "      <td>1</td>\n",
              "      <td>0</td>\n",
              "      <td>0</td>\n",
              "      <td>0</td>\n",
              "      <td>1</td>\n",
              "      <td>0</td>\n",
              "    </tr>\n",
              "    <tr>\n",
              "      <th>3</th>\n",
              "      <td>33</td>\n",
              "      <td>22.705</td>\n",
              "      <td>0</td>\n",
              "      <td>21984.47061</td>\n",
              "      <td>1</td>\n",
              "      <td>0</td>\n",
              "      <td>0</td>\n",
              "      <td>1</td>\n",
              "      <td>0</td>\n",
              "      <td>0</td>\n",
              "    </tr>\n",
              "    <tr>\n",
              "      <th>4</th>\n",
              "      <td>32</td>\n",
              "      <td>28.880</td>\n",
              "      <td>0</td>\n",
              "      <td>3866.85520</td>\n",
              "      <td>1</td>\n",
              "      <td>0</td>\n",
              "      <td>0</td>\n",
              "      <td>1</td>\n",
              "      <td>0</td>\n",
              "      <td>0</td>\n",
              "    </tr>\n",
              "    <tr>\n",
              "      <th>...</th>\n",
              "      <td>...</td>\n",
              "      <td>...</td>\n",
              "      <td>...</td>\n",
              "      <td>...</td>\n",
              "      <td>...</td>\n",
              "      <td>...</td>\n",
              "      <td>...</td>\n",
              "      <td>...</td>\n",
              "      <td>...</td>\n",
              "      <td>...</td>\n",
              "    </tr>\n",
              "    <tr>\n",
              "      <th>1332</th>\n",
              "      <td>23</td>\n",
              "      <td>47.315</td>\n",
              "      <td>1</td>\n",
              "      <td>2438.05520</td>\n",
              "      <td>1</td>\n",
              "      <td>0</td>\n",
              "      <td>0</td>\n",
              "      <td>0</td>\n",
              "      <td>1</td>\n",
              "      <td>0</td>\n",
              "    </tr>\n",
              "    <tr>\n",
              "      <th>1333</th>\n",
              "      <td>37</td>\n",
              "      <td>47.315</td>\n",
              "      <td>2</td>\n",
              "      <td>46113.51100</td>\n",
              "      <td>0</td>\n",
              "      <td>1</td>\n",
              "      <td>0</td>\n",
              "      <td>0</td>\n",
              "      <td>0</td>\n",
              "      <td>1</td>\n",
              "    </tr>\n",
              "    <tr>\n",
              "      <th>1334</th>\n",
              "      <td>22</td>\n",
              "      <td>47.315</td>\n",
              "      <td>1</td>\n",
              "      <td>44501.39820</td>\n",
              "      <td>1</td>\n",
              "      <td>1</td>\n",
              "      <td>0</td>\n",
              "      <td>0</td>\n",
              "      <td>1</td>\n",
              "      <td>0</td>\n",
              "    </tr>\n",
              "    <tr>\n",
              "      <th>1335</th>\n",
              "      <td>52</td>\n",
              "      <td>47.315</td>\n",
              "      <td>1</td>\n",
              "      <td>9748.91060</td>\n",
              "      <td>1</td>\n",
              "      <td>0</td>\n",
              "      <td>0</td>\n",
              "      <td>0</td>\n",
              "      <td>1</td>\n",
              "      <td>0</td>\n",
              "    </tr>\n",
              "    <tr>\n",
              "      <th>1336</th>\n",
              "      <td>18</td>\n",
              "      <td>47.315</td>\n",
              "      <td>0</td>\n",
              "      <td>1163.46270</td>\n",
              "      <td>1</td>\n",
              "      <td>0</td>\n",
              "      <td>0</td>\n",
              "      <td>0</td>\n",
              "      <td>1</td>\n",
              "      <td>0</td>\n",
              "    </tr>\n",
              "  </tbody>\n",
              "</table>\n",
              "<p>1337 rows × 10 columns</p>\n",
              "</div>\n",
              "      <button class=\"colab-df-convert\" onclick=\"convertToInteractive('df-66d6c292-152c-4d12-823d-f6e854545df9')\"\n",
              "              title=\"Convert this dataframe to an interactive table.\"\n",
              "              style=\"display:none;\">\n",
              "        \n",
              "  <svg xmlns=\"http://www.w3.org/2000/svg\" height=\"24px\"viewBox=\"0 0 24 24\"\n",
              "       width=\"24px\">\n",
              "    <path d=\"M0 0h24v24H0V0z\" fill=\"none\"/>\n",
              "    <path d=\"M18.56 5.44l.94 2.06.94-2.06 2.06-.94-2.06-.94-.94-2.06-.94 2.06-2.06.94zm-11 1L8.5 8.5l.94-2.06 2.06-.94-2.06-.94L8.5 2.5l-.94 2.06-2.06.94zm10 10l.94 2.06.94-2.06 2.06-.94-2.06-.94-.94-2.06-.94 2.06-2.06.94z\"/><path d=\"M17.41 7.96l-1.37-1.37c-.4-.4-.92-.59-1.43-.59-.52 0-1.04.2-1.43.59L10.3 9.45l-7.72 7.72c-.78.78-.78 2.05 0 2.83L4 21.41c.39.39.9.59 1.41.59.51 0 1.02-.2 1.41-.59l7.78-7.78 2.81-2.81c.8-.78.8-2.07 0-2.86zM5.41 20L4 18.59l7.72-7.72 1.47 1.35L5.41 20z\"/>\n",
              "  </svg>\n",
              "      </button>\n",
              "      \n",
              "  <style>\n",
              "    .colab-df-container {\n",
              "      display:flex;\n",
              "      flex-wrap:wrap;\n",
              "      gap: 12px;\n",
              "    }\n",
              "\n",
              "    .colab-df-convert {\n",
              "      background-color: #E8F0FE;\n",
              "      border: none;\n",
              "      border-radius: 50%;\n",
              "      cursor: pointer;\n",
              "      display: none;\n",
              "      fill: #1967D2;\n",
              "      height: 32px;\n",
              "      padding: 0 0 0 0;\n",
              "      width: 32px;\n",
              "    }\n",
              "\n",
              "    .colab-df-convert:hover {\n",
              "      background-color: #E2EBFA;\n",
              "      box-shadow: 0px 1px 2px rgba(60, 64, 67, 0.3), 0px 1px 3px 1px rgba(60, 64, 67, 0.15);\n",
              "      fill: #174EA6;\n",
              "    }\n",
              "\n",
              "    [theme=dark] .colab-df-convert {\n",
              "      background-color: #3B4455;\n",
              "      fill: #D2E3FC;\n",
              "    }\n",
              "\n",
              "    [theme=dark] .colab-df-convert:hover {\n",
              "      background-color: #434B5C;\n",
              "      box-shadow: 0px 1px 3px 1px rgba(0, 0, 0, 0.15);\n",
              "      filter: drop-shadow(0px 1px 2px rgba(0, 0, 0, 0.3));\n",
              "      fill: #FFFFFF;\n",
              "    }\n",
              "  </style>\n",
              "\n",
              "      <script>\n",
              "        const buttonEl =\n",
              "          document.querySelector('#df-66d6c292-152c-4d12-823d-f6e854545df9 button.colab-df-convert');\n",
              "        buttonEl.style.display =\n",
              "          google.colab.kernel.accessAllowed ? 'block' : 'none';\n",
              "\n",
              "        async function convertToInteractive(key) {\n",
              "          const element = document.querySelector('#df-66d6c292-152c-4d12-823d-f6e854545df9');\n",
              "          const dataTable =\n",
              "            await google.colab.kernel.invokeFunction('convertToInteractive',\n",
              "                                                     [key], {});\n",
              "          if (!dataTable) return;\n",
              "\n",
              "          const docLinkHtml = 'Like what you see? Visit the ' +\n",
              "            '<a target=\"_blank\" href=https://colab.research.google.com/notebooks/data_table.ipynb>data table notebook</a>'\n",
              "            + ' to learn more about interactive tables.';\n",
              "          element.innerHTML = '';\n",
              "          dataTable['output_type'] = 'display_data';\n",
              "          await google.colab.output.renderOutput(dataTable, element);\n",
              "          const docLink = document.createElement('div');\n",
              "          docLink.innerHTML = docLinkHtml;\n",
              "          element.appendChild(docLink);\n",
              "        }\n",
              "      </script>\n",
              "    </div>\n",
              "  </div>\n",
              "  "
            ]
          },
          "metadata": {},
          "execution_count": 182
        }
      ]
    },
    {
      "cell_type": "markdown",
      "source": [
        "**5. Model Seçme**\n",
        "\n",
        "● Birkaç regresyon modeli seçiniz bunları ön işleme yapılan veri ile eğitiniz\n",
        "\n",
        "● Seçilen modellerin performanslarını çapraz doğrulama kullanarak inceleyiniz.\n",
        "\n",
        "● En iyi performans gösteren modeli seçiniz"
      ],
      "metadata": {
        "id": "Ks7mjzHi2KRu"
      }
    },
    {
      "cell_type": "markdown",
      "source": [
        "# **LINEAR REGRESSION**"
      ],
      "metadata": {
        "id": "4vudd_lv8QVo"
      }
    },
    {
      "cell_type": "code",
      "source": [
        "df=last_df"
      ],
      "metadata": {
        "id": "ZKqgf1uuz4eo"
      },
      "execution_count": null,
      "outputs": []
    },
    {
      "cell_type": "code",
      "source": [
        "#modeli oluşturuyoruz\n",
        "from sklearn.model_selection import train_test_split\n",
        "#x = df.drop([\"charges\"], axis=1)\n",
        "#y = df[\"charges\"]\n",
        "\n",
        "x_train, x_test, y_train, y_test = train_test_split(x, y, test_size=0.3, random_state=101)\n"
      ],
      "metadata": {
        "id": "mG_A0gkMbhMv"
      },
      "execution_count": null,
      "outputs": []
    },
    {
      "cell_type": "code",
      "source": [
        "linear_regression_model = LinearRegression()"
      ],
      "metadata": {
        "id": "AP3a9-kUcFgR"
      },
      "execution_count": null,
      "outputs": []
    },
    {
      "cell_type": "code",
      "source": [
        "linear_regression_model.fit(x_train, y_train)"
      ],
      "metadata": {
        "colab": {
          "base_uri": "https://localhost:8080/"
        },
        "id": "ynr90MwXfBjM",
        "outputId": "2fde78ba-9978-4738-e8d3-5dfcc9c1f594"
      },
      "execution_count": null,
      "outputs": [
        {
          "output_type": "execute_result",
          "data": {
            "text/plain": [
              "LinearRegression()"
            ]
          },
          "metadata": {},
          "execution_count": 188
        }
      ]
    },
    {
      "cell_type": "code",
      "source": [
        "linear_regression_model.coef_"
      ],
      "metadata": {
        "colab": {
          "base_uri": "https://localhost:8080/"
        },
        "id": "ifPJAy3PfOxX",
        "outputId": "09c2663b-e749-49b0-958f-805ed320202d"
      },
      "execution_count": null,
      "outputs": [
        {
          "output_type": "execute_result",
          "data": {
            "text/plain": [
              "array([  263.98849881,   350.14390788,   460.51292903,  -472.58361648,\n",
              "       23652.68600122,   508.16768846,   587.48978571,  -325.54832772,\n",
              "        -770.10914645])"
            ]
          },
          "metadata": {},
          "execution_count": 189
        }
      ]
    },
    {
      "cell_type": "code",
      "source": [
        "y_pred = linear_regression_model.predict(x_test)\n",
        "y_pred"
      ],
      "metadata": {
        "colab": {
          "base_uri": "https://localhost:8080/"
        },
        "id": "gHjXbLzi0SDs",
        "outputId": "ccfea0ca-b7ce-4ec0-e9ef-1c3fbb6f3d28"
      },
      "execution_count": null,
      "outputs": [
        {
          "output_type": "execute_result",
          "data": {
            "text/plain": [
              "array([10697.4057598 ,  2500.64927929,  9804.12751161, 27379.05301969,\n",
              "        6802.12432272, 31816.59714643, 16151.32303725, 26664.07855951,\n",
              "        8541.29214928,  6675.62866372,  9775.35300174,  8323.59677493,\n",
              "        4857.20130161, 13084.17306342, 13327.90115235,  5072.80991794,\n",
              "        6789.42623248,  9311.65414488, 14848.37667496, 13533.95645253,\n",
              "        2728.11928809,  1930.19829875,  5761.88310583,  6515.92034003,\n",
              "       33361.79045051, 24864.28737918,  6545.36511753, -2044.73696528,\n",
              "        9757.20188721, 29242.5028521 , 24354.33589731, 11611.80315816,\n",
              "        8207.07650267, 15581.43606605,  5768.28294854,  2770.26008836,\n",
              "       39524.02505656, 10810.25181949, 36148.71733807, 30692.41334326,\n",
              "       10255.37994179,  6271.23234061,  9818.71046286, 34647.45068794,\n",
              "        1150.74783957,  6242.30708658, 11988.92545809,  3428.69199981,\n",
              "        8448.71521948, -1782.01837522, 11392.21499114,  6765.94566697,\n",
              "       13556.12367197,  7311.77029934,  2361.19692261, 17467.87138756,\n",
              "        8827.83320657, 11638.77790604, 11166.04885263,  3759.26675865,\n",
              "       17479.28893821,  8229.77889292,  6335.70833961, 15342.19364062,\n",
              "        5718.52895616, 10194.20894872,  6004.18624454,  9320.46289094,\n",
              "        3794.87041784, 31902.77164729, 14535.81187087, 25659.10276494,\n",
              "       32358.17563556, 31749.93981461,  5491.88422594,  4207.44137636,\n",
              "        7116.93717348, 14798.18639966, 39716.32347242, 37719.07163342,\n",
              "        8051.42461667,  9343.08497711,  5832.98251752,  9639.57831242,\n",
              "       16405.44411964, 11213.11008183, 14343.30720007,  8311.92325223,\n",
              "       27392.33701454,  8556.358163  ,  4930.08113479,  7733.24542364,\n",
              "        6726.74778674, 39175.55172005,  6331.62876059,  3038.50380584,\n",
              "        3424.00590766,  5132.39824031, 10997.37793419,  2125.90953422,\n",
              "       13534.21503262, 13262.36517632, 28806.74376112,  8864.75606998,\n",
              "        5429.06536582,  4543.11270142, 17336.6375101 , 18821.28800288,\n",
              "       30411.73608539,  6969.55677805, 14751.59836818, 12635.51816306,\n",
              "       26396.24763229,  1752.83254349, 13572.73086248, 34023.92441894,\n",
              "       29085.24048487,  2011.19873204,  1333.92976279,  9181.33869007,\n",
              "       10837.52999482,  9265.3514464 ,  7614.27828253,  1275.52922968,\n",
              "        7804.33640604, 12989.82366512, 12736.74074092, 11250.79619025,\n",
              "        6210.26452941,  1238.48389386,  6300.04161073, 12325.6528884 ,\n",
              "       29307.52415196,  4565.18701517,  8985.48008459,  1323.65804898,\n",
              "       10023.06463687,  9814.58780895, 37335.15018716, 12077.42280888,\n",
              "       10113.85828842,  6606.50380175, 10961.20654548,  6229.75114547,\n",
              "       10734.07509827, 32202.2142162 ,  6981.37640231, 12966.03400436,\n",
              "       38969.29322653,  9399.300781  ,  2804.0045704 , 12419.42924392,\n",
              "        3206.02979984, 13509.38670569, 17954.9301623 ,  9169.88648568,\n",
              "        9681.21841141, 28672.90143115,  5552.96377537,  7761.66405689,\n",
              "       29366.94857764, 16011.37613325, 26909.11987986, 12182.99634246,\n",
              "       28423.25187132,  2523.13852032, 37368.48468242, 12401.01167093,\n",
              "        7248.65783357,  2916.55308955,  8945.47601757,  2073.85733964,\n",
              "       33498.36504469, 31700.86451915,  4065.89594995, 14190.42722701,\n",
              "        9986.22949089, 31970.48313488,  7185.61339869, 13855.66964334,\n",
              "       10497.91596431, -1551.88282641,  8086.61222832,  6663.08132798,\n",
              "        1670.91162009,  5555.49542168,  3152.40112253, 10438.0257912 ,\n",
              "       14162.56389343, 27889.21157746,  4193.3468665 , 37515.24786357,\n",
              "        8349.34705434, 11899.95792736, 27879.77734976, 15734.66269809,\n",
              "        9117.78603701,  4072.75671298,  5460.90307089,  3249.25311949,\n",
              "       14142.41750651, 13617.8233675 , 11197.89668776, 12975.04709454,\n",
              "        9121.7794583 ,  5984.58452645,  6407.39842256,  8647.19835755,\n",
              "        6746.92736439,   362.56400773,  8708.12609409, 17075.72343928,\n",
              "        7976.94368564,  9056.80367042,  7904.08991023,  3929.69088574,\n",
              "       13896.72749224, 11545.29424282,  8699.7310722 , 11384.32027719,\n",
              "       36538.26425147, 14336.73674454, 18332.12666039, 11852.03615136,\n",
              "        8686.5245367 , 13677.87407351, 15182.4348287 ,  9234.20407941,\n",
              "       10524.10501064, 29535.42531461, 14874.04869728, 11046.97972944,\n",
              "       11034.89476698,  9545.47964459, 35469.12405652, 13448.53266967,\n",
              "       28574.80147401,  9087.61304005, 22693.39515036,  4070.9071579 ,\n",
              "        5906.07175218, 11920.4741752 , 25004.34494233,  5856.30844598,\n",
              "        8989.92887025,  4979.3593214 ,  9036.85723677,  3702.18596509,\n",
              "       11031.29614507,  5966.22075315, 26842.71111783, 18371.50552616,\n",
              "        4317.15922168, 26565.02734107,  8981.64546285, -1251.47666461,\n",
              "       36439.58785514,  4624.6422322 ,  2070.83452016, 12799.97879512,\n",
              "       31509.01775178, 12487.38815053, 16362.15694195, 12382.09784987,\n",
              "       32323.72781922,   -68.6795734 , 30065.92333804, 14014.11226373,\n",
              "        3340.44206804, 15291.60792201,  9767.27663764, 30099.69166912,\n",
              "       11374.73414422,  -722.58484653, 11085.62786595,  6682.5920172 ,\n",
              "       34798.45395875, 10117.03247469, 13154.94214827, 11631.08376705,\n",
              "        1004.27616904,  7813.20351871, 12828.27183993, 35941.85169895,\n",
              "       27665.70083385, 13038.55460745,  6921.65966732, 27026.05414758,\n",
              "       10802.3612577 , 12735.02479916, 11545.61118952, 33340.65626959,\n",
              "       10666.3672652 ,  4965.67301123, 12062.91430355, 13402.70347295,\n",
              "        4368.46616214, 14595.01716944,  8129.0080782 ,  8314.88081083,\n",
              "       14118.20389442,  9676.16603939, 14624.92483854, 30204.33639794,\n",
              "       11104.71570657,  6655.86724403, 13596.45249236,  4240.76731859,\n",
              "        9384.44406225,  1886.26074392,  6643.56486556, 13128.50791706,\n",
              "       13354.85685045,  1703.91243505, 16763.36738958,  4768.21471074,\n",
              "       38428.38761306, 12602.18496413,  9299.97630304,  7564.06111816,\n",
              "       12204.29030992, 10411.51679074, 10688.06350599, 34031.12035611,\n",
              "       22611.99109432, 34032.43706597,  4888.20709405, 15681.63731643,\n",
              "        6458.82893632, 11184.16184312,  3474.43347912,  8868.56264759,\n",
              "        5143.23154512, 26964.95269254,  1614.79581286, 27676.41194661,\n",
              "        4010.20465438, 15709.64546527, 10442.79348451, 11625.56149546,\n",
              "        8718.63771002, 10840.60949769, 11555.82154474, 22992.39803995,\n",
              "        2600.35008652, 10065.64769191, 10504.96337034,  7536.52457061,\n",
              "        5026.66746163, 31781.55926298, 15080.77036279,  1894.81455502,\n",
              "        3492.65412133, 27421.3993088 ,  6460.60932615,   100.91550721,\n",
              "       25662.19708341, 33517.75996726, 12674.20772176,  8972.5547802 ,\n",
              "        3209.5935099 , 14929.44999973, 35295.06537466, 17499.7578547 ,\n",
              "       33183.56451517,  8646.50905048,  4383.15359492,  9661.24654167,\n",
              "        4930.75140241, 33938.20247897,   483.31267008,  5932.88755422,\n",
              "        8084.68413577, 10751.5219661 , 26158.97106709, 17936.43524461,\n",
              "        5771.6574925 , 14623.28453038, 10712.41491406, 40136.43309219,\n",
              "       11096.83627324, 30613.70830869, 30489.47028073, 13903.77941285,\n",
              "       12029.20628251,  6397.83449626, 36667.90405973,  6998.57870694,\n",
              "       36886.92469696, 35854.77018429, 29603.37306015,  6200.01526179,\n",
              "       12817.86390683,  6626.39019855,  4627.65049629,  1674.8754428 ,\n",
              "        2909.90999031, 30445.46994694, 11497.40309245, 38485.19462878,\n",
              "       36930.93736234, 14804.54901319])"
            ]
          },
          "metadata": {},
          "execution_count": 190
        }
      ]
    },
    {
      "cell_type": "code",
      "source": [
        "from sklearn import preprocessing , model_selection , tree , metrics"
      ],
      "metadata": {
        "id": "tAbqz7A1o6iK"
      },
      "execution_count": null,
      "outputs": []
    },
    {
      "cell_type": "code",
      "source": [
        "print (f'MSE: {metrics.mean_squared_error(y_test , y_pred)}')\n",
        "\n",
        "print (f'MAE: {metrics.mean_absolute_error(y_test , y_pred)}')\n",
        "\n",
        "print (f'r2_score: {metrics.r2_score(y_test , y_pred)}')\n",
        "\n",
        "print (f'RMSE: {np.sqrt(metrics.mean_squared_error(y_test , y_pred))}')"
      ],
      "metadata": {
        "colab": {
          "base_uri": "https://localhost:8080/"
        },
        "id": "m0uszKkR0BeP",
        "outputId": "1de17225-ea64-480e-981c-f619d81fc156"
      },
      "execution_count": null,
      "outputs": [
        {
          "output_type": "stream",
          "name": "stdout",
          "text": [
            "MSE: 33886208.68909374\n",
            "MAE: 4122.630475724517\n",
            "r2_score: 0.7567251462757011\n",
            "RMSE: 5821.1861926151905\n"
          ]
        }
      ]
    },
    {
      "cell_type": "code",
      "source": [
        "pd.DataFrame({'Actual': y_test, 'Predicted': y_pred, 'diff':(abs(y_test-y_pred))})"
      ],
      "metadata": {
        "colab": {
          "base_uri": "https://localhost:8080/",
          "height": 424
        },
        "id": "00rw7LtS0Lzb",
        "outputId": "897acb29-b186-4011-dfdc-20bdc3eae07d"
      },
      "execution_count": null,
      "outputs": [
        {
          "output_type": "execute_result",
          "data": {
            "text/plain": [
              "           Actual     Predicted          diff\n",
              "44     6079.67150  10697.405760   4617.734260\n",
              "134    2155.68150   2500.649279    344.967779\n",
              "980   28340.18885   9804.127512  18536.061338\n",
              "618   34617.84065  27379.053020   7238.787630\n",
              "1238   6059.17300   6802.124323    742.951323\n",
              "...           ...           ...           ...\n",
              "375   38126.24650  30445.469947   7680.776553\n",
              "686    8068.18500  11497.403092   3429.218092\n",
              "103   30942.19180  38485.194629   7543.002829\n",
              "1137  52590.82939  36930.937362  15659.892028\n",
              "714   12231.61360  14804.549013   2572.935413\n",
              "\n",
              "[402 rows x 3 columns]"
            ],
            "text/html": [
              "\n",
              "  <div id=\"df-9cf08e74-0f5c-48c9-8b99-ffaa65d3310d\">\n",
              "    <div class=\"colab-df-container\">\n",
              "      <div>\n",
              "<style scoped>\n",
              "    .dataframe tbody tr th:only-of-type {\n",
              "        vertical-align: middle;\n",
              "    }\n",
              "\n",
              "    .dataframe tbody tr th {\n",
              "        vertical-align: top;\n",
              "    }\n",
              "\n",
              "    .dataframe thead th {\n",
              "        text-align: right;\n",
              "    }\n",
              "</style>\n",
              "<table border=\"1\" class=\"dataframe\">\n",
              "  <thead>\n",
              "    <tr style=\"text-align: right;\">\n",
              "      <th></th>\n",
              "      <th>Actual</th>\n",
              "      <th>Predicted</th>\n",
              "      <th>diff</th>\n",
              "    </tr>\n",
              "  </thead>\n",
              "  <tbody>\n",
              "    <tr>\n",
              "      <th>44</th>\n",
              "      <td>6079.67150</td>\n",
              "      <td>10697.405760</td>\n",
              "      <td>4617.734260</td>\n",
              "    </tr>\n",
              "    <tr>\n",
              "      <th>134</th>\n",
              "      <td>2155.68150</td>\n",
              "      <td>2500.649279</td>\n",
              "      <td>344.967779</td>\n",
              "    </tr>\n",
              "    <tr>\n",
              "      <th>980</th>\n",
              "      <td>28340.18885</td>\n",
              "      <td>9804.127512</td>\n",
              "      <td>18536.061338</td>\n",
              "    </tr>\n",
              "    <tr>\n",
              "      <th>618</th>\n",
              "      <td>34617.84065</td>\n",
              "      <td>27379.053020</td>\n",
              "      <td>7238.787630</td>\n",
              "    </tr>\n",
              "    <tr>\n",
              "      <th>1238</th>\n",
              "      <td>6059.17300</td>\n",
              "      <td>6802.124323</td>\n",
              "      <td>742.951323</td>\n",
              "    </tr>\n",
              "    <tr>\n",
              "      <th>...</th>\n",
              "      <td>...</td>\n",
              "      <td>...</td>\n",
              "      <td>...</td>\n",
              "    </tr>\n",
              "    <tr>\n",
              "      <th>375</th>\n",
              "      <td>38126.24650</td>\n",
              "      <td>30445.469947</td>\n",
              "      <td>7680.776553</td>\n",
              "    </tr>\n",
              "    <tr>\n",
              "      <th>686</th>\n",
              "      <td>8068.18500</td>\n",
              "      <td>11497.403092</td>\n",
              "      <td>3429.218092</td>\n",
              "    </tr>\n",
              "    <tr>\n",
              "      <th>103</th>\n",
              "      <td>30942.19180</td>\n",
              "      <td>38485.194629</td>\n",
              "      <td>7543.002829</td>\n",
              "    </tr>\n",
              "    <tr>\n",
              "      <th>1137</th>\n",
              "      <td>52590.82939</td>\n",
              "      <td>36930.937362</td>\n",
              "      <td>15659.892028</td>\n",
              "    </tr>\n",
              "    <tr>\n",
              "      <th>714</th>\n",
              "      <td>12231.61360</td>\n",
              "      <td>14804.549013</td>\n",
              "      <td>2572.935413</td>\n",
              "    </tr>\n",
              "  </tbody>\n",
              "</table>\n",
              "<p>402 rows × 3 columns</p>\n",
              "</div>\n",
              "      <button class=\"colab-df-convert\" onclick=\"convertToInteractive('df-9cf08e74-0f5c-48c9-8b99-ffaa65d3310d')\"\n",
              "              title=\"Convert this dataframe to an interactive table.\"\n",
              "              style=\"display:none;\">\n",
              "        \n",
              "  <svg xmlns=\"http://www.w3.org/2000/svg\" height=\"24px\"viewBox=\"0 0 24 24\"\n",
              "       width=\"24px\">\n",
              "    <path d=\"M0 0h24v24H0V0z\" fill=\"none\"/>\n",
              "    <path d=\"M18.56 5.44l.94 2.06.94-2.06 2.06-.94-2.06-.94-.94-2.06-.94 2.06-2.06.94zm-11 1L8.5 8.5l.94-2.06 2.06-.94-2.06-.94L8.5 2.5l-.94 2.06-2.06.94zm10 10l.94 2.06.94-2.06 2.06-.94-2.06-.94-.94-2.06-.94 2.06-2.06.94z\"/><path d=\"M17.41 7.96l-1.37-1.37c-.4-.4-.92-.59-1.43-.59-.52 0-1.04.2-1.43.59L10.3 9.45l-7.72 7.72c-.78.78-.78 2.05 0 2.83L4 21.41c.39.39.9.59 1.41.59.51 0 1.02-.2 1.41-.59l7.78-7.78 2.81-2.81c.8-.78.8-2.07 0-2.86zM5.41 20L4 18.59l7.72-7.72 1.47 1.35L5.41 20z\"/>\n",
              "  </svg>\n",
              "      </button>\n",
              "      \n",
              "  <style>\n",
              "    .colab-df-container {\n",
              "      display:flex;\n",
              "      flex-wrap:wrap;\n",
              "      gap: 12px;\n",
              "    }\n",
              "\n",
              "    .colab-df-convert {\n",
              "      background-color: #E8F0FE;\n",
              "      border: none;\n",
              "      border-radius: 50%;\n",
              "      cursor: pointer;\n",
              "      display: none;\n",
              "      fill: #1967D2;\n",
              "      height: 32px;\n",
              "      padding: 0 0 0 0;\n",
              "      width: 32px;\n",
              "    }\n",
              "\n",
              "    .colab-df-convert:hover {\n",
              "      background-color: #E2EBFA;\n",
              "      box-shadow: 0px 1px 2px rgba(60, 64, 67, 0.3), 0px 1px 3px 1px rgba(60, 64, 67, 0.15);\n",
              "      fill: #174EA6;\n",
              "    }\n",
              "\n",
              "    [theme=dark] .colab-df-convert {\n",
              "      background-color: #3B4455;\n",
              "      fill: #D2E3FC;\n",
              "    }\n",
              "\n",
              "    [theme=dark] .colab-df-convert:hover {\n",
              "      background-color: #434B5C;\n",
              "      box-shadow: 0px 1px 3px 1px rgba(0, 0, 0, 0.15);\n",
              "      filter: drop-shadow(0px 1px 2px rgba(0, 0, 0, 0.3));\n",
              "      fill: #FFFFFF;\n",
              "    }\n",
              "  </style>\n",
              "\n",
              "      <script>\n",
              "        const buttonEl =\n",
              "          document.querySelector('#df-9cf08e74-0f5c-48c9-8b99-ffaa65d3310d button.colab-df-convert');\n",
              "        buttonEl.style.display =\n",
              "          google.colab.kernel.accessAllowed ? 'block' : 'none';\n",
              "\n",
              "        async function convertToInteractive(key) {\n",
              "          const element = document.querySelector('#df-9cf08e74-0f5c-48c9-8b99-ffaa65d3310d');\n",
              "          const dataTable =\n",
              "            await google.colab.kernel.invokeFunction('convertToInteractive',\n",
              "                                                     [key], {});\n",
              "          if (!dataTable) return;\n",
              "\n",
              "          const docLinkHtml = 'Like what you see? Visit the ' +\n",
              "            '<a target=\"_blank\" href=https://colab.research.google.com/notebooks/data_table.ipynb>data table notebook</a>'\n",
              "            + ' to learn more about interactive tables.';\n",
              "          element.innerHTML = '';\n",
              "          dataTable['output_type'] = 'display_data';\n",
              "          await google.colab.output.renderOutput(dataTable, element);\n",
              "          const docLink = document.createElement('div');\n",
              "          docLink.innerHTML = docLinkHtml;\n",
              "          element.appendChild(docLink);\n",
              "        }\n",
              "      </script>\n",
              "    </div>\n",
              "  </div>\n",
              "  "
            ]
          },
          "metadata": {},
          "execution_count": 196
        }
      ]
    },
    {
      "cell_type": "code",
      "source": [
        "sns.residplot(y_test, y_pred)  \n",
        "plt.show()"
      ],
      "metadata": {
        "colab": {
          "base_uri": "https://localhost:8080/",
          "height": 285
        },
        "id": "81awsFAc0a5J",
        "outputId": "309e13bf-e9cf-4e7d-c2dd-7808dcc81e08"
      },
      "execution_count": null,
      "outputs": [
        {
          "output_type": "display_data",
          "data": {
            "text/plain": [
              "<Figure size 432x288 with 1 Axes>"
            ],
            "image/png": "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\n"
          },
          "metadata": {}
        }
      ]
    },
    {
      "cell_type": "markdown",
      "source": [
        "# **KNN- K-NEAREST NEIGHBORS MODELI**"
      ],
      "metadata": {
        "id": "Thtp1Lmw8HQD"
      }
    },
    {
      "cell_type": "code",
      "source": [
        "knn=KNeighborsRegressor(n_neighbors=5)\n",
        "knn.fit(x_train,y_train)"
      ],
      "metadata": {
        "colab": {
          "base_uri": "https://localhost:8080/"
        },
        "id": "Z9wrh0ou7f_v",
        "outputId": "45fbc22e-9513-4f44-937d-85e7e6651b10"
      },
      "execution_count": null,
      "outputs": [
        {
          "output_type": "execute_result",
          "data": {
            "text/plain": [
              "KNeighborsRegressor()"
            ]
          },
          "metadata": {},
          "execution_count": 198
        }
      ]
    },
    {
      "cell_type": "code",
      "source": [
        "predicted_value=knn.predict(x_test)\n",
        "predicted_value"
      ],
      "metadata": {
        "colab": {
          "base_uri": "https://localhost:8080/"
        },
        "id": "WdCFtOAp7mvN",
        "outputId": "7eb5eb08-2a97-47a2-adeb-7815a6ce8643"
      },
      "execution_count": null,
      "outputs": [
        {
          "output_type": "execute_result",
          "data": {
            "text/plain": [
              "array([29474.955426 ,  7547.77899  ,  7964.74207  ,  7773.51802  ,\n",
              "        9127.32124  , 17313.16865  , 26987.82248  ,  9273.65791  ,\n",
              "       10106.82382  , 15861.532664 ,  6617.98189  , 11578.53391  ,\n",
              "       21227.749764 , 12872.33582  , 12078.66663  ,  9991.57321  ,\n",
              "        9207.4755   , 12424.47206  , 13012.214718 , 10660.26324  ,\n",
              "        2971.97154  ,  5343.98227  ,  8892.4116   , 11498.01154  ,\n",
              "       15514.07103  ,  7818.79398  ,  3157.74624  ,  1513.74415  ,\n",
              "       13168.503768 , 19520.969488 ,  2060.6226   , 12927.067908 ,\n",
              "       12926.48168  , 13164.772438 ,  7549.298498 ,  7553.64428  ,\n",
              "       27806.18388  , 11760.20798  , 16905.70897  , 13075.65885  ,\n",
              "       10417.036896 , 13105.913642 , 19577.563762 , 16959.87335  ,\n",
              "        8220.20269  ,  9218.44552  ,  9144.53772  , 10687.57003  ,\n",
              "        8309.69509  ,  1493.64364  , 13615.708566 ,  4296.08461  ,\n",
              "       28946.622756 ,  5437.33092  ,  8688.19473  , 13719.27616  ,\n",
              "       23077.733688 , 11394.69215  , 23081.762468 , 13806.41257  ,\n",
              "       20904.59395  ,  6574.40157  ,  8229.79707  , 18211.270692 ,\n",
              "        9242.19786  , 16602.860076 ,  6616.859372 ,  8494.23924  ,\n",
              "       12780.066402 ,  8241.08147  , 17892.17917  ,  8011.78687  ,\n",
              "       10179.8589   ,  7505.65495  ,  9189.289548 ,  8684.11328  ,\n",
              "        6707.348484 , 16099.388526 , 20812.185154 , 16148.04194  ,\n",
              "       11520.6415   ,  9994.45586  ,  6165.477778 , 11944.38341  ,\n",
              "       21096.40513  , 17608.139406 , 15174.991392 ,  5490.73629  ,\n",
              "       15016.32624  ,  9696.88238  , 10995.345232 , 11158.4638   ,\n",
              "        4678.15925  , 22358.988388 ,  9692.25934  , 14442.42086  ,\n",
              "        6692.487314 ,  6474.29733  ,  8474.60594  ,  5726.1084   ,\n",
              "       13452.30284  , 22816.24498  ,  9250.978318 ,  7903.41375  ,\n",
              "       12079.1483   , 15276.91804  , 16321.64945  , 21808.04631  ,\n",
              "       17267.00241  , 13495.524482 , 11827.76687  , 14858.65623  ,\n",
              "        8512.12314  ,  4387.985684 , 13452.30284  , 22229.270988 ,\n",
              "        8955.43513  ,  7692.964904 ,  5343.98227  , 11271.5545   ,\n",
              "       12496.275812 ,  7728.737444 , 16313.64203  ,  5144.91358  ,\n",
              "       10763.84894  , 24091.423286 , 13269.006228 , 17986.883256 ,\n",
              "        9510.34559  ,  4475.62158  , 10690.006272 , 23157.77065  ,\n",
              "       10040.38473  , 10133.94856  ,  6936.57529  ,  8075.340658 ,\n",
              "        8474.60594  , 16287.47379  ,  5816.52283  , 16241.60683  ,\n",
              "       22359.818076 , 12158.45064  , 17508.329228 ,  4870.91305  ,\n",
              "       16162.573754 , 10035.03442  , 12651.67834  , 12255.42778  ,\n",
              "       27232.81898  , 11699.99938  ,  2042.36681  , 16455.38781  ,\n",
              "        3323.50765  , 21250.63961  , 21414.624642 , 23458.862662 ,\n",
              "       19171.228924 ,  7336.08592  ,  4897.23777  , 14104.08996  ,\n",
              "       14231.979594 , 27009.17356  ,  1784.27804  , 12187.75952  ,\n",
              "        7040.28381  ,  5916.04476  , 17659.44979  , 11370.93263  ,\n",
              "        9505.55658  , 11621.554554 , 14340.699784 ,  7648.03912  ,\n",
              "       14174.479264 , 10244.04045  ,  3541.94595  , 19547.585696 ,\n",
              "        9085.214842 , 14884.135314 , 16809.1113   , 23023.68799  ,\n",
              "        9656.466814 ,  2083.37425  ,  4820.07688  , 10105.46399  ,\n",
              "        4550.34099  ,  1892.58871  ,  4369.22396  ,  5403.21082  ,\n",
              "       18878.3208   ,  8703.26837  ,  8598.79247  , 25740.37468  ,\n",
              "        6438.52048  , 36343.65026  ,  2108.58046  , 16984.98093  ,\n",
              "       12343.63517  ,  6383.50555  , 11580.204402 ,  6093.194816 ,\n",
              "       16134.959976 , 17246.40472  ,  8844.43682  , 11881.73438  ,\n",
              "       19097.4281   ,  2593.94254  , 10598.27271  ,  7345.72596  ,\n",
              "       10388.745198 , 11529.060558 , 16904.32941  , 25417.312892 ,\n",
              "        9785.78553  , 23287.377236 ,  9509.81242  ,  6166.6498   ,\n",
              "       24184.017946 , 10978.830146 , 13803.05357  , 19542.766068 ,\n",
              "       28439.70292  , 25217.57494  , 24262.860122 , 18513.594572 ,\n",
              "        9027.65092  , 15274.250642 , 22798.388736 , 19178.452638 ,\n",
              "       14275.69058  ,  8260.90652  , 22707.541096 ,  8868.650274 ,\n",
              "       16584.524304 , 17773.612032 , 19829.743434 ,  9642.43626  ,\n",
              "       16490.21032  , 14308.56958  ,  6817.29581  ,  2150.36608  ,\n",
              "        8649.92214  , 16287.47379  ,  7819.09978  , 12719.106602 ,\n",
              "        8488.03894  ,  9074.564962 , 12475.69685  , 11005.823104 ,\n",
              "       17193.458976 ,  4568.87948  , 12504.515966 , 20900.68516  ,\n",
              "       12570.01802  , 14441.7119   ,  6937.51076  ,  1796.79597  ,\n",
              "        8948.886144 ,  7198.11277  ,  1691.02503  ,  8495.917534 ,\n",
              "       16330.111984 , 19503.16045  , 13170.79366  , 16870.632844 ,\n",
              "       13578.929144 ,  6776.269658 ,  1892.58871  , 10260.92604  ,\n",
              "        8932.59153  , 16857.75309  , 13632.90156  , 21725.84135  ,\n",
              "        9433.00228  ,  1805.40333  , 19850.197528 ,  2335.90743  ,\n",
              "       14832.1167   , 14188.64837  , 24580.94623  , 12486.34155  ,\n",
              "        2023.55591  ,  6534.7781   , 22329.25431  , 29695.653474 ,\n",
              "       21626.146716 ,  8963.73276  ,  8180.07071  ,  5374.64514  ,\n",
              "        5007.23996  , 24184.017946 , 21865.70218  , 14339.542874 ,\n",
              "        8711.934034 , 18810.507742 , 12776.1335   , 17946.56444  ,\n",
              "        4022.60059  , 18051.87644  , 10013.83122  ,  6753.22526  ,\n",
              "       16920.65675  , 15256.96693  , 15202.496012 , 10300.98115  ,\n",
              "       14071.75914  ,  9387.08723  , 19847.99927  ,  9197.769436 ,\n",
              "       12676.631006 ,  2473.49026  ,  4047.67354  , 22885.84358  ,\n",
              "       23242.66765  ,  5726.1084   , 28906.605198 ,  8603.25944  ,\n",
              "       23587.92662  , 16558.12366  , 13556.562062 ,  4636.94455  ,\n",
              "       15338.748664 ,  5565.34174  , 18718.44895  , 22157.001676 ,\n",
              "        2083.37425  , 17107.694186 , 10388.88938  , 17535.508376 ,\n",
              "        2695.66341  , 10565.645946 ,  6123.67562  , 14161.80581  ,\n",
              "        6368.799888 ,  6438.82332  ,  5893.3796   ,  5136.02689  ,\n",
              "       13658.353078 , 15394.74975  ,  8621.43218  , 10384.40764  ,\n",
              "       13324.079436 , 14745.69958  , 10443.129508 ,  7270.63119  ,\n",
              "       10737.12343  , 12096.23541  ,  5616.74138  , 10317.07553  ,\n",
              "        8684.75546  , 13602.795614 , 13183.09502  ,  4680.9496418,\n",
              "        8687.3585   , 17604.4566   ,  9843.84115  ,  3258.85418  ,\n",
              "       13850.5592   , 11359.67636  , 16662.746446 , 13528.9529   ,\n",
              "        5069.05979  , 27443.51257  , 12622.41945  , 20904.59395  ,\n",
              "       23532.649336 ,  6809.35097  ,  7071.62727  , 16695.636736 ,\n",
              "        1778.48125  , 25316.543264 ,  5343.98227  , 16269.26436  ,\n",
              "        8260.56974  , 22024.933434 , 14272.07642  , 29570.116588 ,\n",
              "        4431.67806  , 20117.78672  , 16399.177146 , 22682.781442 ,\n",
              "       14521.87056  , 24425.03722  , 11236.69407  , 19451.038294 ,\n",
              "        7183.82235  , 17264.5436   , 18201.442648 ,  4655.75669  ,\n",
              "       18268.67755  , 18903.991808 ,  9346.1126   ,  3301.56211  ,\n",
              "       13190.815024 , 17081.53955  , 11011.515104 ,  5174.69093  ,\n",
              "       12427.290466 ,  5423.638876 , 36343.65026  , 26252.418796 ,\n",
              "       26093.77697  , 12078.66663  ])"
            ]
          },
          "metadata": {},
          "execution_count": 199
        }
      ]
    },
    {
      "cell_type": "code",
      "source": [
        "comparing=pd.DataFrame({\"Test value\":y_test,\"Predicted Value\":predicted_value, 'diff':(abs(y_test-y_pred))})\n",
        "comparing"
      ],
      "metadata": {
        "colab": {
          "base_uri": "https://localhost:8080/",
          "height": 424
        },
        "id": "fFoYwyjl7pea",
        "outputId": "82046e89-127a-4268-baf9-44119bc8340b"
      },
      "execution_count": null,
      "outputs": [
        {
          "output_type": "execute_result",
          "data": {
            "text/plain": [
              "       Test value  Predicted Value          diff\n",
              "44     6079.67150     29474.955426   4617.734260\n",
              "134    2155.68150      7547.778990    344.967779\n",
              "980   28340.18885      7964.742070  18536.061338\n",
              "618   34617.84065      7773.518020   7238.787630\n",
              "1238   6059.17300      9127.321240    742.951323\n",
              "...           ...              ...           ...\n",
              "375   38126.24650      5423.638876   7680.776553\n",
              "686    8068.18500     36343.650260   3429.218092\n",
              "103   30942.19180     26252.418796   7543.002829\n",
              "1137  52590.82939     26093.776970  15659.892028\n",
              "714   12231.61360     12078.666630   2572.935413\n",
              "\n",
              "[402 rows x 3 columns]"
            ],
            "text/html": [
              "\n",
              "  <div id=\"df-71c515a3-b57b-43cc-b9c8-2fa97d8c00e5\">\n",
              "    <div class=\"colab-df-container\">\n",
              "      <div>\n",
              "<style scoped>\n",
              "    .dataframe tbody tr th:only-of-type {\n",
              "        vertical-align: middle;\n",
              "    }\n",
              "\n",
              "    .dataframe tbody tr th {\n",
              "        vertical-align: top;\n",
              "    }\n",
              "\n",
              "    .dataframe thead th {\n",
              "        text-align: right;\n",
              "    }\n",
              "</style>\n",
              "<table border=\"1\" class=\"dataframe\">\n",
              "  <thead>\n",
              "    <tr style=\"text-align: right;\">\n",
              "      <th></th>\n",
              "      <th>Test value</th>\n",
              "      <th>Predicted Value</th>\n",
              "      <th>diff</th>\n",
              "    </tr>\n",
              "  </thead>\n",
              "  <tbody>\n",
              "    <tr>\n",
              "      <th>44</th>\n",
              "      <td>6079.67150</td>\n",
              "      <td>29474.955426</td>\n",
              "      <td>4617.734260</td>\n",
              "    </tr>\n",
              "    <tr>\n",
              "      <th>134</th>\n",
              "      <td>2155.68150</td>\n",
              "      <td>7547.778990</td>\n",
              "      <td>344.967779</td>\n",
              "    </tr>\n",
              "    <tr>\n",
              "      <th>980</th>\n",
              "      <td>28340.18885</td>\n",
              "      <td>7964.742070</td>\n",
              "      <td>18536.061338</td>\n",
              "    </tr>\n",
              "    <tr>\n",
              "      <th>618</th>\n",
              "      <td>34617.84065</td>\n",
              "      <td>7773.518020</td>\n",
              "      <td>7238.787630</td>\n",
              "    </tr>\n",
              "    <tr>\n",
              "      <th>1238</th>\n",
              "      <td>6059.17300</td>\n",
              "      <td>9127.321240</td>\n",
              "      <td>742.951323</td>\n",
              "    </tr>\n",
              "    <tr>\n",
              "      <th>...</th>\n",
              "      <td>...</td>\n",
              "      <td>...</td>\n",
              "      <td>...</td>\n",
              "    </tr>\n",
              "    <tr>\n",
              "      <th>375</th>\n",
              "      <td>38126.24650</td>\n",
              "      <td>5423.638876</td>\n",
              "      <td>7680.776553</td>\n",
              "    </tr>\n",
              "    <tr>\n",
              "      <th>686</th>\n",
              "      <td>8068.18500</td>\n",
              "      <td>36343.650260</td>\n",
              "      <td>3429.218092</td>\n",
              "    </tr>\n",
              "    <tr>\n",
              "      <th>103</th>\n",
              "      <td>30942.19180</td>\n",
              "      <td>26252.418796</td>\n",
              "      <td>7543.002829</td>\n",
              "    </tr>\n",
              "    <tr>\n",
              "      <th>1137</th>\n",
              "      <td>52590.82939</td>\n",
              "      <td>26093.776970</td>\n",
              "      <td>15659.892028</td>\n",
              "    </tr>\n",
              "    <tr>\n",
              "      <th>714</th>\n",
              "      <td>12231.61360</td>\n",
              "      <td>12078.666630</td>\n",
              "      <td>2572.935413</td>\n",
              "    </tr>\n",
              "  </tbody>\n",
              "</table>\n",
              "<p>402 rows × 3 columns</p>\n",
              "</div>\n",
              "      <button class=\"colab-df-convert\" onclick=\"convertToInteractive('df-71c515a3-b57b-43cc-b9c8-2fa97d8c00e5')\"\n",
              "              title=\"Convert this dataframe to an interactive table.\"\n",
              "              style=\"display:none;\">\n",
              "        \n",
              "  <svg xmlns=\"http://www.w3.org/2000/svg\" height=\"24px\"viewBox=\"0 0 24 24\"\n",
              "       width=\"24px\">\n",
              "    <path d=\"M0 0h24v24H0V0z\" fill=\"none\"/>\n",
              "    <path d=\"M18.56 5.44l.94 2.06.94-2.06 2.06-.94-2.06-.94-.94-2.06-.94 2.06-2.06.94zm-11 1L8.5 8.5l.94-2.06 2.06-.94-2.06-.94L8.5 2.5l-.94 2.06-2.06.94zm10 10l.94 2.06.94-2.06 2.06-.94-2.06-.94-.94-2.06-.94 2.06-2.06.94z\"/><path d=\"M17.41 7.96l-1.37-1.37c-.4-.4-.92-.59-1.43-.59-.52 0-1.04.2-1.43.59L10.3 9.45l-7.72 7.72c-.78.78-.78 2.05 0 2.83L4 21.41c.39.39.9.59 1.41.59.51 0 1.02-.2 1.41-.59l7.78-7.78 2.81-2.81c.8-.78.8-2.07 0-2.86zM5.41 20L4 18.59l7.72-7.72 1.47 1.35L5.41 20z\"/>\n",
              "  </svg>\n",
              "      </button>\n",
              "      \n",
              "  <style>\n",
              "    .colab-df-container {\n",
              "      display:flex;\n",
              "      flex-wrap:wrap;\n",
              "      gap: 12px;\n",
              "    }\n",
              "\n",
              "    .colab-df-convert {\n",
              "      background-color: #E8F0FE;\n",
              "      border: none;\n",
              "      border-radius: 50%;\n",
              "      cursor: pointer;\n",
              "      display: none;\n",
              "      fill: #1967D2;\n",
              "      height: 32px;\n",
              "      padding: 0 0 0 0;\n",
              "      width: 32px;\n",
              "    }\n",
              "\n",
              "    .colab-df-convert:hover {\n",
              "      background-color: #E2EBFA;\n",
              "      box-shadow: 0px 1px 2px rgba(60, 64, 67, 0.3), 0px 1px 3px 1px rgba(60, 64, 67, 0.15);\n",
              "      fill: #174EA6;\n",
              "    }\n",
              "\n",
              "    [theme=dark] .colab-df-convert {\n",
              "      background-color: #3B4455;\n",
              "      fill: #D2E3FC;\n",
              "    }\n",
              "\n",
              "    [theme=dark] .colab-df-convert:hover {\n",
              "      background-color: #434B5C;\n",
              "      box-shadow: 0px 1px 3px 1px rgba(0, 0, 0, 0.15);\n",
              "      filter: drop-shadow(0px 1px 2px rgba(0, 0, 0, 0.3));\n",
              "      fill: #FFFFFF;\n",
              "    }\n",
              "  </style>\n",
              "\n",
              "      <script>\n",
              "        const buttonEl =\n",
              "          document.querySelector('#df-71c515a3-b57b-43cc-b9c8-2fa97d8c00e5 button.colab-df-convert');\n",
              "        buttonEl.style.display =\n",
              "          google.colab.kernel.accessAllowed ? 'block' : 'none';\n",
              "\n",
              "        async function convertToInteractive(key) {\n",
              "          const element = document.querySelector('#df-71c515a3-b57b-43cc-b9c8-2fa97d8c00e5');\n",
              "          const dataTable =\n",
              "            await google.colab.kernel.invokeFunction('convertToInteractive',\n",
              "                                                     [key], {});\n",
              "          if (!dataTable) return;\n",
              "\n",
              "          const docLinkHtml = 'Like what you see? Visit the ' +\n",
              "            '<a target=\"_blank\" href=https://colab.research.google.com/notebooks/data_table.ipynb>data table notebook</a>'\n",
              "            + ' to learn more about interactive tables.';\n",
              "          element.innerHTML = '';\n",
              "          dataTable['output_type'] = 'display_data';\n",
              "          await google.colab.output.renderOutput(dataTable, element);\n",
              "          const docLink = document.createElement('div');\n",
              "          docLink.innerHTML = docLinkHtml;\n",
              "          element.appendChild(docLink);\n",
              "        }\n",
              "      </script>\n",
              "    </div>\n",
              "  </div>\n",
              "  "
            ]
          },
          "metadata": {},
          "execution_count": 200
        }
      ]
    },
    {
      "cell_type": "markdown",
      "source": [
        "# **RANDOM FOREST**\n"
      ],
      "metadata": {
        "id": "0NKZhTtZ1Gdm"
      }
    },
    {
      "cell_type": "code",
      "source": [
        "Random_Forest_model= RandomForestRegressor(n_estimators=300)\n",
        "Random_Forest_model.fit(x_train, y_train)\n",
        "y_pred = Random_Forest_model.predict(x_test)"
      ],
      "metadata": {
        "id": "8TwK9heV1GLp"
      },
      "execution_count": null,
      "outputs": []
    },
    {
      "cell_type": "code",
      "source": [
        "from sklearn.metrics import mean_absolute_error, mean_squared_error\n",
        "mean_absolute_error(y_test, y_pred)"
      ],
      "metadata": {
        "colab": {
          "base_uri": "https://localhost:8080/"
        },
        "id": "e2gp55G_3I5Z",
        "outputId": "0eed0e0b-8422-49ef-ba16-4cc36eb9d35a"
      },
      "execution_count": null,
      "outputs": [
        {
          "output_type": "execute_result",
          "data": {
            "text/plain": [
              "2486.556514967631"
            ]
          },
          "metadata": {},
          "execution_count": 202
        }
      ]
    },
    {
      "cell_type": "code",
      "source": [
        "np.sqrt(mean_squared_error(y_test, y_pred))"
      ],
      "metadata": {
        "colab": {
          "base_uri": "https://localhost:8080/"
        },
        "id": "gtnMF4ly3Nd-",
        "outputId": "15355728-b229-463f-ff2c-28fc4184830f"
      },
      "execution_count": null,
      "outputs": [
        {
          "output_type": "execute_result",
          "data": {
            "text/plain": [
              "4493.6318282424345"
            ]
          },
          "metadata": {},
          "execution_count": 203
        }
      ]
    },
    {
      "cell_type": "markdown",
      "source": [
        "# **SUPPORT VECTOR REGRESSION**"
      ],
      "metadata": {
        "id": "axtWMoew8bfY"
      }
    },
    {
      "cell_type": "code",
      "source": [
        "from sklearn.svm import SVR\n",
        "SVR_model = SVR(kernel = 'rbf')\n",
        "SVR_model.fit(x_train, y_train)\n",
        "y_pred = SVR_model.predict(x_test)"
      ],
      "metadata": {
        "id": "ORcf3i0t6l8O"
      },
      "execution_count": null,
      "outputs": []
    },
    {
      "cell_type": "code",
      "source": [
        "mean_absolute_error(y_test, y_pred)"
      ],
      "metadata": {
        "colab": {
          "base_uri": "https://localhost:8080/"
        },
        "id": "0qAdK_9C6sbL",
        "outputId": "2bf7b07f-e5fe-4af3-aa7c-734fd9cf6839"
      },
      "execution_count": null,
      "outputs": [
        {
          "output_type": "execute_result",
          "data": {
            "text/plain": [
              "8052.640886151498"
            ]
          },
          "metadata": {},
          "execution_count": 205
        }
      ]
    },
    {
      "cell_type": "code",
      "source": [
        "np.sqrt(mean_squared_error(y_test, y_pred))"
      ],
      "metadata": {
        "colab": {
          "base_uri": "https://localhost:8080/"
        },
        "id": "NHIF4kz96ue8",
        "outputId": "2ecff74c-2936-4a89-ceba-df27018ef193"
      },
      "execution_count": null,
      "outputs": [
        {
          "output_type": "execute_result",
          "data": {
            "text/plain": [
              "12376.317683619025"
            ]
          },
          "metadata": {},
          "execution_count": 206
        }
      ]
    },
    {
      "cell_type": "code",
      "source": [
        "fig, ax = plt.subplots(1,2, figsize=(16,6))\n",
        "sns.set_style('dark')\n",
        "g = sns.scatterplot(y_pred,y_test, ax=ax[0], color='red')\n",
        "g.set_title('Random Forest Regressor')\n",
        "g.set_xlabel('Predict')\n",
        "\n",
        "\n",
        "\n",
        "sns.set_style('dark')\n",
        "f = sns.scatterplot(y_pred,y_test, ax=ax[1])\n",
        "f.set_title('Support Vector Regression')\n",
        "f.set_xlabel('Predict')"
      ],
      "metadata": {
        "colab": {
          "base_uri": "https://localhost:8080/",
          "height": 427
        },
        "id": "iEhwX6gP3Sx9",
        "outputId": "4cddcfc6-1f05-404a-9db4-990d9456ef73"
      },
      "execution_count": null,
      "outputs": [
        {
          "output_type": "execute_result",
          "data": {
            "text/plain": [
              "Text(0.5, 0, 'Predict')"
            ]
          },
          "metadata": {},
          "execution_count": 207
        },
        {
          "output_type": "display_data",
          "data": {
            "text/plain": [
              "<Figure size 1152x432 with 2 Axes>"
            ],
            "image/png": "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\n"
          },
          "metadata": {}
        }
      ]
    },
    {
      "cell_type": "markdown",
      "source": [
        "# **Sonuç:** \n",
        "\n",
        "burada sigara içenlerin ödediği ücretler içmeyenlere göre daha yüksek.\n",
        "bmi değerleri arttıkça ödenen ücretler de artmıştır. ama etkisi daha düşüktür.\n",
        "\n",
        "kullanmış olduğum modeller tahmin etme oranı olarak başarısız kalmıştır. tabi muhtemelen burada hatalar bulunduğundandır.\n",
        "\n",
        "model tahminlerine geldiğimizde, linear regression ve knn en iyi tahminleri vermiş. hatta sonuçlar aynı muhtemelen bu da benim hatam, inceleyeceğim.\n",
        "random forest ve support vector regresion benzer sonuçlar vermiştir.\n",
        "Teşekkürler !\n",
        "\n",
      ],
      "metadata": {
        "id": "EGezYnDEgpcq"
      }
    }
  ]
}
